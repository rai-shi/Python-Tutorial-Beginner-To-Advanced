{
 "cells": [
  {
   "cell_type": "markdown",
   "metadata": {},
   "source": [
    "# Comment Lines"
   ]
  },
  {
   "cell_type": "markdown",
   "metadata": {},
   "source": [
    "- **Comments are used to explain and describe the code. The essential purpose is to enhance the readability and interpretability of programs.**\n",
    "- **Comments can be one line or multiline. Therefore there two type of comment line.**\n",
    "    - **Single line comment and multiline comment**"
   ]
  },
  {
   "cell_type": "code",
   "execution_count": null,
   "metadata": {},
   "outputs": [
    {
     "name": "stdout",
     "output_type": "stream",
     "text": [
      "Help on function add in module __main__:\n",
      "\n",
      "add(num1, num2)\n",
      "    This function is for adding to numbers\n",
      "    args:  num1, num2\n",
      "    return: sum of num1 and num2 as integer\n",
      "\n"
     ]
    }
   ],
   "source": [
    "\"\"\"\n",
    "multiline comment\n",
    "you can use this comment type for documentation.\n",
    "you can write multi line in this comment section.\n",
    "\"\"\"\n",
    "\n",
    "# Single line comment \n",
    "# It can be used for short describing of code line or lines.\n",
    "# or can be used for spliting code section \n",
    "\n",
    "# Importing\n",
    "# ... importing libraries codes\n",
    "\n",
    "# Data Preprocessing\n",
    "# ... Data Preprocessing codes\n",
    "\n",
    "\n",
    "\n",
    "def add(num1, num2):\n",
    "    \"\"\"\n",
    "    This function is for adding to numbers\n",
    "    args:  num1, num2\n",
    "    return: sum of num1 and num2 as integer\n",
    "    \"\"\"\n",
    "    return num1 + num2\n",
    "\n",
    "help(add)           # prints the documentation of the function"
   ]
  },
  {
   "cell_type": "markdown",
   "metadata": {},
   "source": [
    "- **you can use the help() function to get the documentation of a function or a module**"
   ]
  },
  {
   "cell_type": "code",
   "execution_count": 3,
   "metadata": {},
   "outputs": [
    {
     "name": "stdout",
     "output_type": "stream",
     "text": [
      "Help on built-in function print in module builtins:\n",
      "\n",
      "print(*args, sep=' ', end='\\n', file=None, flush=False)\n",
      "    Prints the values to a stream, or to sys.stdout by default.\n",
      "\n",
      "    sep\n",
      "      string inserted between values, default a space.\n",
      "    end\n",
      "      string appended after the last value, default a newline.\n",
      "    file\n",
      "      a file-like object (stream); defaults to the current sys.stdout.\n",
      "    flush\n",
      "      whether to forcibly flush the stream.\n",
      "\n"
     ]
    }
   ],
   "source": [
    "help(print)"
   ]
  },
  {
   "cell_type": "markdown",
   "metadata": {},
   "source": [
    "# Print Function"
   ]
  },
  {
   "cell_type": "code",
   "execution_count": 10,
   "metadata": {},
   "outputs": [
    {
     "name": "stdout",
     "output_type": "stream",
     "text": [
      "Hello World!\n"
     ]
    }
   ],
   "source": [
    "print(\"Hello World!\")               # print function is used for printing some text, result to console."
   ]
  },
  {
   "cell_type": "code",
   "execution_count": null,
   "metadata": {},
   "outputs": [
    {
     "name": "stdout",
     "output_type": "stream",
     "text": [
      "Hello World\n",
      "Hello-World\n",
      "Hello\n",
      "World\n"
     ]
    }
   ],
   "source": [
    "# sep parameter\n",
    "\n",
    "print(\"Hello\", \"World\")             # will print Hello World to console with space between given texts, default value for sep (seperation paramater) is a space\n",
    "\n",
    "print(\"Hello\", \"World\", sep=\"-\")    # will seperate given texts with -\n",
    "\n",
    "print(\"Hello\", \"World\", sep=\"\\n\")   # will seperate given texts with new line, \\n makes new line"
   ]
  },
  {
   "cell_type": "code",
   "execution_count": 15,
   "metadata": {},
   "outputs": [
    {
     "name": "stdout",
     "output_type": "stream",
     "text": [
      "Hello World\n",
      "1-Hello World!\n",
      "2-Hello World!3-Hello World! 4-Hello World!,5-Hello World!*"
     ]
    }
   ],
   "source": [
    "# end parameter\n",
    "\n",
    "print(\"Hello World\")                # default end value is new line, print function moves to the next line after printing\n",
    "\n",
    "print(\"1-Hello World!\", end=\"\\n\")  \n",
    "\n",
    "print(\"2-Hello World!\", end=\"\")     # instead of a newline at the end, allowing subsequent output to appear on the same line.\n",
    "\n",
    "print(\"3-Hello World!\", end=\" \")    # will end printing with a space \n",
    "\n",
    "print(\"4-Hello World!\", end=\",\")    # will end printing with a comma (,) after printing the given text\n",
    "\n",
    "print(\"5-Hello World!\", end=\"*\")    # will end printing with an asteriks (*) after printing the given text"
   ]
  },
  {
   "cell_type": "code",
   "execution_count": 14,
   "metadata": {},
   "outputs": [
    {
     "name": "stdout",
     "output_type": "stream",
     "text": [
      "ab\n",
      "a b\n",
      "a:  a b:  1\n"
     ]
    }
   ],
   "source": [
    "a = \"a\"\n",
    "b = \"b\"\n",
    "\n",
    "print(a + b)        # \"ab\" - Concatenates the strings and prints them as one.\n",
    "print(a, b)         # \"a b\" - Prints the strings with a space between them.\n",
    "\n",
    "# so we can give multiple parameter with seperating them comma (,) to print them in console\n",
    "\n",
    "\n",
    "a1 = \"a\"\n",
    "b1 = 1\n",
    "# print(\"a: \"+ a1 + \"b: \" + b1)   # TypeError: can only concatenate str (not \"int\") to str\n",
    "print(\"a: \", a1 , \"b: \" , b1)   # a: a b: 1"
   ]
  },
  {
   "cell_type": "code",
   "execution_count": null,
   "metadata": {},
   "outputs": [
    {
     "name": "stdout",
     "output_type": "stream",
     "text": [
      "Value: 1\n",
      "Value: 1\n",
      "Value: 1\n",
      "Value: 1\n",
      "\n",
      "Name: Rai \n",
      "Surname: Shi\n"
     ]
    }
   ],
   "source": [
    "value = 1\n",
    "print(\"Value:\", value)\n",
    "\n",
    "print(\"Value: {}\".format(value))    # string.format()\n",
    "\n",
    "print(f\"Value: {value}\")            # f-string\n",
    "\n",
    "print(\"Value: %d\" % value)          # old formating\n",
    "\n",
    "print()\n",
    "\n",
    "name = \"Rai\"\n",
    "surname = \"Shi\"\n",
    "print(\"Name: {} \\nSurname: {}\".format(name, surname))"
   ]
  },
  {
   "cell_type": "markdown",
   "metadata": {},
   "source": [
    "# Variable Declaration and Assigning Values"
   ]
  },
  {
   "cell_type": "code",
   "execution_count": null,
   "metadata": {},
   "outputs": [
    {
     "name": "stdout",
     "output_type": "stream",
     "text": [
      "True\n"
     ]
    }
   ],
   "source": [
    "# variable declaration and assinging values\n",
    "\n",
    "variable = \"Hello World!\"\n",
    "variable = 1\n",
    "variable = 1.0\n",
    "variable = True\n",
    "\n",
    "print(variable)\n",
    "\n",
    "# Python is dynamically typed, allowing variables to change types.\n",
    "# While Python handles variable types automatically, it's good practice to maintain consistent types for readability and reliability.\n",
    "\n",
    "# variable content and type will be the last assiged value and its type."
   ]
  },
  {
   "cell_type": "code",
   "execution_count": 12,
   "metadata": {},
   "outputs": [
    {
     "name": "stdout",
     "output_type": "stream",
     "text": [
      "1\n",
      "2.3\n",
      "Rai\n",
      "True\n",
      "\n",
      "Felix\n",
      "False\n"
     ]
    }
   ],
   "source": [
    "# also we can assign multiple values to multiple variables in one line,\n",
    "\n",
    "x, y, name, isStudent = (1, 2.3, \"Rai\", True) # actually this () type is tuple and we uunpack the tuple to variables\n",
    "print(x)\n",
    "print(y)\n",
    "print(name)\n",
    "print(isStudent)\n",
    "\n",
    "print()\n",
    "\n",
    "# and another version is,\n",
    "\n",
    "name2, isStudent2 = \"Felix\", False\n",
    "print(name2)\n",
    "print(isStudent2)\n"
   ]
  },
  {
   "cell_type": "markdown",
   "metadata": {},
   "source": [
    "# Getting input from user"
   ]
  },
  {
   "cell_type": "markdown",
   "metadata": {},
   "source": [
    "**The input() function in Python is used to read input from the user during program execution. It pauses the program and waits for the user to type something on the keyboard. Once the user presses Enter, the input is returned as a string, which can be stored in a variable or used in the program.**"
   ]
  },
  {
   "cell_type": "code",
   "execution_count": null,
   "metadata": {},
   "outputs": [
    {
     "name": "stdout",
     "output_type": "stream",
     "text": [
      "Help on method raw_input in module ipykernel.kernelbase:\n",
      "\n",
      "raw_input(prompt='') method of ipykernel.ipkernel.IPythonKernel instance\n",
      "    Forward raw_input to frontends\n",
      "\n",
      "    Raises\n",
      "    ------\n",
      "    StdinNotImplementedError if active frontend doesn't support stdin.\n",
      "\n"
     ]
    }
   ],
   "source": [
    "help(input) \n",
    "\n",
    "\"\"\"\n",
    "if you write this code in cmd or a Python file you will get this information,\n",
    "\n",
    "Help on built-in function input in module builtins:\n",
    "\n",
    "input(prompt='', /)\n",
    "    Read a string from standard input.  The trailing newline is stripped.\n",
    "\n",
    "    The prompt string, if given, is printed to standard output without a\n",
    "    trailing newline before reading input.\n",
    "\n",
    "    If the user hits EOF (*nix: Ctrl-D, Windows: Ctrl-Z+Return), raise EOFError.\n",
    "    On *nix systems, readline is used if available.\n",
    "\"\"\""
   ]
  },
  {
   "cell_type": "code",
   "execution_count": null,
   "metadata": {},
   "outputs": [
    {
     "data": {
      "text/plain": [
       "'rai'"
      ]
     },
     "execution_count": 21,
     "metadata": {},
     "output_type": "execute_result"
    }
   ],
   "source": [
    "input(\"Enter your name: \")      # Waits for user input\n",
    "\n",
    "# In an IDE or editor with Python files, you'll need to enter your input in the command line (cmd)."
   ]
  },
  {
   "cell_type": "code",
   "execution_count": null,
   "metadata": {},
   "outputs": [
    {
     "name": "stdout",
     "output_type": "stream",
     "text": [
      "Hey! Rai\n",
      "<class 'str'>\n"
     ]
    }
   ],
   "source": [
    "name = input(\"Enter your name: \")\n",
    "print(\"Hey!\", name)\n",
    "\n",
    "print(type(name)) # input returns string value, if other type are needed type conversion can be done"
   ]
  },
  {
   "cell_type": "markdown",
   "metadata": {},
   "source": [
    "# Variable Naming"
   ]
  },
  {
   "cell_type": "markdown",
   "metadata": {},
   "source": [
    "camelcase"
   ]
  },
  {
   "cell_type": "markdown",
   "metadata": {},
   "source": [
    "# Python Basic Object and Data Types"
   ]
  },
  {
   "cell_type": "markdown",
   "metadata": {},
   "source": [
    "- int (integer)\n",
    "- float\n",
    "- complex\n",
    "- bool\n",
    "- str (string)\n",
    "- bytes\n",
    "- bytearray\n",
    "- memoryview\n",
    "\n",
    "**These are the basic datatypes of Python. Advanced data types like list, tuple, dict, set, frozenset, range will be explained later.**\n",
    "\n",
    "- octal \n",
    "- hexadecimal\n",
    "\n",
    "**Octal and Hexadecimal types are not a separate data type. Python allows octal literals by prefixing numbers with 0o and for hexadecimal 0x, but the data type remains int. Example: 0o12 is octal 10 and 0x1A is hexadecimal 26, but they are stored as an integer again.**\n",
    "\n",
    "- None\n",
    "\n",
    "**`None` is a special constant in Python used to represent the absence of a value or a null value. It is often used to initialize variables or as a placeholder in functions to indicate that no value has been assigned. None is special constant and its datatype is `NoneType`**\n",
    "\n",
    "\n",
    "**Basic data types in Python are built-in classes, and each one has a constructor that creates corresponding objects.**\n",
    "\n",
    "**type() function returns given variables data type.**"
   ]
  },
  {
   "cell_type": "code",
   "execution_count": 169,
   "metadata": {},
   "outputs": [
    {
     "name": "stdout",
     "output_type": "stream",
     "text": [
      "variable none value is None and its type is <class 'NoneType'>\n",
      "\n",
      "variable none new value is 1 and its type is <class 'int'>\n"
     ]
    }
   ],
   "source": [
    "none = None\n",
    "print(\"variable none value is\", none, \"and its type is\", type(none))\n",
    "\n",
    "print()\n",
    "\n",
    "none = 1\n",
    "print(\"variable none new value is\", none, \"and its type is\", type(none))"
   ]
  },
  {
   "cell_type": "code",
   "execution_count": 170,
   "metadata": {},
   "outputs": [],
   "source": [
    "# Python is dynamically typed, meaning you don't need to declare a variable's type explicitly. \n",
    "# However, type annotations (e.g., x: int) can be used to hint the expected type for clarity, \n",
    "# but these are not enforced by Python and serve only as guidance for the programmer or tools like type checkers.\n",
    "\n",
    "_int:int\n",
    "_float:float\n",
    "_complex:complex\n",
    "_bool:bool\n",
    "_str:str \n",
    "_byte:bytes\n",
    "_bytearrar:bytearray \n",
    "_memoryview:memoryview"
   ]
  },
  {
   "cell_type": "markdown",
   "metadata": {},
   "source": [
    "### Numeric Types"
   ]
  },
  {
   "cell_type": "markdown",
   "metadata": {},
   "source": [
    "#### Integers"
   ]
  },
  {
   "cell_type": "code",
   "execution_count": 171,
   "metadata": {},
   "outputs": [
    {
     "name": "stdout",
     "output_type": "stream",
     "text": [
      "variable a's value is 5 and its type <class 'int'>\n",
      "default integer value is 0\n",
      "value 96 is assigned to int_num\n",
      "\n"
     ]
    }
   ],
   "source": [
    "a = 5\n",
    "b = 10\n",
    "c = -3\n",
    "print(f\"variable a's value is {a} and its type {type(a)}\") \n",
    "\n",
    "int_num = int()\n",
    "print(f\"default integer value is {int_num}\")\n",
    "int_num = int(96)\n",
    "print(f\"value {int_num} is assigned to int_num\")\n",
    "\n",
    "print()"
   ]
  },
  {
   "cell_type": "markdown",
   "metadata": {},
   "source": [
    "#### Float"
   ]
  },
  {
   "cell_type": "code",
   "execution_count": 172,
   "metadata": {},
   "outputs": [
    {
     "name": "stdout",
     "output_type": "stream",
     "text": [
      "variable d's value is 3.14 and its type <class 'float'>\n",
      "default float value is 0.0\n",
      "floatn_num2's value is 4.6\n"
     ]
    }
   ],
   "source": [
    "d = 3.14\n",
    "e = 2.718\n",
    "f = -1.5\n",
    "print(f\"variable d's value is {d} and its type {type(d)}\")\n",
    "\n",
    "float_num = float()\n",
    "print(f\"default float value is {float_num}\")\n",
    "float_num2 = float(4.6)\n",
    "print(f\"floatn_num2's value is {float_num2}\")"
   ]
  },
  {
   "cell_type": "markdown",
   "metadata": {},
   "source": [
    "#### Complex"
   ]
  },
  {
   "cell_type": "code",
   "execution_count": 92,
   "metadata": {},
   "outputs": [
    {
     "name": "stdout",
     "output_type": "stream",
     "text": [
      "variable g's value is (3+4j) and its type <class 'complex'>\n",
      "real part of (3+4j) is 3.0 and imaginary part is 4.0\n",
      "complex sum of (3+4j) and (5-2j) is (8+2j)\n",
      "\n",
      "default complex value is 0j\n",
      "\n",
      "conjugate of (3+4j) is (3-4j)\n",
      "magnitude of (3+4j) is 5.0\n",
      "phase of (3+4j) is 0.9272952180016122\n"
     ]
    }
   ],
   "source": [
    "# complex\n",
    "g = 3 + 4j\n",
    "h = 5 - 2j\n",
    "print(f\"variable g's value is {g} and its type {type(g)}\") \n",
    "\n",
    "\n",
    "# Let's take a closer look at the complex type\n",
    "\n",
    "# real and imaginary part\n",
    "real = g.real\n",
    "imag = g.imag\n",
    "print(f\"real part of {g} is {real} and imaginary part is {imag}\")\n",
    "\n",
    "print(f\"complex sum of {g} and {h} is {g + h}\")\n",
    "\n",
    "print()\n",
    "\n",
    "# defining with constructor\n",
    "complex_num = complex()\n",
    "print(f\"default complex value is {complex_num}\")\n",
    "\n",
    "print()\n",
    "\n",
    "complex_num = complex(3, 4)\n",
    "\n",
    "# con_of_complex_num = complex.conjugate(complex_num) # this is also possible\n",
    "con_of_complex_num = complex_num.conjugate()\n",
    "print(f\"conjugate of {complex_num} is {con_of_complex_num}\")\n",
    "\n",
    "# abs() function returns the magnitude of the complex number\n",
    "mag_of_complex_num = abs(complex_num) \n",
    "print(f\"magnitude of {complex_num} is {mag_of_complex_num}\")\n",
    "\n",
    "# for phase of the complex number, we can use phase() function\n",
    "from cmath import phase\n",
    "phase_of_complex_num = phase(complex_num)\n",
    "print(f\"phase of {complex_num} is {phase_of_complex_num}\")\n"
   ]
  },
  {
   "cell_type": "markdown",
   "metadata": {},
   "source": [
    "### Boolean Type"
   ]
  },
  {
   "cell_type": "code",
   "execution_count": 93,
   "metadata": {},
   "outputs": [
    {
     "name": "stdout",
     "output_type": "stream",
     "text": [
      "variable i's value is True and its type <class 'bool'>\n",
      "default value of boolean variables is  False\n"
     ]
    }
   ],
   "source": [
    "# bool\n",
    "i = True\n",
    "j = False\n",
    "print(f\"variable i's value is {i} and its type {type(i)}\") \n",
    "\n",
    "booleanVar = bool()\n",
    "print(\"default value of boolean variables is \", booleanVar)"
   ]
  },
  {
   "cell_type": "markdown",
   "metadata": {},
   "source": [
    "### Text Type"
   ]
  },
  {
   "cell_type": "code",
   "execution_count": null,
   "metadata": {},
   "outputs": [
    {
     "name": "stdout",
     "output_type": "stream",
     "text": [
      "variable k's value is Hello, World! and its type <class 'str'>\n",
      "variable l's value is a and its type <class 'str'>\n",
      "\n",
      "default string value is \n",
      "Hello, World! is assigned to str_text\n"
     ]
    }
   ],
   "source": [
    "# string\n",
    "# string type is char array\n",
    "k = \"Hello, World!\"\n",
    "print(f\"variable k's value is {k} and its type {type(k)}\") \n",
    "\n",
    "# there is no char type in python but you can use string with length 1\n",
    "l = 'a'\n",
    "print(f\"variable l's value is {l} and its type {type(l)}\") \n",
    "\n",
    "print()\n",
    "\n",
    "# string can be created with str() constructor\n",
    "str_text = str()\n",
    "print(f\"default string value is {str_text}\") # empty string\n",
    "str_text = str(\"Hello, World!\")\n",
    "print(f\"{str_text} is assigned to str_text\")\n",
    "\n",
    "# you can use single or double quotes for string creation\n",
    "str_exp = 'Hello, World!'\n",
    "str_exp = \"Hello, World!\""
   ]
  },
  {
   "cell_type": "markdown",
   "metadata": {},
   "source": [
    "### Binary Types"
   ]
  },
  {
   "cell_type": "markdown",
   "metadata": {},
   "source": [
    "**why we use 'bytes' and 'bytearray'**\n",
    "\n",
    "We use bytes and bytearray for tasks requiring efficient, precise handling of binary data. The choice between them depends on whether the data is immutable (bytes) or needs modification (bytearray). These types are indispensable for file operations, networking, and interfacing with low-level APIs."
   ]
  },
  {
   "cell_type": "markdown",
   "metadata": {},
   "source": [
    "#### bytes\n",
    "'bytes' is an immutable sequence of bytes, often used to store binary data."
   ]
  },
  {
   "cell_type": "code",
   "execution_count": null,
   "metadata": {},
   "outputs": [
    {
     "name": "stdout",
     "output_type": "stream",
     "text": [
      "variable m's value is b'5' and its type <class 'bytes'>\n",
      "default variable of bytes data types is  b''\n"
     ]
    }
   ],
   "source": [
    "bytesVar = b\"5\"\n",
    "print(f\"variable m's value is {bytesVar} and its type {type(bytesVar)}\") \n",
    "\n",
    "bytesVar2 = bytes()\n",
    "print(f\"default variable of bytes data types is \", bytesVar2)"
   ]
  },
  {
   "cell_type": "code",
   "execution_count": null,
   "metadata": {},
   "outputs": [
    {
     "name": "stdout",
     "output_type": "stream",
     "text": [
      "b'1'\n",
      "49\n",
      "\n",
      "b'\\x01'\n",
      "1\n"
     ]
    }
   ],
   "source": [
    "bytesStr1 = bytes(b\"1\") # String 1 ASCII value is 49\n",
    "print(bytesStr1)\n",
    "\n",
    "for byte in bytesStr1:\n",
    "    print(byte)\n",
    "\n",
    "print()\n",
    "\n",
    "bytesStr2 = bytes([1])      # There is one dimension byte array and its one element value is 1\n",
    "print(bytesStr2)\n",
    "\n",
    "for byte in bytesStr2:\n",
    "    print(byte)"
   ]
  },
  {
   "cell_type": "code",
   "execution_count": null,
   "metadata": {},
   "outputs": [
    {
     "name": "stdout",
     "output_type": "stream",
     "text": [
      "b'Hello'\n",
      "72\n",
      "101\n",
      "108\n",
      "108\n",
      "111\n",
      "\n",
      "b'Ciao'\n",
      "67\n",
      "105\n",
      "97\n",
      "111\n"
     ]
    }
   ],
   "source": [
    "# bytes data types are immutable\n",
    "\n",
    "bytesVar3 = b\"Hello\"\n",
    "print(bytesVar3)\n",
    "\n",
    "for byte in bytesVar3:\n",
    "    print(byte)     # ASCII values of H e l l o are printed\n",
    "\n",
    "# bytesVar3[0] = \"S\"\n",
    "# print(bytesVar3)    # TypeError: 'bytes' object does not support item assignment\n",
    "\n",
    "print()\n",
    "# we cannot change an element of byte sequence/array but we can change the whole value\n",
    "\n",
    "bytesVar3 = b\"Ciao\"\n",
    "print(bytesVar3)\n",
    "\n",
    "for byte in bytesVar3:\n",
    "    print(byte) \n"
   ]
  },
  {
   "cell_type": "code",
   "execution_count": null,
   "metadata": {},
   "outputs": [
    {
     "name": "stdout",
     "output_type": "stream",
     "text": [
      "b'Hello'\n",
      "72\n",
      "101\n",
      "108\n",
      "108\n",
      "111\n"
     ]
    }
   ],
   "source": [
    "# bytesVar4 = bytes(\"Hello\")      # TypeError: string argument without an encoding\n",
    "\n",
    "bytesVar4 = bytes(b\"Hello\")     # we need to give paramater with byte converting (b prefix)\n",
    "print(bytesVar4)\n",
    "\n",
    "for byte in bytesVar4:\n",
    "    print(byte)\n"
   ]
  },
  {
   "cell_type": "code",
   "execution_count": null,
   "metadata": {},
   "outputs": [
    {
     "name": "stdout",
     "output_type": "stream",
     "text": [
      "b'\\x00\\x00\\x00\\x00'\n",
      "0\n",
      "0\n",
      "0\n",
      "0\n",
      "\n",
      "b'\\x04'\n",
      "4\n"
     ]
    }
   ],
   "source": [
    "# bytes(int) : takes given value as a dimentional paramater and returns a bytes sequence with the length of given value and all values are 0\n",
    "bytesVar5 = bytes(4)\n",
    "print(bytesVar5)\n",
    "\n",
    "for byte in bytesVar5:\n",
    "    print(byte)\n",
    "\n",
    "print()\n",
    "\n",
    "\n",
    "# bytes([]) : takes a list as a parameter and returns a bytes object (byte sequence) created with the given list's elements. \n",
    "bytesVar6 = bytes([4])\n",
    "print(bytesVar6)\n",
    "\n",
    "for byte in bytesVar6:\n",
    "    print(byte)"
   ]
  },
  {
   "cell_type": "code",
   "execution_count": 119,
   "metadata": {},
   "outputs": [
    {
     "name": "stdout",
     "output_type": "stream",
     "text": [
      "b'\\x01\\x02\\x03'\n",
      "1\n",
      "2\n",
      "3\n"
     ]
    }
   ],
   "source": [
    "# Another immutable example \n",
    "\n",
    "bytesVar7 = bytes([1,2,3])\n",
    "print(bytesVar7)\n",
    "\n",
    "for byte in bytesVar7:\n",
    "    print(byte)\n",
    "\n",
    "# bytesVar7[1] = 45\n",
    "# print(bytesVar7)        # TypeError: 'bytes' object does not support item assignment"
   ]
  },
  {
   "cell_type": "code",
   "execution_count": 121,
   "metadata": {},
   "outputs": [],
   "source": [
    "# bytesvar8 = bytes([\"Hello\"])    # 'str' object cannot be interpreted as an integer\n",
    "\n",
    "# bytes([b\"hello\"]) doesn't work because the bytes() function expects each element given to it to be a byte value. \n",
    "# However, b\"hello\" is already a bytes object, and since it contains a bytes object, an error occurs."
   ]
  },
  {
   "cell_type": "markdown",
   "metadata": {},
   "source": [
    "#### bytearray\n",
    "'bytearray' is a mutable sequence of bytes, allowing modification of its content."
   ]
  },
  {
   "cell_type": "code",
   "execution_count": 127,
   "metadata": {},
   "outputs": [
    {
     "name": "stdout",
     "output_type": "stream",
     "text": [
      "bytearray default value is  bytearray(b'') and the type is  <class 'bytearray'>\n"
     ]
    }
   ],
   "source": [
    "byteArrayVar = bytearray()\n",
    "print(\"bytearray default value is \", byteArrayVar, \"and the type is \", type(byteArrayVar))"
   ]
  },
  {
   "cell_type": "code",
   "execution_count": 130,
   "metadata": {},
   "outputs": [
    {
     "name": "stdout",
     "output_type": "stream",
     "text": [
      "bytearray(b'\\x00\\x00\\x00\\x00')\n",
      "0\n",
      "0\n",
      "0\n",
      "0\n",
      "\n",
      "bytearray(b'\\x01\\x02\\x03\\x04')\n",
      "1\n",
      "2\n",
      "3\n",
      "4\n"
     ]
    }
   ],
   "source": [
    "byteArrayVar2 = bytearray(4)  # create a byte array with the length of given value\n",
    "print(byteArrayVar2)\n",
    "\n",
    "for byte in byteArrayVar2:\n",
    "    print(byte)\n",
    "\n",
    "print()\n",
    "\n",
    "byteArrayVar3 = bytearray([1,2,3,4])\n",
    "print(byteArrayVar3)\n",
    "\n",
    "for byte in byteArrayVar3:\n",
    "    print(byte)"
   ]
  },
  {
   "cell_type": "code",
   "execution_count": null,
   "metadata": {},
   "outputs": [
    {
     "name": "stdout",
     "output_type": "stream",
     "text": [
      "bytearray(b'Hello')\n",
      "72\n",
      "101\n",
      "108\n",
      "108\n",
      "111\n",
      "\n",
      "bytearray(b'\\x01ello')\n",
      "1\n",
      "101\n",
      "108\n",
      "108\n",
      "111\n"
     ]
    }
   ],
   "source": [
    "# mutable \n",
    "byteArrayVar4 = bytearray(b\"Hello\")\n",
    "print(byteArrayVar4)\n",
    "\n",
    "for byte in byteArrayVar4:\n",
    "    print(byte)\n",
    "\n",
    "# byteArrayVar4[0] = b\"K\" \n",
    "# In Python, when modifying a bytearray, the value assigned must be an integer representing a byte (0-255), not a bytes object like b\"K\".\n",
    "print()\n",
    "\n",
    "byteArrayVar4[0] = 90\n",
    "print(byteArrayVar4)\n",
    "\n",
    "for byte in byteArrayVar4:\n",
    "    print(byte)"
   ]
  },
  {
   "cell_type": "code",
   "execution_count": null,
   "metadata": {},
   "outputs": [
    {
     "data": {
      "text/plain": [
       "'A'"
      ]
     },
     "execution_count": 149,
     "metadata": {},
     "output_type": "execute_result"
    }
   ],
   "source": [
    "chr(65) # takes integer paramaters as a ASCII value and returns corresponding character of this ASCII value"
   ]
  },
  {
   "cell_type": "code",
   "execution_count": 154,
   "metadata": {},
   "outputs": [
    {
     "name": "stdout",
     "output_type": "stream",
     "text": [
      "bytearray(b'\\x01\\x02\\x03\\x04\\x05')\n",
      "1\n",
      "2\n",
      "3\n",
      "4\n",
      "5\n",
      "\n",
      "bytearray(b'\\x01\\x02N\\x04\\x05')\n",
      "1\n",
      "2\n",
      "78\n",
      "4\n",
      "5\n",
      "\n",
      "66\n",
      "67\n",
      "68\n",
      "69\n",
      "70\n",
      "bytearray(b'ABCDE')\n"
     ]
    }
   ],
   "source": [
    "byteArrayVar5 = bytearray([1,2,3,4,5])\n",
    "print(byteArrayVar5)\n",
    "\n",
    "for byte in byteArrayVar5:\n",
    "    print(byte)\n",
    "\n",
    "print()\n",
    "\n",
    "byteArrayVar5[2] = 78\n",
    "print(byteArrayVar5)\n",
    "\n",
    "for byte in byteArrayVar5:\n",
    "    print(byte)\n",
    "\n",
    "print()\n",
    "\n",
    "value = 65\n",
    "index = 0\n",
    "for byte in byteArrayVar5:\n",
    "    byteArrayVar5[index] = value\n",
    "    value += 1\n",
    "    index += 1\n",
    "    print(value)\n",
    "print(byteArrayVar5)"
   ]
  },
  {
   "cell_type": "markdown",
   "metadata": {},
   "source": [
    "#### memoryview\n",
    "\n",
    "- 'memoryview' provides a view of memory, allows you to access and manipulate the underlying data of objects like bytearray, bytes, and other objects supporting the buffer protocol, without actually copying the data.\n",
    "- You can slice the data or manipulate parts of the data in-place with memoryview without affecting the original object.\n",
    "\n",
    "**When we use memoryview?**\n",
    "\n",
    "- When working with large arrays or binary data: For example, when processing large chunks of binary data (e.g., image processing, network communication), memoryview allows you to work with data in a way that is both time- and memory-efficient.\n",
    "- When you want to modify the original data without copying it: memoryview provides a way to change parts of the data without creating duplicates.\n",
    "- When you need access to binary data from objects that support the buffer protocol (like bytearray, array, bytes, etc.) and want to avoid copying."
   ]
  },
  {
   "cell_type": "code",
   "execution_count": null,
   "metadata": {},
   "outputs": [
    {
     "name": "stdout",
     "output_type": "stream",
     "text": [
      "variable view's value is <memory at 0x7685203f4100> and its type <class 'memoryview'>\n",
      "\n"
     ]
    }
   ],
   "source": [
    "view = memoryview(bytes(b\"A\"))\n",
    "print(f\"variable view's value is {view} and its type {type(view)}\") \n",
    "\n",
    "print()\n",
    "\n",
    "# defaultView = memoryview()      # TypeError: memoryview() missing required argument 'object' (pos 1)"
   ]
  },
  {
   "cell_type": "code",
   "execution_count": null,
   "metadata": {},
   "outputs": [
    {
     "name": "stdout",
     "output_type": "stream",
     "text": [
      "Value bytearray(b'Hello') in <memory at 0x768522b7f880>\n",
      "bytearray(b'Hiiii, world!')\n"
     ]
    }
   ],
   "source": [
    "data = bytearray(b\"Hello, world!\")\n",
    "view = memoryview(data)\n",
    "\n",
    "subview = view[0:5]\n",
    "print(\"Value\", bytearray(subview),\"in\", subview)\n",
    "\n",
    "\n",
    "view[0:5] = b\"Hiiii\"    # be careful with the length\n",
    "print(data)             # bytearray(b'Hi, world!')"
   ]
  },
  {
   "cell_type": "markdown",
   "metadata": {},
   "source": [
    "# Python Operators"
   ]
  },
  {
   "cell_type": "markdown",
   "metadata": {},
   "source": [
    "#### Arithmetic Operators\n",
    "\n",
    "- ( + ) \n",
    "- ( - )\n",
    "- ( * )\n",
    "- ( / )\n",
    "- ( // )\n",
    "- ( % ) \n",
    "- ( ** )"
   ]
  },
  {
   "cell_type": "code",
   "execution_count": 173,
   "metadata": {},
   "outputs": [
    {
     "name": "stdout",
     "output_type": "stream",
     "text": [
      "result of string concatenation is Hello, World!\n",
      "\n",
      "\n",
      "result of division is 100.0 and its type will be always <class 'float'>\n",
      "result of floor division is 100 and its type will be always <class 'int'>\n"
     ]
    }
   ],
   "source": [
    "# +   addition\n",
    "result_of_addition = 5 + 3  # 8\n",
    "\n",
    "# also you can use + operator for string concatenation\n",
    "result_of_str_concatenation = \"Hello, \" + \"World!\"  # Hello, World!\n",
    "print(\"result of string concatenation is\", result_of_str_concatenation)\n",
    "print(\"\\n\")\n",
    "\n",
    "# -   subtraction\n",
    "result_of_subtraction = 5 - 3  # 2\n",
    "# result_of_str_subtraction = \"Hello, World!\" - \"World!\"  # TypeError: unsupported operand type(s) for -: 'str' and 'str'\n",
    "\n",
    "# *   multiplication\n",
    "result_of_multiplication = 5 * 3  # 15\n",
    "\n",
    "# /   division\n",
    "result_of_division = 1000 / 10  # 100.0\n",
    "print(f\"result of division is {result_of_division} and its type will be always {type(result_of_division)}\")\n",
    "\n",
    "# //  floor division, rounds the result down to the nearest integer\n",
    "result_of_floorDivision = 1000 // 10  # 100\n",
    "print(f\"result of floor division is {result_of_floorDivision} and its type will be always {type(result_of_floorDivision)}\")\n",
    "\n",
    "# %   modulus\n",
    "result_of_modulus = 78 % 5  # 3\n",
    "\n",
    "# **  exponentiation\n",
    "result_of_exponentiation = 2 ** 3  # 8\n",
    "result_of_exponentiation2 = (2.6) ** 3  # 17.576"
   ]
  },
  {
   "cell_type": "markdown",
   "metadata": {},
   "source": [
    "#### Comparison Operators\n",
    "\n",
    "- ( == )\n",
    "- ( != )\n",
    "- ( > )\n",
    "- ( < )\n",
    "- ( >= )\n",
    "- ( <= )"
   ]
  },
  {
   "cell_type": "code",
   "execution_count": null,
   "metadata": {},
   "outputs": [
    {
     "name": "stdout",
     "output_type": "stream",
     "text": [
      "True\n",
      "True\n",
      "True\n",
      "False\n",
      "True\n",
      "False\n"
     ]
    }
   ],
   "source": [
    "# ==  equal to\n",
    "print(5 == 5)  # True\n",
    "\n",
    "# !=  not equal to\n",
    "print(5 != 4)  # True\n",
    "\n",
    "# >   greater than\n",
    "print(5 > 4)  # True\n",
    "\n",
    "# <   less than\n",
    "print(5 < 4)  # False\n",
    "\n",
    "# >=  greater than or equal to\n",
    "print(5 >= 2)  # True\n",
    "\n",
    "# <=  less than or equal to\n",
    "print(5 <= 1)  # False\n"
   ]
  },
  {
   "cell_type": "code",
   "execution_count": null,
   "metadata": {},
   "outputs": [
    {
     "name": "stdout",
     "output_type": "stream",
     "text": [
      "True > False: True\n",
      "True < False: False\n",
      "True <= False: False\n",
      "True >= False: True\n",
      "\n",
      "\n",
      "The int version of True is 1\n",
      "The int version of False is 0\n"
     ]
    }
   ],
   "source": [
    "# True and False are represented as 1 and 0 respectively, so the boolean expressions will be evaluated according to this.\n",
    "\n",
    "print(f\"True > False: {True > False}\")\n",
    "print(f\"True < False: {True < False}\")\n",
    "print(f\"True <= False: {True <= False}\")\n",
    "print(f\"True >= False: {True >= False}\")\n",
    "\n",
    "print(\"\\n\")\n",
    "print(f\"The int version of True is {int(True)}\")\n",
    "print(f\"The int version of False is {int(False)}\")"
   ]
  },
  {
   "cell_type": "markdown",
   "metadata": {},
   "source": [
    "#### Logical Operators\n",
    "- and \n",
    "- or \n",
    "- not"
   ]
  },
  {
   "cell_type": "code",
   "execution_count": null,
   "metadata": {},
   "outputs": [
    {
     "name": "stdout",
     "output_type": "stream",
     "text": [
      "True\n",
      "False\n",
      "True\n",
      "True\n",
      "False\n",
      "False\n"
     ]
    }
   ],
   "source": [
    "# and, or, not\n",
    "# These operators are used to combine conditional statements and they use boolean values as operands\n",
    "\n",
    "# and  logical AND\n",
    "print(True and True)  # True\n",
    "print(True and False)  # False\n",
    "\n",
    "# or   logical OR\n",
    "print(True or True)  # True\n",
    "print(True or False)  # True\n",
    "print(False or False)  # False\n",
    "\n",
    "# not  logical NOT\n",
    "print(not True)  # False"
   ]
  },
  {
   "cell_type": "markdown",
   "metadata": {},
   "source": [
    "* and\n",
    "\n",
    "The and operator returns True if all values in the condition are True; if there is even one False, it returns False. In the following expression, if and doesn't encounter any False values, it returns the last value. The variable a contains the value 5, and b contains \"b\", both of which are truthy values (non-zero values are evaluated as True). Therefore, since both values are equivalent to True, the last value will be returned as the output.\n",
    "\n",
    "The and operator continues to the end of the condition looking for a False value; if none is found, it returns the last truthy value.\n",
    "\n",
    "* or\n",
    "\n",
    "The or operator, on the other hand, returns True if there is even one True in the condition. Alternatively, we can say that or returns the first truthy value it finds in the condition. Therefore, in the following case, the first truthy value is a, so its value is returned without checking the remaining operands in the condition.\n",
    "\n",
    "or returns the first truthy value it finds."
   ]
  },
  {
   "cell_type": "code",
   "execution_count": 91,
   "metadata": {},
   "outputs": [
    {
     "name": "stdout",
     "output_type": "stream",
     "text": [
      "b\n",
      "5\n"
     ]
    }
   ],
   "source": [
    "value1 = 5\n",
    "value2 = \"b\"\n",
    "print(value1 and value2)\n",
    "print(value1 or value2)"
   ]
  },
  {
   "cell_type": "markdown",
   "metadata": {},
   "source": [
    "#### Bitwise Operators\n",
    "\n",
    "- ( & )\n",
    "- ( | )\n",
    "- ( ^ )\n",
    "- ( ~ )\n",
    "- ( << )\n",
    "- ( >> )"
   ]
  },
  {
   "cell_type": "code",
   "execution_count": null,
   "metadata": {},
   "outputs": [
    {
     "name": "stdout",
     "output_type": "stream",
     "text": [
      "value3 is 5 and its binary representation is 0b101\n",
      "value4 is 6 and its binary representation is 0b110\n",
      "4\n",
      "7\n",
      "3\n",
      "-6\n",
      "20\n",
      "1\n"
     ]
    }
   ],
   "source": [
    "# These operators are used to compare (binary) numbers\n",
    "# It compares the numbers in binary format and performs operations on each bit with the corresponding bits in the same positions. \n",
    "\n",
    "# &   bitwise AND\n",
    "value3 = 5 # 0101\n",
    "value4 = 6 # 0110\n",
    "print(f\"value3 is {value3} and its binary representation is {bin(value3)}\")\n",
    "print(f\"value4 is {value4} and its binary representation is {bin(value4)}\")\n",
    "\n",
    "# (0101) & (0110) = (0100)\n",
    "print(value3 & value4)  # 4 because result is 0100\n",
    "\n",
    "\n",
    "# |   bitwise OR\n",
    "# (0101) | (0110) = (0111)\n",
    "print(value3 | value4) # 7 because result is 0111\n",
    "\n",
    "\n",
    "# ^   bitwise XOR\n",
    "# if one of the bits at least is 1 then result is 1\n",
    "# if both of the bits are same then result is 0\n",
    "# (0101) ^ (0110) = (0011)\n",
    "print(value3 ^ value4) # 3 because result is 0011\n",
    "\n",
    "\n",
    "# ~   bitwise NOT\n",
    "# it is a unary operator\n",
    "# it inverts all the bits of the number\n",
    "# ~(0101) = (1010)\n",
    "print(~value3)  # -6 because result is 1010\n",
    "\n",
    "\n",
    "# <<  left shift\n",
    "# it shifts the bits to the left and fills 0 on the right\n",
    "# 5 = 0000 0101\n",
    "# 5 << 2 \n",
    "# 0000 0101 << 2 = 0001 0100\n",
    "print(value3 << 2)  # 20 because result is 0001 0100\n",
    "\n",
    "\n",
    "# >>  right shift\n",
    "# it shifts the bits to the right and fills 0 on the left\n",
    "# 5 = 0000 0101\n",
    "# 5 >> 2\n",
    "# 0000 0101 >> 2 = 0000 0001\n",
    "print(value3 >> 2)  # 1 because result is 0001\n"
   ]
  },
  {
   "cell_type": "markdown",
   "metadata": {},
   "source": [
    "#### Assignment Operators\n",
    "\n",
    "- ( = )\n",
    "- ( += )\n",
    "- ( -= )\n",
    "- ( *= )\n",
    "- ( /= )\n",
    "- ( //= )\n",
    "- ( %= )\n",
    "- ( **= )\n",
    "- ( &= )\n",
    "- ( |= )\n",
    "- ( ^= )\n",
    "- ( <<= )\n",
    "- ( >>= )"
   ]
  },
  {
   "cell_type": "code",
   "execution_count": null,
   "metadata": {},
   "outputs": [
    {
     "name": "stdout",
     "output_type": "stream",
     "text": [
      "72\n",
      "62\n",
      "186\n",
      "93.0\n",
      "31.0\n",
      "1.0\n",
      "1.0\n",
      "1\n",
      "5\n",
      "6\n",
      "24\n",
      "12\n"
     ]
    }
   ],
   "source": [
    "# =    assignment\n",
    "num = 67\n",
    "\n",
    "# +=  add and assign\n",
    "num += 5  # num = num + 5\n",
    "print(num)  # 72\n",
    "\n",
    "# -=  subtract and assign\n",
    "num -= 10  # num = num - 10\n",
    "print(num)  # 62\n",
    "\n",
    "# *=   multiply and assign\n",
    "num *= 3  # num = num * 3\n",
    "print(num)  # 186\n",
    "\n",
    "# /=   divide and assign\n",
    "num /= 2  # num = num / 2\n",
    "print(num)  # 93.0\n",
    "\n",
    "# //= floor divide and assign\n",
    "num //= 3  # num = num // 3\n",
    "print(num)  # 31.0\n",
    "\n",
    "# %=   modulus and assign\n",
    "num %= 5  # num = num % 5\n",
    "print(num)  # 1.0\n",
    "\n",
    "# **= exponentiate and assign\n",
    "num **= 3  # num = num ** 3\n",
    "print(num)  # 1.0\n",
    "\n",
    "\n",
    "# bitwise need integer values so we need to convert the float to integer\n",
    "num = int(num)\n",
    "\n",
    "# &=  bitwise AND and assign\n",
    "num &= 3  # num = num & 3\n",
    "# 1 &= 3  \n",
    "# 0001 & 0011 = 0001\n",
    "print(num)  # 1 \n",
    "\n",
    "# |=  bitwise OR and assign\n",
    "num |= 5  # num = num | 5\n",
    "# 1 |= 5\n",
    "# 0001 | 0101 = 0101\n",
    "print(num)  # 5\n",
    "\n",
    "# ^=   bitwise XOR and assign\n",
    "num ^= 3  # num = num ^ 3\n",
    "# 5 ^= 3\n",
    "# 0101 ^ 0011 = 0110\n",
    "print(num)  # 6\n",
    "\n",
    "# <<=  left shift and assign\n",
    "num <<= 2  # num = num << 2\n",
    "# 6 <<= 2\n",
    "# 0000 0110 << 2 = 0001 1000\n",
    "print(num)  # 24\n",
    "\n",
    "# >>=  right shift and assign\n",
    "num >>= 1  # num = num >> 1\n",
    "# 24 >>= 1\n",
    "# 0001 1000 >> 1 = 0000 1100\n",
    "print(num)  # 12"
   ]
  },
  {
   "cell_type": "markdown",
   "metadata": {},
   "source": [
    "#### Membership Operators\n",
    "\n",
    "- in\n",
    "- not in"
   ]
  },
  {
   "cell_type": "code",
   "execution_count": null,
   "metadata": {},
   "outputs": [
    {
     "name": "stdout",
     "output_type": "stream",
     "text": [
      "True\n",
      "True\n"
     ]
    }
   ],
   "source": [
    "my_list = [1, 2, 3, 4, 5]\n",
    "\n",
    "# in        membership check\n",
    "print(5 in my_list)  # True\n",
    "\n",
    "# not in    membership check (negated)\n",
    "print(6 not in my_list)  # True"
   ]
  },
  {
   "cell_type": "markdown",
   "metadata": {},
   "source": [
    "#### Identity Operators\n",
    "- is\n",
    "- not is"
   ]
  },
  {
   "cell_type": "code",
   "execution_count": null,
   "metadata": {},
   "outputs": [
    {
     "name": "stdout",
     "output_type": "stream",
     "text": [
      "False\n",
      "True\n",
      "True\n",
      "\n",
      "\n",
      "False\n",
      "<class 'list'>\n",
      "True\n"
     ]
    }
   ],
   "source": [
    "# is compare the memory location of two objects. (their identity) So it checks if two objects are the same object.\n",
    "# if two objects are the same object, then they have the same memory location. then operation returns True. Else return false\n",
    "\n",
    "num2 = 5\n",
    "# is       identity check\n",
    "print(num is num2)  # False\n",
    "\n",
    "num3 = num2\n",
    "print(num2 is num3)  # True\n",
    "\n",
    "# is not   identity check (negated)\n",
    "print(num is not num2)  # True\n",
    "\n",
    "print(\"\\n\")\n",
    "print(my_list is list) # False\n",
    "print(type(my_list))  # True\n",
    "print(type(my_list) is list)  # True"
   ]
  },
  {
   "cell_type": "markdown",
   "metadata": {},
   "source": [
    "# Type Conversion"
   ]
  },
  {
   "cell_type": "markdown",
   "metadata": {},
   "source": [
    "you can convert types with using target type constructor \n",
    "\n",
    "int→float\n",
    "\n",
    "float→int\n",
    "\n",
    "bool→int \n",
    "\n",
    "bool→ string \n",
    "\n",
    "these conversion is more appropriate"
   ]
  },
  {
   "cell_type": "code",
   "execution_count": 3,
   "metadata": {},
   "outputs": [
    {
     "name": "stdout",
     "output_type": "stream",
     "text": [
      "1.0\n",
      "True\n",
      "True\n"
     ]
    }
   ],
   "source": [
    "value = 1\n",
    "\n",
    "value = float(value)\n",
    "print(value)\n",
    "\n",
    "value = bool(value)\n",
    "print(value)\n",
    "\n",
    "value = str(value)\n",
    "print(value)\n",
    "\n",
    "# value = int(value) # error\n",
    "# print(value)"
   ]
  },
  {
   "cell_type": "code",
   "execution_count": null,
   "metadata": {},
   "outputs": [
    {
     "name": "stdout",
     "output_type": "stream",
     "text": [
      "12\n"
     ]
    }
   ],
   "source": [
    "value2 = 12.78\n",
    "print(int(value2)) \n",
    "# while converting float numbers to integer type, floating part is removed and whole number remains\n",
    "# so rounding doesn't happen  "
   ]
  }
 ],
 "metadata": {
  "kernelspec": {
   "display_name": ".tutorialenv",
   "language": "python",
   "name": "python3"
  },
  "language_info": {
   "codemirror_mode": {
    "name": "ipython",
    "version": 3
   },
   "file_extension": ".py",
   "mimetype": "text/x-python",
   "name": "python",
   "nbconvert_exporter": "python",
   "pygments_lexer": "ipython3",
   "version": "3.12.7"
  }
 },
 "nbformat": 4,
 "nbformat_minor": 2
}
