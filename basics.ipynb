{
 "cells": [
  {
   "cell_type": "code",
   "execution_count": 8,
   "metadata": {},
   "outputs": [
    {
     "name": "stdout",
     "output_type": "stream",
     "text": [
      "8\n",
      "Help on function add in module __main__:\n",
      "\n",
      "add(num1, num2)\n",
      "    This function is for adding to numbers\n",
      "    args:  num1, num2\n",
      "    return: sum of num1 and num2 as integer\n",
      "\n"
     ]
    }
   ],
   "source": [
    "\"\"\"\n",
    "multiline comment\n",
    "you can use this comment type documentation\n",
    "\"\"\"\n",
    "\n",
    "\n",
    "\n",
    "def add(num1, num2):\n",
    "    \"\"\"\n",
    "    This function is for adding to numbers\n",
    "    args:  num1, num2\n",
    "    return: sum of num1 and num2 as integer\n",
    "    \"\"\"\n",
    "    return num1 + num2\n",
    "\n",
    "result = add(3, 5)  # 8\n",
    "print(result)\n",
    "\n",
    "help(add)  # prints the documentation of the function"
   ]
  },
  {
   "cell_type": "markdown",
   "metadata": {},
   "source": [
    "<b>you can use the help() function to get the documentation of a function<b>"
   ]
  },
  {
   "cell_type": "code",
   "execution_count": 9,
   "metadata": {},
   "outputs": [],
   "source": [
    "# this is a single line comment\n",
    "\n",
    "a = 5  # variable a is assigned to 5"
   ]
  },
  {
   "cell_type": "code",
   "execution_count": 96,
   "metadata": {},
   "outputs": [
    {
     "name": "stdout",
     "output_type": "stream",
     "text": [
      "Hello World! \n",
      "\n",
      "Hello World!\n",
      "Hello World!Hello World! Hello World!\n"
     ]
    }
   ],
   "source": [
    "print(\"Hello World!\",\"\\n\")\n",
    "print(\"Hello World!\", end=\"\\n\")  \n",
    "print(\"Hello World!\", end=\"\")\n",
    "print(\"Hello World!\", end=\" \")\n",
    "print(\"Hello World!\")"
   ]
  },
  {
   "cell_type": "code",
   "execution_count": null,
   "metadata": {},
   "outputs": [],
   "source": [
    "variable = \"Hello World!\"\n",
    "variable = 1\n",
    "variable = 1.0\n",
    "variable = True\n",
    "\n",
    "# Python is a dynamically typed language, so you can change the type of a variable at any time\n",
    "# Python will handle the type of the variable for you, but it is good practice to use the same type for the same variable"
   ]
  },
  {
   "cell_type": "code",
   "execution_count": 97,
   "metadata": {},
   "outputs": [
    {
     "name": "stdout",
     "output_type": "stream",
     "text": [
      "ab\n",
      "a b\n"
     ]
    }
   ],
   "source": [
    "a = \"a\"\n",
    "b = \"b\"\n",
    "print(a + b)  # ab\n",
    "print(a, b)  # a b"
   ]
  },
  {
   "cell_type": "code",
   "execution_count": 99,
   "metadata": {},
   "outputs": [
    {
     "data": {
      "text/plain": [
       "'rai'"
      ]
     },
     "execution_count": 99,
     "metadata": {},
     "output_type": "execute_result"
    }
   ],
   "source": [
    "input(\"Enter your name: \")  # waits for user input"
   ]
  },
  {
   "cell_type": "markdown",
   "metadata": {},
   "source": [
    "# Python Object and Data Types"
   ]
  },
  {
   "cell_type": "markdown",
   "metadata": {},
   "source": [
    "Python'da veri tipleri dinamik olduğu için bir değişken tanımlanırken veri tipi belirlemeye gerek yoktur; Python, değeri temel alarak veri tipini otomatik olarak belirler."
   ]
  },
  {
   "cell_type": "code",
   "execution_count": 79,
   "metadata": {},
   "outputs": [
    {
     "name": "stdout",
     "output_type": "stream",
     "text": [
      "variable a's value is 5 and its type <class 'int'>\n",
      "default integer value is 0\n",
      "value 96 is assigned to int_num\n",
      "\n",
      "\n",
      "variable d's value is 3.14 and its type <class 'float'>\n",
      "default float value is 0.0\n",
      "\n",
      "\n",
      "variable g's value is (3+4j) and its type <class 'complex'>\n"
     ]
    }
   ],
   "source": [
    "# NUMERIC TYPES\n",
    "\n",
    "# integers\n",
    "a = 5\n",
    "b = 10\n",
    "c = -3\n",
    "print(f\"variable a's value is {a} and its type {type(a)}\") \n",
    "\n",
    "int_num = int()\n",
    "print(f\"default integer value is {int_num}\")\n",
    "# int is a built-in class actually, you can create an integer object with int() constructor\n",
    "# int() constructor creates an integer object with default value 0\n",
    "int_num = int(96)\n",
    "print(f\"value {int_num} is assigned to int_num\")\n",
    "print(\"\\n\")\n",
    "\n",
    "\n",
    "# float\n",
    "d = 3.14\n",
    "e = 2.718\n",
    "f = -1.5\n",
    "print(f\"variable d's value is {d} and its type {type(d)}\")\n",
    "\n",
    "float_num = float()\n",
    "print(f\"default float value is {float_num}\")\n",
    "# float() is also a built-in class, you can create a float object with float() constructor\n",
    "print(\"\\n\")\n",
    "\n",
    "\n",
    "# complex\n",
    "g = 3 + 4j\n",
    "h = 5 - 2j\n",
    "print(f\"variable g's value is {g} and its type {type(g)}\") "
   ]
  },
  {
   "cell_type": "code",
   "execution_count": 73,
   "metadata": {},
   "outputs": [
    {
     "name": "stdout",
     "output_type": "stream",
     "text": [
      "real part of (3+4j) is 3.0 and imaginary part is 4.0\n",
      "complex sum of (3+4j) and (5-2j) is (8+2j)\n",
      "default complex value is 0j\n",
      "\n",
      "\n",
      "conjugate of (3+4j) is (3-4j)\n",
      "magnitude of (3+4j) is 5.0\n",
      "phase of (3+4j) is 0.9272952180016122\n"
     ]
    }
   ],
   "source": [
    "# Let's take a closer look at the complex type\n",
    "real = g.real\n",
    "imag = g.imag\n",
    "print(f\"real part of {g} is {real} and imaginary part is {imag}\")\n",
    "\n",
    "print(f\"complex sum of {g} and {h} is {g + h}\")\n",
    "\n",
    "complex_num = complex()\n",
    "print(f\"default complex value is {complex_num}\")\n",
    "complex_num = complex(3, 4)\n",
    "\n",
    "print(\"\\n\")\n",
    "# con_of_complex_num = complex.conjugate(complex_num) # this is also possible\n",
    "con_of_complex_num = complex_num.conjugate()\n",
    "print(f\"conjugate of {complex_num} is {con_of_complex_num}\")\n",
    "\n",
    "# abs() function returns the magnitude of the complex number\n",
    "mag_of_complex_num = abs(complex_num) \n",
    "print(f\"magnitude of {complex_num} is {mag_of_complex_num}\")\n",
    "\n",
    "# for phase of the complex number, we can use phase() function\n",
    "from cmath import phase\n",
    "phase_of_complex_num = phase(complex_num)\n",
    "print(f\"phase of {complex_num} is {phase_of_complex_num}\")\n"
   ]
  },
  {
   "cell_type": "code",
   "execution_count": 74,
   "metadata": {},
   "outputs": [
    {
     "name": "stdout",
     "output_type": "stream",
     "text": [
      "variable i's value is True and its type <class 'bool'>\n"
     ]
    }
   ],
   "source": [
    "# BOOLEAN TYPE\n",
    "\n",
    "# bool\n",
    "i = True\n",
    "j = False\n",
    "print(f\"variable i's value is {i} and its type {type(i)}\") "
   ]
  },
  {
   "cell_type": "code",
   "execution_count": null,
   "metadata": {},
   "outputs": [
    {
     "name": "stdout",
     "output_type": "stream",
     "text": [
      "variable k's value is Hello, World! and its type <class 'str'>\n",
      "variable l's value is a and its type <class 'str'>\n",
      "default string value is \n",
      "Hello, World! is assigned to str_text\n"
     ]
    }
   ],
   "source": [
    "# TEXT TYPE\n",
    "\n",
    "# string\n",
    "k = \"Hello, World!\"\n",
    "print(f\"variable k's value is {k} and its type {type(k)}\") \n",
    "\n",
    "# there is no char type in python but you can use string with length 1\n",
    "l = 'a'\n",
    "print(f\"variable l's value is {l} and its type {type(l)}\") \n",
    "\n",
    "# string can be created with str() constructor\n",
    "str_text = str()\n",
    "print(f\"default string value is {str_text}\") # empty string\n",
    "str_text = str(\"Hello, World!\")\n",
    "print(f\"{str_text} is assigned to str_text\")\n",
    "\n",
    "# you can use single or double quotes for string creation\n",
    "str_exp = 'Hello, World!'\n",
    "str_exp = \"Hello, World!\""
   ]
  },
  {
   "cell_type": "code",
   "execution_count": 13,
   "metadata": {},
   "outputs": [
    {
     "name": "stdout",
     "output_type": "stream",
     "text": [
      "variable m's value is b'5' and its type <class 'bytes'>\n",
      "variable n's value is bytearray(b'\\x00\\x00\\x00\\x00\\x00') and its type <class 'bytearray'>\n",
      "variable o's value is <memory at 0x7d30424ba500> and its type <class 'memoryview'>\n"
     ]
    }
   ],
   "source": [
    "# BINARY TYPES\n",
    "\n",
    "# bytes\n",
    "m = b\"5\"\n",
    "print(f\"variable m's value is {m} and its type {type(m)}\") \n",
    "\n",
    "# bytearray\n",
    "n = bytearray(5)\n",
    "print(f\"variable n's value is {n} and its type {type(n)}\") \n",
    "\n",
    "# memoryview\n",
    "o = memoryview(bytes(5))\n",
    "print(f\"variable o's value is {o} and its type {type(o)}\") "
   ]
  },
  {
   "cell_type": "markdown",
   "metadata": {},
   "source": [
    "# Python Operators"
   ]
  },
  {
   "cell_type": "code",
   "execution_count": 86,
   "metadata": {},
   "outputs": [
    {
     "name": "stdout",
     "output_type": "stream",
     "text": [
      "result of string concatenation is Hello, World!\n",
      "\n",
      "\n",
      "result of division is 100.0 and its type will be always <class 'float'>\n",
      "result of floor division is 100 and its type will be always <class 'int'>\n"
     ]
    }
   ],
   "source": [
    "# Arithmetic Operators\n",
    "\n",
    "# +   addition\n",
    "result_of_addition = 5 + 3  # 8\n",
    "\n",
    "# also you can use + operator for string concatenation\n",
    "result_of_str_concatenation = \"Hello, \" + \"World!\"  # Hello, World!\n",
    "print(\"result of string concatenation is\", result_of_str_concatenation)\n",
    "print(\"\\n\")\n",
    "\n",
    "# -   subtraction\n",
    "result_of_subtraction = 5 - 3  # 2\n",
    "# result_of_str_subtraction = \"Hello, World!\" - \"World!\"  # TypeError: unsupported operand type(s) for -: 'str' and 'str'\n",
    "\n",
    "# *   multiplication\n",
    "result_of_multiplication = 5 * 3  # 15\n",
    "\n",
    "# /   division\n",
    "result_of_division = 1000 / 10  # 100.0\n",
    "print(f\"result of division is {result_of_division} and its type will be always {type(result_of_division)}\")\n",
    "\n",
    "# //  floor division, rounds the result down to the nearest integer\n",
    "result_of_floorDivision = 1000 // 10  # 100\n",
    "print(f\"result of floor division is {result_of_floorDivision} and its type will be always {type(result_of_floorDivision)}\")\n",
    "\n",
    "# %   modulus\n",
    "result_of_modulus = 78 % 5  # 3\n",
    "\n",
    "# **  exponentiation\n",
    "result_of_exponentiation = 2 ** 3  # 8\n",
    "result_of_exponentiation2 = (2.6) ** 3  # 17.576"
   ]
  },
  {
   "cell_type": "code",
   "execution_count": 87,
   "metadata": {},
   "outputs": [
    {
     "name": "stdout",
     "output_type": "stream",
     "text": [
      "True\n",
      "True\n",
      "True\n",
      "False\n",
      "True\n",
      "False\n"
     ]
    }
   ],
   "source": [
    "# Comparison Operators\n",
    "\n",
    "# ==  equal to\n",
    "print(5 == 5)  # True\n",
    "\n",
    "# !=  not equal to\n",
    "print(5 != 4)  # True\n",
    "\n",
    "# >   greater than\n",
    "print(5 > 4)  # True\n",
    "\n",
    "# <   less than\n",
    "print(5 < 4)  # False\n",
    "\n",
    "# >=  greater than or equal to\n",
    "print(5 >= 2)  # True\n",
    "\n",
    "# <=  less than or equal to\n",
    "print(5 <= 1)  # False\n"
   ]
  },
  {
   "cell_type": "code",
   "execution_count": null,
   "metadata": {},
   "outputs": [
    {
     "name": "stdout",
     "output_type": "stream",
     "text": [
      "True > False: True\n",
      "True < False: False\n",
      "True <= False: False\n",
      "True >= False: True\n",
      "\n",
      "\n",
      "The int version of True is 1\n",
      "The int version of False is 0\n"
     ]
    }
   ],
   "source": [
    "# True and False are represented as 1 and 0 respectively, so the boolean expressions will be evaluated according to this.\n",
    "\n",
    "print(f\"True > False: {True > False}\")\n",
    "print(f\"True < False: {True < False}\")\n",
    "print(f\"True <= False: {True <= False}\")\n",
    "print(f\"True >= False: {True >= False}\")\n",
    "\n",
    "print(\"\\n\")\n",
    "print(f\"The int version of True is {int(True)}\")\n",
    "print(f\"The int version of False is {int(False)}\")"
   ]
  },
  {
   "cell_type": "code",
   "execution_count": 90,
   "metadata": {},
   "outputs": [
    {
     "name": "stdout",
     "output_type": "stream",
     "text": [
      "True\n",
      "False\n",
      "True\n",
      "True\n",
      "False\n",
      "False\n"
     ]
    }
   ],
   "source": [
    "# Logical Operators\n",
    "# and, or, not\n",
    "# These operators are used to combine conditional statements and they use boolean values as operands\n",
    "\n",
    "# and  logical AND\n",
    "print(True and True)  # True\n",
    "print(True and False)  # False\n",
    "\n",
    "# or   logical OR\n",
    "print(True or True)  # True\n",
    "print(True or False)  # True\n",
    "print(False or False)  # False\n",
    "\n",
    "# not  logical NOT\n",
    "print(not True)  # False"
   ]
  },
  {
   "cell_type": "markdown",
   "metadata": {},
   "source": [
    "* and\n",
    "\n",
    "The and operator returns True if all values in the condition are True; if there is even one False, it returns False. In the following expression, if and doesn't encounter any False values, it returns the last value. The variable a contains the value 5, and b contains \"b\", both of which are truthy values (non-zero values are evaluated as True). Therefore, since both values are equivalent to True, the last value will be returned as the output.\n",
    "\n",
    "The and operator continues to the end of the condition looking for a False value; if none is found, it returns the last truthy value.\n",
    "\n",
    "* or\n",
    "\n",
    "The or operator, on the other hand, returns True if there is even one True in the condition. Alternatively, we can say that or returns the first truthy value it finds in the condition. Therefore, in the following case, the first truthy value is a, so its value is returned without checking the remaining operands in the condition.\n",
    "\n",
    "or returns the first truthy value it finds."
   ]
  },
  {
   "cell_type": "code",
   "execution_count": 91,
   "metadata": {},
   "outputs": [
    {
     "name": "stdout",
     "output_type": "stream",
     "text": [
      "b\n",
      "5\n"
     ]
    }
   ],
   "source": [
    "value1 = 5\n",
    "value2 = \"b\"\n",
    "print(value1 and value2)\n",
    "print(value1 or value2)"
   ]
  },
  {
   "cell_type": "code",
   "execution_count": 92,
   "metadata": {},
   "outputs": [
    {
     "name": "stdout",
     "output_type": "stream",
     "text": [
      "value3 is 5 and its binary representation is 0b101\n",
      "value4 is 6 and its binary representation is 0b110\n",
      "4\n",
      "7\n",
      "3\n",
      "-6\n",
      "20\n",
      "1\n"
     ]
    }
   ],
   "source": [
    "\n",
    "# Bitwise Operators\n",
    "# These operators are used to compare (binary) numbers\n",
    "# It compares the numbers in binary format and performs operations on each bit with the corresponding bits in the same positions. \n",
    "\n",
    "# &   bitwise AND\n",
    "value3 = 5 # 0101\n",
    "value4 = 6 # 0110\n",
    "print(f\"value3 is {value3} and its binary representation is {bin(value3)}\")\n",
    "print(f\"value4 is {value4} and its binary representation is {bin(value4)}\")\n",
    "\n",
    "# (0101) & (0110) = (0100)\n",
    "print(value3 & value4)  # 4 because result is 0100\n",
    "\n",
    "# |   bitwise OR\n",
    "# (0101) | (0110) = (0111)\n",
    "print(value3 | value4) # 7 because result is 0111\n",
    "\n",
    "# ^   bitwise XOR\n",
    "# if one of the bits at least is 1 then result is 1\n",
    "# if both of the bits are same then result is 0\n",
    "# (0101) ^ (0110) = (0011)\n",
    "print(value3 ^ value4) # 3 because result is 0011\n",
    "\n",
    "# ~   bitwise NOT\n",
    "# it is a unary operator\n",
    "# it inverts all the bits of the number\n",
    "# ~(0101) = (1010)\n",
    "print(~value3)  # -6 because result is 1010\n",
    "\n",
    "# <<  left shift\n",
    "# it shifts the bits to the left and fills 0 on the right\n",
    "# 5 = 0000 0101\n",
    "# 5 << 2 \n",
    "# 0000 0101 << 2 = 0001 0100\n",
    "print(value3 << 2)  # 20 because result is 0001 0100\n",
    "\n",
    "# >>  right shift\n",
    "# it shifts the bits to the right and fills 0 on the left\n",
    "# 5 = 0000 0101\n",
    "# 5 >> 2\n",
    "# 0000 0101 >> 2 = 0000 0001\n",
    "print(value3 >> 2)  # 1 because result is 0001\n"
   ]
  },
  {
   "cell_type": "code",
   "execution_count": 93,
   "metadata": {},
   "outputs": [
    {
     "name": "stdout",
     "output_type": "stream",
     "text": [
      "72\n",
      "62\n",
      "186\n",
      "93.0\n",
      "31.0\n",
      "1.0\n",
      "1.0\n",
      "1\n",
      "5\n",
      "6\n",
      "24\n",
      "12\n"
     ]
    }
   ],
   "source": [
    "# Assignment Operators\n",
    "# =    assignment\n",
    "num = 67\n",
    "\n",
    "# +=  add and assign\n",
    "num += 5  # num = num + 5\n",
    "print(num)  # 72\n",
    "\n",
    "# -=  subtract and assign\n",
    "num -= 10  # num = num - 10\n",
    "print(num)  # 62\n",
    "\n",
    "# *=   multiply and assign\n",
    "num *= 3  # num = num * 3\n",
    "print(num)  # 186\n",
    "\n",
    "# /=   divide and assign\n",
    "num /= 2  # num = num / 2\n",
    "print(num)  # 93.0\n",
    "\n",
    "# //= floor divide and assign\n",
    "num //= 3  # num = num // 3\n",
    "print(num)  # 31.0\n",
    "\n",
    "# %=   modulus and assign\n",
    "num %= 5  # num = num % 5\n",
    "print(num)  # 1.0\n",
    "\n",
    "# **= exponentiate and assign\n",
    "num **= 3  # num = num ** 3\n",
    "print(num)  # 1.0\n",
    "\n",
    "\n",
    "# bitwise need integer values so we need to convert the float to integer\n",
    "num = int(num)\n",
    "\n",
    "# &=  bitwise AND and assign\n",
    "num &= 3  # num = num & 3\n",
    "# 1 &= 3  \n",
    "# 0001 & 0011 = 0001\n",
    "print(num)  # 1 \n",
    "\n",
    "# |=  bitwise OR and assign\n",
    "num |= 5  # num = num | 5\n",
    "# 1 |= 5\n",
    "# 0001 | 0101 = 0101\n",
    "print(num)  # 5\n",
    "\n",
    "# ^=   bitwise XOR and assign\n",
    "num ^= 3  # num = num ^ 3\n",
    "# 5 ^= 3\n",
    "# 0101 ^ 0011 = 0110\n",
    "print(num)  # 6\n",
    "\n",
    "# <<=  left shift and assign\n",
    "num <<= 2  # num = num << 2\n",
    "# 6 <<= 2\n",
    "# 0000 0110 << 2 = 0001 1000\n",
    "print(num)  # 24\n",
    "\n",
    "# >>=  right shift and assign\n",
    "num >>= 1  # num = num >> 1\n",
    "# 24 >>= 1\n",
    "# 0001 1000 >> 1 = 0000 1100\n",
    "print(num)  # 12"
   ]
  },
  {
   "cell_type": "code",
   "execution_count": 94,
   "metadata": {},
   "outputs": [
    {
     "name": "stdout",
     "output_type": "stream",
     "text": [
      "True\n",
      "True\n"
     ]
    }
   ],
   "source": [
    "# Membership Operators\n",
    "\n",
    "my_list = [1, 2, 3, 4, 5]\n",
    "\n",
    "# in        membership check\n",
    "print(5 in my_list)  # True\n",
    "\n",
    "# not in    membership check (negated)\n",
    "print(6 not in my_list)  # True"
   ]
  },
  {
   "cell_type": "code",
   "execution_count": 95,
   "metadata": {},
   "outputs": [
    {
     "name": "stdout",
     "output_type": "stream",
     "text": [
      "False\n",
      "True\n",
      "True\n",
      "\n",
      "\n",
      "False\n",
      "<class 'list'>\n",
      "True\n"
     ]
    }
   ],
   "source": [
    "# Identity Operators\n",
    "# is compare the memory location of two objects. (their identity) So it checks if two objects are the same object.\n",
    "# if two objects are the same object, then they have the same memory location. then operation returns True. Else return false\n",
    "\n",
    "num2 = 5\n",
    "# is       identity check\n",
    "print(num is num2)  # False\n",
    "\n",
    "num3 = num2\n",
    "print(num2 is num3)  # True\n",
    "\n",
    "# is not   identity check (negated)\n",
    "print(num is not num2)  # True\n",
    "\n",
    "print(\"\\n\")\n",
    "print(my_list is list) # False\n",
    "print(type(my_list))  # True\n",
    "print(type(my_list) is list)  # True"
   ]
  },
  {
   "cell_type": "markdown",
   "metadata": {},
   "source": [
    "# Type Conversion"
   ]
  },
  {
   "cell_type": "markdown",
   "metadata": {},
   "source": [
    "you can convert types with using target type constructor \n",
    "\n",
    "int→float\n",
    "\n",
    "float→int\n",
    "\n",
    "bool→int \n",
    "\n",
    "bool→ string \n",
    "\n",
    "these conversion is more appropriate"
   ]
  },
  {
   "cell_type": "code",
   "execution_count": 3,
   "metadata": {},
   "outputs": [
    {
     "name": "stdout",
     "output_type": "stream",
     "text": [
      "1.0\n",
      "True\n",
      "True\n"
     ]
    }
   ],
   "source": [
    "value = 1\n",
    "\n",
    "value = float(value)\n",
    "print(value)\n",
    "\n",
    "value = bool(value)\n",
    "print(value)\n",
    "\n",
    "value = str(value)\n",
    "print(value)\n",
    "\n",
    "# value = int(value) # error\n",
    "# print(value)"
   ]
  }
 ],
 "metadata": {
  "kernelspec": {
   "display_name": ".tutorialenv",
   "language": "python",
   "name": "python3"
  },
  "language_info": {
   "codemirror_mode": {
    "name": "ipython",
    "version": 3
   },
   "file_extension": ".py",
   "mimetype": "text/x-python",
   "name": "python",
   "nbconvert_exporter": "python",
   "pygments_lexer": "ipython3",
   "version": "3.12.7"
  }
 },
 "nbformat": 4,
 "nbformat_minor": 2
}
