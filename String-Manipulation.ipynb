{
 "cells": [
  {
   "cell_type": "markdown",
   "metadata": {},
   "source": [
    "# String Data Type"
   ]
  },
  {
   "cell_type": "markdown",
   "metadata": {},
   "source": [
    "## String Declaration"
   ]
  },
  {
   "cell_type": "code",
   "execution_count": 2,
   "metadata": {},
   "outputs": [],
   "source": [
    "# String variable can defining many way. \n",
    "\n",
    "char = 'a'\n",
    "\n",
    "char2 = \"A\"\n",
    "\n",
    "stringVar = 'Hello'\n",
    "\n",
    "stringVar2 = \"Hello\"\n",
    "\n",
    "\n",
    "# If there is multiline then use \"\"\" \"\"\" ''' '''\n",
    "\n",
    "stringVar3 = \"\"\"Lorem ipsum odor amet, consectetuer adipiscing elit. Libero faucibus et sagittis tellus cursus sagittis at. \n",
    "In suspendisse sem egestas finibus eu risus nunc ultrices. Ante primis commodo congue lectus imperdiet duis lacus cursus. \n",
    "Diam dis aliquam accumsan nisi suscipit est quis. Vel proin cubilia vel finibus congue amet efficitur sem.\"\"\"\n",
    "\n",
    "stringVar4 = '''Lorem ipsum odor amet, consectetuer adipiscing elit. Libero faucibus et sagittis tellus cursus sagittis at. \n",
    "In suspendisse sem egestas finibus eu risus nunc ultrices. Ante primis commodo congue lectus imperdiet duis lacus cursus. \n",
    "Diam dis aliquam accumsan nisi suscipit est quis. Vel proin cubilia vel finibus congue amet efficitur sem.'''\n",
    "\n",
    "\n",
    "# also strings can be craeted with string constructor\n",
    "\n",
    "stringVar5 = str()      # creates empty string as default\n",
    "\n",
    "stringVar6 = str(\"Hello World!\")\n",
    "\n",
    "stringVar7 = str('''Lorem ipsum odor amet, consectetuer adipiscing elit. Libero faucibus et sagittis tellus cursus sagittis at. \n",
    "In suspendisse sem egestas finibus eu risus nunc ultrices. Ante primis commodo congue lectus imperdiet duis lacus cursus. \n",
    "Diam dis aliquam accumsan nisi suscipit est quis. Vel proin cubilia vel finibus congue amet efficitur sem.''')"
   ]
  },
  {
   "cell_type": "markdown",
   "metadata": {},
   "source": [
    "## Basic String Usage"
   ]
  },
  {
   "cell_type": "code",
   "execution_count": null,
   "metadata": {},
   "outputs": [
    {
     "name": "stdout",
     "output_type": "stream",
     "text": [
      "H\n",
      "r\n",
      "\n",
      "12\n",
      "\n",
      "llo Wor\n",
      "HloWrd\n",
      "HloWrd\n",
      "!dlroW olleH\n",
      "\n",
      "H\n",
      "e\n",
      "l\n",
      "l\n",
      "o\n",
      " \n",
      "W\n",
      "o\n",
      "r\n",
      "l\n",
      "d\n",
      "!\n"
     ]
    }
   ],
   "source": [
    "myString = \"Hello World!\"\n",
    "\n",
    "# Accessing Characters \n",
    "# string[index]\n",
    "print(myString[0])\n",
    "print(myString[8])\n",
    "\n",
    "print()\n",
    "\n",
    "# Getting length of the string \n",
    "# len(string)\n",
    "strLength = len(myString)\n",
    "print(strLength)            # 12\n",
    "\n",
    "print()\n",
    "\n",
    "# Slicing \n",
    "# string[start:stop:step]   \n",
    "subStr = myString[2:9]      # default step is 1\n",
    "print(subStr)\n",
    "\n",
    "subStr2 = myString[0:12:2]\n",
    "print(subStr2)\n",
    "\n",
    "subStr3 = myString[::2]     # same as above\n",
    "print(subStr3)\n",
    "\n",
    "subStr4 = myString[::-1]    # Reverses the string by slicing it with a step of -1\n",
    "print(subStr4)\n",
    "\n",
    "print()\n",
    "\n",
    "# Iteration\n",
    "for char in myString:\n",
    "    print(char)"
   ]
  },
  {
   "cell_type": "markdown",
   "metadata": {},
   "source": [
    "## String Manipulation Functions"
   ]
  },
  {
   "cell_type": "markdown",
   "metadata": {},
   "source": [
    "#### str()\n",
    " str() constructor function also work as a type converter "
   ]
  },
  {
   "cell_type": "code",
   "execution_count": null,
   "metadata": {},
   "outputs": [
    {
     "name": "stdout",
     "output_type": "stream",
     "text": [
      "1 <class 'str'>\n",
      "False <class 'str'>\n",
      "(2+3j) <class 'str'>\n",
      "b'\\x01\\x02\\x03' <class 'str'>\n",
      "\n",
      "False length: 5 \n",
      " alse\n",
      "\n",
      "(2+3j) length: 6 \n",
      " )j3+2(\n",
      "\n",
      "b'\\x01\\x02\\x03' length: 15 \n",
      " '0\\0\\0\\b\n"
     ]
    }
   ],
   "source": [
    "# str(object)\n",
    "\n",
    "exp1 = str(1)\n",
    "print(exp1, type(exp1))\n",
    "\n",
    "exp2 = str(False)\n",
    "print(exp2, type(exp2))\n",
    "\n",
    "exp3 = str(2+3j)\n",
    "print(exp3, type(exp3))\n",
    "\n",
    "exp4 = str(b'\\x01\\x02\\x03')\n",
    "print(exp4, type(exp4))\n",
    "\n",
    "print()\n",
    "\n",
    "print(exp2, \"length:\", len(exp2), \"\\n\", exp2[1:])\n",
    "\n",
    "print()\n",
    "\n",
    "print(exp3, \"length:\", len(exp3), \"\\n\", exp3[::-1])\n",
    "\n",
    "print()\n",
    "\n",
    "print(exp4, \"length:\", len(exp4), \"\\n\", exp4[::-2])"
   ]
  },
  {
   "cell_type": "markdown",
   "metadata": {},
   "source": [
    "### Formating\n",
    "\n",
    "- str.format()\n",
    "- str.f-string\n",
    "- % formating\n",
    "- str.format_map()"
   ]
  },
  {
   "cell_type": "code",
   "execution_count": null,
   "metadata": {},
   "outputs": [
    {
     "name": "stdout",
     "output_type": "stream",
     "text": [
      "Name: Rai, Surname: Shi, Age: 24\n",
      "Name: {}, Surname: {}, Age: {}\n",
      "\n",
      "Name: Rai, Surname: Shi, Age: 24\n",
      "\n",
      "Here is the shopping list with precedency: tender, brocoli, apple, milk\n",
      "\n",
      "Name: Rai, Surname: Shi, Age: 24, Debt: 56.800000\n",
      "Name: Rai, Surname: Shi, Age: 24, Debt: 56.800\n"
     ]
    }
   ],
   "source": [
    "# formating functions is used for inserting variables into a string.\n",
    "\n",
    "name    = \"Rai\"\n",
    "surname = \"Shi\"\n",
    "age     = 24\n",
    "\n",
    "# format()\n",
    "person = \"Name: {}, Surname: {}, Age: {}\".format(name, surname, age)\n",
    "print(person)\n",
    "\n",
    "person2 = \"Name: {}, Surname: {}, Age: {}\"\n",
    "person2.format(name, surname, age)\n",
    "print(person2)\n",
    "\n",
    "print()\n",
    "\n",
    "# f-strings (Python 3.6+).\n",
    "person3 = f\"Name: {name}, Surname: {surname}, Age: {age}\"\n",
    "print(person3)\n",
    "\n",
    "print()\n",
    "\n",
    "# format_map(mapping)\n",
    "shoppingList = {\"fruit\":\"apple\", \"vegetable\":\"brocoli\",\"dairy\":\"milk\",\"meat\":\"tender\"}\n",
    "print(\"Here is the shopping list with precedency: {meat}, {vegetable}, {fruit}, {dairy}\".format_map(shoppingList))\n",
    "\n",
    "print()\n",
    "\n",
    "# % formating, old one\n",
    "# \"%[converting type]\" % (variables)\n",
    "debt    = 56.8\n",
    "person4 = \"Name: %s, Surname: %s, Age: %d, Debt: %f\" % (name, surname, age, debt)\n",
    "print(person4)\n",
    "\n",
    "person5 = \"Name: %s, Surname: %s, Age: %d, Debt: %.3f\" % (name, surname, age, debt)\n",
    "print(person5)"
   ]
  },
  {
   "cell_type": "markdown",
   "metadata": {},
   "source": [
    "##### Old formating type "
   ]
  },
  {
   "cell_type": "markdown",
   "metadata": {},
   "source": [
    "| **Conversion Type** | **Description**                              | **Example Usage**          | **Result**           |\n",
    "|----------------------|----------------------------------------------|-----------------------------|-----------------------|\n",
    "| `%s`                | String. Represents any object as a string.   | `\"Name: %s\" % \"John\"`       | `Name: John`         |\n",
    "| `%d`                | Integer. Represents whole numbers.           | `\"Age: %d\" % 25`            | `Age: 25`            |\n",
    "| `%i`                | Integer. Same as `%d`.                       | `\"Value: %i\" % 42`          | `Value: 42`          |\n",
    "| `%f`                | Float. Displays decimal numbers (6 digits precision by default). | `\"Price: %f\" % 5.75` | `Price: 5.750000`    |\n",
    "| `%.nf`              | Float. Decimal numbers with `n` digits precision. | `\"%.2f\" % 3.14159`    | `3.14`               |\n",
    "| `%e`                | Float. Scientific notation (exponential).    | `\"Value: %e\" % 1234.56`     | `Value: 1.234560e+03`|\n",
    "| `%E`                | Float. Scientific notation with uppercase `E`. | `\"Value: %E\" % 1234.56`  | `Value: 1.234560E+03`|\n",
    "| `%o`                | Octal (base 8).                              | `\"Octal: %o\" % 8`           | `Octal: 10`          |\n",
    "| `%x`                | Hexadecimal (base 16, lowercase).            | `\"Hex: %x\" % 255`           | `Hex: ff`            |\n",
    "| `%X`                | Hexadecimal (base 16, uppercase).            | `\"Hex: %X\" % 255`           | `Hex: FF`            |\n",
    "| `%c`                | Character. Represents the ASCII character corresponding to an integer. | `\"Char: %c\" % 65`  | `Char: A`           |\n"
   ]
  },
  {
   "cell_type": "code",
   "execution_count": 56,
   "metadata": {},
   "outputs": [
    {
     "name": "stdout",
     "output_type": "stream",
     "text": [
      "       Rai\n",
      "Rai       \n",
      "\n",
      "10\n",
      "10\n",
      "\n",
      "Name       :        Rai\n",
      "Surname    :        Shi\n",
      "\n",
      "00042\n",
      "3.140\n",
      "\n",
      "Success Rate: 85%\n"
     ]
    }
   ],
   "source": [
    "print(\"%10s\" % \"Rai\")       # right allign (give 10 character space)\n",
    "print(\"%-10s\" % \"Rai\")      # left allign \n",
    "\n",
    "print()\n",
    "\n",
    "print(len(\"%-10s\" % \"Name\",))\n",
    "print(len(\"%-10s\" % \"\\nSurname\"))\n",
    "\n",
    "print()\n",
    "\n",
    "print(\"%-10s\" % \"Name\", \":\", \"%10s\" % \"Rai\")\n",
    "print(\"%-10s\" % \"Surname\", \":\", \"%10s\" % \"Shi\")\n",
    "\n",
    "print()\n",
    "\n",
    "print(\"%05d\" % 42)      # Writing 5 digits by padding with zeros.\n",
    "print(\"%.3f\" % 3.14)    # Printing a decimal number with 3 decimal places.\n",
    "\n",
    "print()\n",
    "\n",
    "print(\"Success Rate: %d%%\" % 85) # Using %% to print a percent sign."
   ]
  },
  {
   "cell_type": "markdown",
   "metadata": {},
   "source": [
    "### Allignment\n",
    "- str.center()\n",
    "- str.ljust()\n",
    "- str.rjust()"
   ]
  },
  {
   "cell_type": "code",
   "execution_count": null,
   "metadata": {},
   "outputs": [
    {
     "name": "stdout",
     "output_type": "stream",
     "text": [
      "             Rai              \n",
      "length of the text 30\n",
      "-        Python        -\n",
      "\n",
      "Lorem ipsum odor amet, consectetuer adipiscing elit.                                                \n",
      "Lorem ipsum odor amet, consectetuer adipiscing elit.************************************************\n",
      "\n",
      "                                                Lorem ipsum odor amet, consectetuer adipiscing elit.\n",
      "************************************************Lorem ipsum odor amet, consectetuer adipiscing elit.\n"
     ]
    }
   ],
   "source": [
    "# center(width, fillchar)\n",
    "# centers the string in given char length\n",
    "text = \"Rai\".center(30)\n",
    "print(text)\n",
    "print(\"length of the text\", len(text))\n",
    "\n",
    "text2 = \"Python\"\n",
    "print(\"-\", text2.center(20), \"-\")\n",
    "\n",
    "print()\n",
    "\n",
    "# ljust(width, fillchar)\n",
    "# align text to left \n",
    "print(\"Lorem ipsum odor amet, consectetuer adipiscing elit.\".ljust(100))\n",
    "print(\"Lorem ipsum odor amet, consectetuer adipiscing elit.\".ljust(100, \"*\"))\n",
    "\n",
    "print()\n",
    "\n",
    "# rjust(width, fillchar)\n",
    "# align text to right\n",
    "print(\"Lorem ipsum odor amet, consectetuer adipiscing elit.\".rjust(100))\n",
    "print(\"Lorem ipsum odor amet, consectetuer adipiscing elit.\".rjust(100, \"*\"))"
   ]
  },
  {
   "cell_type": "markdown",
   "metadata": {},
   "source": [
    "### Case Conversion\n",
    "- str.lower()\n",
    "- str.upper()\n",
    "- str.capitalize()\n",
    "- str.title()\n",
    "- str.swapcase()"
   ]
  },
  {
   "cell_type": "code",
   "execution_count": 88,
   "metadata": {},
   "outputs": [
    {
     "name": "stdout",
     "output_type": "stream",
     "text": [
      "Hello : hello\n",
      "HeLLo : hello\n",
      "HELLO : hello\n",
      "\n",
      "Hello : HELLO\n",
      "HeLLo : HELLO\n",
      "hello : HELLO\n",
      "\n",
      "hello : Hello\n",
      "lorem ipsum odor amet, consectetuer adipiscing elit. : Lorem ipsum odor amet, consectetuer adipiscing elit.\n",
      "\n",
      "Lorem ipsum odor amet, consectetuer adipiscing elit. : Lorem Ipsum Odor Amet, Consectetuer Adipiscing Elit.\n",
      "lorem ipsum odor amet, consectetuer adipiscing elit. : Lorem Ipsum Odor Amet, Consectetuer Adipiscing Elit.\n",
      "\n",
      "Hello : hELLO\n",
      "HeLLo : hEllO\n",
      "hello : HELLO\n",
      "HELLO : hello\n"
     ]
    }
   ],
   "source": [
    "text3 = \"Hello\"\n",
    "text4 = \"HeLLo\"\n",
    "text5 = \"hello\"\n",
    "text6 = \"HELLO\"\n",
    "text7 = \"Lorem ipsum odor amet, consectetuer adipiscing elit.\"\n",
    "text8 = \"lorem ipsum odor amet, consectetuer adipiscing elit.\"\n",
    "\n",
    "# lower()\n",
    "# Converts all letters to lowercase.\n",
    "\n",
    "print(text3, \":\", text3.lower())\n",
    "print(text4, \":\", text4.lower())\n",
    "print(text6, \":\", text6.lower())\n",
    "\n",
    "print()\n",
    "# upper()\n",
    "# Converts all letters to uppercase.\n",
    "\n",
    "print(text3, \":\", text3.upper())\n",
    "print(text4, \":\", text4.upper())\n",
    "print(text5, \":\", text5.upper())\n",
    "\n",
    "print()\n",
    "# capitalize()\n",
    "# Capitalizes the first letter of the string.\n",
    "\n",
    "print(text5, \":\", text5.capitalize())\n",
    "print(text8, \":\", text8.capitalize())\n",
    "\n",
    "print()\n",
    "# title()\n",
    "# Capitalizes the first letter of each word.\n",
    "print(text7, \":\", text7.title())\n",
    "print(text8, \":\", text8.title())\n",
    "\n",
    "print()\n",
    "# swapcase()\n",
    "# Converts uppercase letters to lowercase and lowercase letters to uppercase.\n",
    "print(text3, \":\", text3.swapcase())\n",
    "print(text4, \":\", text4.swapcase())\n",
    "print(text5, \":\", text5.swapcase())\n",
    "print(text6, \":\", text6.swapcase())"
   ]
  },
  {
   "cell_type": "markdown",
   "metadata": {},
   "source": [
    "### Striping and Padding\n",
    "\n",
    "- str.strip()\n",
    "- str.lstrip()\n",
    "- str.rstrip()\n",
    "- str.zfill()"
   ]
  },
  {
   "cell_type": "code",
   "execution_count": null,
   "metadata": {},
   "outputs": [
    {
     "name": "stdout",
     "output_type": "stream",
     "text": [
      "          10           : 10\n",
      "***********Hello*********** : Hello\n",
      "\n",
      "          10           : 10          \n",
      "***********Hello*********** : Hello***********\n",
      "\n",
      "          10           :           10\n",
      "***********Hello*********** : ***********Hello\n",
      "\n",
      "length of 0000000000 : 10\n",
      "length of 000000000000000Hello : 20\n"
     ]
    }
   ],
   "source": [
    "text9 = \"***********Hello***********\"\n",
    "text10 = \"          10          \"\n",
    "\n",
    "# strip([chars])\n",
    "# Removes leading and trailing whitespace or specified characters.\n",
    "\n",
    "print(text10, \":\", text10.strip())\n",
    "print(text9, \":\", text9.strip('*'))\n",
    "\n",
    "print()\n",
    "# lstrip([chars])\n",
    "# Removes leading whitespace or specified characters.\n",
    "print(text10, \":\", text10.lstrip())\n",
    "print(text9, \":\", text9.lstrip('*'))\n",
    "\n",
    "print()\n",
    "# rstrip([chars])\n",
    "# Removes trailing whitespace or specified characters.\n",
    "\n",
    "print(text10, \":\", text10.rstrip())\n",
    "print(text9, \":\", text9.rstrip('*'))\n",
    "\n",
    "print()\n",
    "# zfill(width)\n",
    "# The zfill() function creates a string of the specified length and fills the remaining characters with zeros.\n",
    "\n",
    "exp5 = \"\".zfill(10)\n",
    "print(\"length of\", exp5, \":\", len(exp5))\n",
    "\n",
    "exp6 = \"Hello\".zfill(20)\n",
    "print(\"length of\", exp6, \":\", len(exp6))"
   ]
  },
  {
   "cell_type": "markdown",
   "metadata": {},
   "source": [
    "### Searching and Counting\n",
    "- str.find()\n",
    "- str.rfind()\n",
    "- str.index()\n",
    "- str.rindex()\n",
    "- str.count()"
   ]
  },
  {
   "cell_type": "code",
   "execution_count": 23,
   "metadata": {},
   "outputs": [
    {
     "name": "stdout",
     "output_type": "stream",
     "text": [
      "First to is at 9 in Python tutorial beginner to advanced\n",
      "First to is at 25 in Python tutorial beginner to advanced between the index 15 and 36\n",
      "JavaScript is found at -1\n",
      "\n",
      "Last to is at 25 in Python tutorial beginner to advanced\n",
      "Last to is at 9 in Python tutorial beginner to advanced between the index 0 and 15\n",
      "JavaScript is found at -1\n",
      "\n",
      "Last to is at 9 in Python tutorial beginner to advanced\n",
      "Last to is at 25 in Python tutorial beginner to advanced between the index 15 and 36\n",
      "\n",
      "Last to is at 25 in Python tutorial beginner to advanced\n",
      "Last to is at 9 in Python tutorial beginner to advanced between the index 0 and 15\n",
      "\n",
      "There are 3 o in the text: Python tutorial beginner to advanced\n",
      "There are 2 n between the index 21 and 36 in the text: Python tutorial beginner to advanced\n"
     ]
    }
   ],
   "source": [
    "# all function is case sensitive\n",
    "text11 = \"Python tutorial beginner to advanced\"\n",
    "searchingSub = \"to\"\n",
    "searchingSub2 = \"JavaScript\"\n",
    "\n",
    "# find(sub, start, end)\n",
    "# Returns the lowest index of the specified substring (sub) within the string. If not found, returns -1. Optional start and end parameters can specify a range to search.\n",
    "print(\"First\", searchingSub, \"is at\", text11.find(\"to\"), \"in\", text11)\n",
    "print(\"First\", searchingSub, \"is at\", text11.find(\"to\", 15,36), \"in\", text11, \"between the index 15 and 36\")\n",
    "print(searchingSub2, \"is found at\", text11.find(searchingSub2))\n",
    "\n",
    "\n",
    "print()\n",
    "# rfind(sub, start, end)\n",
    "# Returns the highest index of the specified substring (sub) within the string. If not found, returns -1. Optional start and end parameters can specify a range to search.\n",
    "# rfind() function is case sensitive\n",
    "print(\"Last\", searchingSub, \"is at\", text11.rfind(\"to\"), \"in\", text11)\n",
    "print(\"Last\", searchingSub, \"is at\", text11.rfind(\"to\", 0,15), \"in\", text11, \"between the index 0 and 15\")\n",
    "print(searchingSub2, \"is found at\", text11.rfind(searchingSub2))\n",
    "\n",
    "print()\n",
    "# index()\n",
    "# Returns the lowest index of the specified substring (sub) within the string. Raises a ValueError if the substring is not found. Optional start and end parameters can specify a search range.\n",
    "print(\"Last\", searchingSub, \"is at\", text11.index(\"to\"), \"in\", text11)\n",
    "print(\"Last\", searchingSub, \"is at\", text11.index(\"to\", 15,36), \"in\", text11, \"between the index 15 and 36\")\n",
    "# print(searchingSub2, \"is found at\", text11.index(searchingSub2))    # ValueError: substring not found\n",
    "\n",
    "print()\n",
    "# rindex()\n",
    "# Returns the highest index of the specified substring (sub) within the string. Raises a ValueError if the substring is not found. Optional start and end parameters can specify a search range.\n",
    "print(\"Last\", searchingSub, \"is at\", text11.rindex(\"to\"), \"in\", text11)\n",
    "print(\"Last\", searchingSub, \"is at\", text11.rindex(\"to\", 0,15), \"in\", text11, \"between the index 0 and 15\")\n",
    "# print(searchingSub2, \"is found at\", text11.index(searchingSub2))    # ValueError: substring not found\n",
    "\n",
    "print()\n",
    "# count()\n",
    "# Returns the number of non-overlapping occurrences of the specified substring (sub) in the string. Optional start and end parameters can define the range to search.\n",
    "print(\"There are\", text11.count(\"o\"), \"o in the text:\", text11)\n",
    "print(\"There are\", text11.count(\"n\", 21, 36), \"n between the index 21 and 36 in the text:\", text11)"
   ]
  },
  {
   "cell_type": "markdown",
   "metadata": {},
   "source": [
    "### String Inspection\n",
    "- str.startswith()\n",
    "- str.endswith()\n",
    "- str.isalpha()\n",
    "- str.isdigit()\n",
    "- str.isalnum()\n",
    "- str.isspace()\n",
    "- str.islower()\n",
    "- str.isupper()\n",
    "- str.istitle()\n",
    "- str.isascii()"
   ]
  },
  {
   "cell_type": "code",
   "execution_count": 81,
   "metadata": {},
   "outputs": [],
   "source": [
    "text12 = \"Lorem ipsum odor amet, consectetuer adipiscing elit. Libero faucibus et sagittis tellus cursus sagittis at.\"\n",
    "text13 = \"George Orwell 1984\"\n",
    "text14 = \"\"\n",
    "text15 = \"Hello\"\n",
    "text16 = \"2024\"\n",
    "text17 = \" \""
   ]
  },
  {
   "cell_type": "code",
   "execution_count": 71,
   "metadata": {},
   "outputs": [
    {
     "name": "stdout",
     "output_type": "stream",
     "text": [
      "str.startswith()\n",
      "'Lorem ipsum odor amet, consectetuer adipiscing elit. Libero faucibus et sagittis tellus cursus sagittis at.' starts with Lorem:   True\n",
      "'Lorem ipsum odor amet, consectetuer adipiscing elit. Libero faucibus et sagittis tellus cursus sagittis at.' starts with l:       False\n",
      "'ipsum odor amet, consectetuer adipiscing elit. Libero faucibus et sagittis tellus cursus sagittis at' starts with i:              True\n",
      "\n",
      "str.endswith()\n",
      "'Lorem ipsum odor amet, consectetuer adipiscing elit. Libero faucibus et sagittis tellus cursus sagittis at.' ends with at.:       True\n",
      "'Lorem ipsum odor amet, consectetuer adipiscing elit. Libero faucibus et sagittis tellus cursus sagittis at.' ends with Lorem:     False\n",
      "'Lorem ipsum odor amet, consectetuer adipiscing elit. Libero faucibus et' ends with et:                                            True\n"
     ]
    }
   ],
   "source": [
    "# startswith(prefix[, start[, end]])\n",
    "# Returns True if the string starts with the specified prefix. Optional start and end parameters can define a range to check.\n",
    "print(\"str.startswith()\")\n",
    "print(f\"'{text12}' starts with Lorem:\".ljust(130), text12.startswith(\"Lorem\"))      # True\n",
    "print(f\"'{text12}' starts with l:\".ljust(130), text12.startswith(\"l\"))              # False\n",
    "print(f\"'{text12[6:-1]}' starts with i:\".ljust(130),text12.startswith(\"i\", 6,-1))   # True\n",
    "\n",
    "print()\n",
    "# endswith(suffix[, start[, end]])\n",
    "# Returns True if the string ends with the specified suffix. Optional start and end parameters can define a range to check.\n",
    "print(\"str.endswith()\")\n",
    "print(f\"'{text12}' ends with at.:\".ljust(130), text12.endswith(\"at.\"))              # True\n",
    "print(f\"'{text12}' ends with Lorem:\".ljust(130), text12.endswith(\"Lorem\"))          # False\n",
    "print(f\"'{text12[0:71]}' ends with et:\".ljust(130), text12.endswith(\"et\", 0,71))    # True"
   ]
  },
  {
   "cell_type": "code",
   "execution_count": 79,
   "metadata": {},
   "outputs": [
    {
     "name": "stdout",
     "output_type": "stream",
     "text": [
      "str.isalpha()\n",
      "'Lorem ipsum odor amet, consectetuer adipiscing elit. Libero faucibus et sagittis tellus cursus sagittis at.' is all alpha:        False\n",
      "'George Orwell 1984' is all alpha:                                                                                                 False\n",
      "'' is all alpha:                                                                                                                   False\n",
      "'Hello' is all alpha:                                                                                                              True\n",
      "\n",
      "str.isdigit()\n",
      "'Hello' is all digit:     False\n",
      "'2024' is all digit:      True\n",
      "\n",
      "str.isalnum()\n",
      "'Lorem ipsum odor amet, consectetuer adipiscing elit. Libero faucibus et sagittis tellus cursus sagittis at.' is all alpha and/or numeric:   False\n",
      "'George Orwell 1984' is all alpha and/or numeric:                                                                                            False\n",
      "'' is all alpha and/or numeric:                                                                                                              False\n",
      "'Hello' is all alpha and/or numeric:                                                                                                         True\n",
      "'2024' is all alpha and/or numeric:                                                                                                          True\n",
      "\n",
      "str.isspace()\n",
      "'' is space:              False\n",
      "'Hello' is space:         False\n",
      "' ' is space:             True\n"
     ]
    }
   ],
   "source": [
    "# isalpha()\n",
    "# Returns True if the string contains only alphabetic characters and is not empty.\n",
    "print(\"str.isalpha()\")\n",
    "print(f\"'{text12}' is all alpha:\".ljust(130), text12.isalpha())                     # False\n",
    "print(f\"'{text13}' is all alpha:\".ljust(130), text13.isalpha())                     # False\n",
    "print(f\"'{text14}' is all alpha:\".ljust(130), text14.isalpha())                     # False\n",
    "print(f\"'{text15}' is all alpha:\".ljust(130), text15.isalpha())                     # True\n",
    "\n",
    "print()\n",
    "# isdigit()\n",
    "# Returns True if the string contains only digits and is not empty.\n",
    "print(\"str.isdigit()\")\n",
    "print(f\"'{text15}' is all digit:\".ljust(25), text15.isdigit())                      # False\n",
    "print(f\"'{text16}' is all digit:\".ljust(25), text16.isdigit())                      # True\n",
    "\n",
    "print()\n",
    "# isalnum()\n",
    "# Returns True if the string contains only alphabetic characters and/or digits and is not empty.\n",
    "print(\"str.isalnum()\")\n",
    "print(f\"'{text12}' is all alpha and/or numeric:\".ljust(140), text12.isalnum())      # False\n",
    "print(f\"'{text13}' is all alpha and/or numeric:\".ljust(140), text13.isalnum())      # False\n",
    "print(f\"'{text14}' is all alpha and/or numeric:\".ljust(140), text14.isalnum())      # False\n",
    "print(f\"'{text15}' is all alpha and/or numeric:\".ljust(140), text15.isalnum())      # True\n",
    "print(f\"'{text16}' is all alpha and/or numeric:\".ljust(140), text16.isalnum())      # True\n",
    "\n",
    "print()\n",
    "# isspace()\n",
    "# Returns True if the string contains only whitespace characters and is not empty.\n",
    "print(\"str.isspace()\")\n",
    "print(f\"'{text14}' is space:\".ljust(25), text14.isspace())                      # False\n",
    "print(f\"'{text15}' is space:\".ljust(25), text15.isspace())                      # False\n",
    "print(f\"'{text17}' is space:\".ljust(25), text17.isspace())                      # True"
   ]
  },
  {
   "cell_type": "code",
   "execution_count": null,
   "metadata": {},
   "outputs": [],
   "source": [
    "text18 =  \"HELLO\"\n",
    "text19 = \"hello\""
   ]
  },
  {
   "cell_type": "code",
   "execution_count": 97,
   "metadata": {},
   "outputs": [
    {
     "name": "stdout",
     "output_type": "stream",
     "text": [
      "str.islower()\n",
      "'HELLO' is lower:    False\n",
      "'hello' is lower:    True\n",
      "\n",
      "str.isupper()\n",
      "'HELLO' is upper:    True\n",
      "'hello' is upper:    False\n",
      "\n",
      "str.istitle()\n",
      "'Hello' is title:              True\n",
      "'George Orwell 1984' is title: True\n",
      "'HELLO' is title:              False\n",
      "'hello' is title:              False\n",
      "\n",
      "str.isascii()\n",
      "'Lorem ipsum odor amet, consectetuer adipiscing elit. Libero faucibus et sagittis tellus cursus sagittis at.' is ASCII: True\n",
      "'George Orwell 1984' is ASCII: True\n",
      "'' is ASCII:                   True\n",
      "'Hello' is ASCII:              True\n",
      "'2024' is ASCII:               True\n",
      "' ' is ASCII:                  True\n",
      "'HELLO' is ASCII:              True\n",
      "'hello' is ASCII:              True\n"
     ]
    }
   ],
   "source": [
    "# islower()\n",
    "# Returns True if all alphabetic characters in the string are lowercase.\n",
    "print(\"str.islower()\")\n",
    "print(f\"'{text18}' is lower:\".ljust(20), text18.islower())\n",
    "print(f\"'{text19}' is lower:\".ljust(20), text19.islower())\n",
    "\n",
    "print()\n",
    "# isupper()\n",
    "# Returns True if all alphabetic characters in the string are uppercase.\n",
    "print(\"str.isupper()\")\n",
    "print(f\"'{text18}' is upper:\".ljust(20), text18.isupper())\n",
    "print(f\"'{text19}' is upper:\".ljust(20), text19.isupper())\n",
    "\n",
    "print()\n",
    "# istitle()\n",
    "# Returns True if the string is in title case (each word starts with an uppercase letter followed by lowercase letters).\n",
    "print(\"str.istitle()\")\n",
    "print(f\"'{text15}' is title:\".ljust(30), text15.istitle())\n",
    "print(f\"'{text13}' is title:\".ljust(30), text13.istitle())\n",
    "print(f\"'{text18}' is title:\".ljust(30), text18.istitle())\n",
    "print(f\"'{text19}' is title:\".ljust(30), text19.istitle())\n",
    "\n",
    "print()\n",
    "# isascii()\n",
    "# Returns True if all characters in the string are ASCII characters.\n",
    "print(\"str.isascii()\")\n",
    "print(f\"'{text12}' is ASCII:\".ljust(30), text12.isascii())\n",
    "print(f\"'{text13}' is ASCII:\".ljust(30), text13.isascii())\n",
    "print(f\"'{text14}' is ASCII:\".ljust(30), text14.isascii())\n",
    "print(f\"'{text15}' is ASCII:\".ljust(30), text15.isascii())\n",
    "print(f\"'{text16}' is ASCII:\".ljust(30), text16.isascii())\n",
    "print(f\"'{text17}' is ASCII:\".ljust(30), text17.isascii())\n",
    "print(f\"'{text18}' is ASCII:\".ljust(30), text18.isascii())\n",
    "print(f\"'{text19}' is ASCII:\".ljust(30), text19.isascii())"
   ]
  },
  {
   "cell_type": "markdown",
   "metadata": {},
   "source": [
    "### Modifying and Replacing\n",
    "- str.replace()\n",
    "- str.maketrans()\n",
    "- str.translate()"
   ]
  },
  {
   "cell_type": "code",
   "execution_count": 6,
   "metadata": {},
   "outputs": [
    {
     "name": "stdout",
     "output_type": "stream",
     "text": [
      "Lorem ipsum odor ameT, consecTeTuer adipiscing eliT. Libero faucibus eT sagiTTis Tellus cursus sagiTTis aT.\n",
      "Lorem ipsum odor ameT, consecTeTuer adipiscing elit. Libero faucibus et sagittis tellus cursus sagittis at.\n"
     ]
    }
   ],
   "source": [
    "text20 = \"Lorem ipsum odor amet, consectetuer adipiscing elit. Libero faucibus et sagittis tellus cursus sagittis at.\"\n",
    "\n",
    "# str.replace(old, new, count)\n",
    "# Returns a copy of the string where all occurrences of the substring old are replaced with new. If count is specified, only the first count occurrences are replaced.\n",
    "# Default count parameter is -1 which means replace all occurrences\n",
    "print(text20.replace(\"t\", \"T\"))\n",
    "print(text20.replace(\"t\", \"T\", 3))"
   ]
  },
  {
   "cell_type": "markdown",
   "metadata": {},
   "source": [
    "**str.maketrans(x, y, z)**\n",
    "\n",
    "Creates a translation table for use with str.translate().\n",
    "- If x is a dictionary, it specifies the mapping of characters.\n",
    "- If x and y are strings, **they must have the same length**, and each character in x is mapped to the character at the same position in y.\n",
    "- z is an optional string of characters to delete\n",
    "\n",
    "**str.translate(table)**\n",
    "\n",
    "Returns a copy of the string where characters are mapped according to the given translation table (created using str.maketrans()).\n",
    "\n",
    "\n",
    "So in summary,\n",
    "\n",
    "**str.maketrans(x, y, z):** \n",
    "- x → Characters to be transformed.  \n",
    "- y → Characters after transformation.  \n",
    "- z → Characters to be removed.  \n",
    "\n",
    "**translate(table):** Applies the translation table to the string.  \n"
   ]
  },
  {
   "cell_type": "code",
   "execution_count": null,
   "metadata": {},
   "outputs": [
    {
     "name": "stdout",
     "output_type": "stream",
     "text": [
      "translate table: {97: 49, 98: 50}\n",
      "'abcdefgabhijab' is translated into 12cdefg12hij12\n",
      "\n",
      "deletion table: {97: None, 98: None, 99: None, 105: None}\n",
      "'abcdefgabhijab' is translated into defghj\n",
      "\n",
      "mapping table: {97: 'A', 98: 'B'}\n",
      "'abcdefgabhijab' is translated into ABcdefgABhijAB\n",
      "\n",
      "table: {97: 105, 98: 118, 99: 121, 100: None, 103: None, 104: None}\n",
      "'abcdefgabhijab' is translated into ivyefivijiv\n"
     ]
    }
   ],
   "source": [
    "text21 = \"abcdefgabhijab\"\n",
    "\n",
    "# basic char translation\n",
    "table_translate = str.maketrans(\"ab\", \"12\")\n",
    "print(\"translate table:\", table_translate)\n",
    "\n",
    "newText = text21.translate(table_translate)\n",
    "print(f\"'{text21}' is translated into {newText}\")\n",
    "\n",
    "print()\n",
    "# char deletion\n",
    "table_delete = str.maketrans(\"\", \"\", \"abci\")\n",
    "print(\"deletion table:\", table_delete)\n",
    "newText2 = text21.translate(table_delete)\n",
    "print(f\"'{text21}' is translated into {newText2}\")\n",
    "\n",
    "\n",
    "print()\n",
    "# cretaing map\n",
    "table_map = str.maketrans({\"a\":\"A\", \"b\":\"B\"})\n",
    "print(\"mapping table:\", table_map)\n",
    "\n",
    "newText3 = text21.translate(table_map)\n",
    "print(f\"'{text21}' is translated into {newText3}\")\n",
    "\n",
    "print()\n",
    "# translation and deleting\n",
    "table = str.maketrans(\"abc\", \"ivy\", \"dgh\")\n",
    "print(\"table:\", table)\n",
    "\n",
    "newText4 = text21.translate(table)\n",
    "print(f\"'{text21}' is translated into {newText4}\")"
   ]
  },
  {
   "cell_type": "markdown",
   "metadata": {},
   "source": [
    "### Splitting and Joining\n",
    "- str.split()\n",
    "- str.rsplit()\n",
    "- str.partition()\n",
    "- str.rpartition()\n",
    "- str.splitlines()\n",
    "- str.join()"
   ]
  },
  {
   "cell_type": "code",
   "execution_count": 37,
   "metadata": {},
   "outputs": [
    {
     "name": "stdout",
     "output_type": "stream",
     "text": [
      "['Lorem', 'ipsum', 'odor', 'amet,', 'consectetuer', 'adipiscing', 'elit.', 'Libero', 'faucibus', 'et', 'sagittis', 'tellus', 'cursus', 'sagittis', 'at.']\n",
      "['Lorem', 'ipsum', 'odor', 'amet,', 'consectetuer', 'adipiscing elit. Libero faucibus et sagittis tellus cursus sagittis at.']\n",
      "['Python', 'Tutorial', 'Beginner', 'To', 'Advanced']\n",
      "Python\n",
      "Tutorial\n",
      "Beginner\n",
      "To\n",
      "Advanced\n",
      "\n",
      "['Lorem', 'ipsum', 'odor', 'amet,', 'consectetuer', 'adipiscing', 'elit.', 'Libero', 'faucibus', 'et', 'sagittis', 'tellus', 'cursus', 'sagittis', 'at.']\n",
      "['Lorem ipsum odor amet, consectetuer adipiscing elit. Libero faucibus et', 'sagittis', 'tellus', 'cursus', 'sagittis', 'at.']\n",
      "['Python', 'Tutorial', 'Beginner', 'To', 'Advanced']\n"
     ]
    }
   ],
   "source": [
    "text22 = \"Lorem ipsum odor amet, consectetuer adipiscing elit. Libero faucibus et sagittis tellus cursus sagittis at.\"\n",
    "text23= \"Python-Tutorial-Beginner-To-Advanced\"\n",
    "\n",
    "# str.split(sep, maxsplit)\n",
    "# Splits the string into a list of substrings using the specified separator (sep). \n",
    "# If no separator is provided, splits on whitespace. The optional maxsplit parameter limits the number of splits.\n",
    "print(text22.split())\n",
    "print(text22.split(maxsplit=5))\n",
    "print(text23.split(\"-\"))\n",
    "for item in text23.split(\"-\"):\n",
    "    print(item)\n",
    "\n",
    "print()\n",
    "# str.rsplit(sep, maxsplit)\n",
    "# Similar to split(), but splits from the right. \n",
    "# The optional maxsplit parameter limits the number of splits from the end of the string.\n",
    "print(text22.rsplit())\n",
    "print(text22.rsplit(maxsplit=5))\n",
    "print(text23.rsplit(\"-\"))"
   ]
  },
  {
   "cell_type": "code",
   "execution_count": 36,
   "metadata": {},
   "outputs": [
    {
     "name": "stdout",
     "output_type": "stream",
     "text": [
      "('Lorem', ' ', 'ipsum odor amet, consectetuer adipiscing elit. Libero faucibus et sagittis tellus cursus sagittis at.')\n",
      "('Python', '-', 'Tutorial-Beginner-To-Advanced')\n",
      "username of the email is \u001b[1mexp1\u001b[0m and the domain is \u001b[1mgmail.com\u001b[0m . Also of course email address contains the sign \u001b[1m@\u001b[0m \n",
      "\n",
      "('Python-Tutorial-Beginner-To', '-', 'Advanced')\n",
      "before: Python-Tutorial-Beginner-To\n",
      "partitionKey: -\n",
      "after: Advanced\n"
     ]
    }
   ],
   "source": [
    "# str.partition(sep)\n",
    "# Splits the string at the first occurrence of the specified separator (sep) and returns a tuple with three parts: \n",
    "# the part before the separator, \n",
    "# the separator itself, \n",
    "# and the part after the separator.\n",
    "print(text22.partition(\" \"))\n",
    "print(text23.partition(\"-\"))\n",
    "\n",
    "text24 = \"exp1@gmail.com\"\n",
    "username, atSign, domain = (text24.partition(\"@\"))\n",
    "print(f\"username of the email is \\033[1m{username}\\033[0m and the domain is \\033[1m{domain}\\033[0m . Also of course email address contains the sign \\033[1m{atSign}\\033[0m \")\n",
    "# ANSI escape codes, \n",
    "# '\\033[1m' for making bold \n",
    "# '\\033[0m' for ending styling \n",
    "\n",
    "print()\n",
    "# str.rpartition(sep)\n",
    "# Similar to partition(), but splits at the last occurrence of the specified separator (sep) and returns a tuple with three parts: \n",
    "# the part before the separator, \n",
    "# the separator itself, \n",
    "# and the part after the separator.\n",
    "print(text23.rpartition(\"-\"))\n",
    "before, partitionKey, after = text23.rpartition(\"-\")\n",
    "print(\"before:\", before)\n",
    "print(\"partitionKey:\", partitionKey)\n",
    "print(\"after:\", after)"
   ]
  },
  {
   "cell_type": "code",
   "execution_count": 42,
   "metadata": {},
   "outputs": [
    {
     "name": "stdout",
     "output_type": "stream",
     "text": [
      "['Lorem ipsum dolor sit amet, consectetur adipiscing elit, sed do eiusmod tempor incididunt ut labore et dolore magna aliqua. \\n', 'Ut enim ad minim veniam, quis nostrud exercitation ullamco laboris nisi ut aliquip ex ea commodo consequat. \\n', 'Duis aute irure dolor in reprehenderit in voluptate velit esse cillum dolore eu fugiat nulla pariatur. \\n', 'Excepteur sint occaecat cupidatat non proident, sunt in culpa qui officia deserunt mollit anim id est laborum.']\n",
      "Lorem ipsum dolor sit amet, consectetur adipiscing elit, sed do eiusmod tempor incididunt ut labore et dolore magna aliqua. \n",
      "Ut enim ad minim veniam, quis nostrud exercitation ullamco laboris nisi ut aliquip ex ea commodo consequat. \n",
      "Duis aute irure dolor in reprehenderit in voluptate velit esse cillum dolore eu fugiat nulla pariatur. \n",
      "Excepteur sint occaecat cupidatat non proident, sunt in culpa qui officia deserunt mollit anim id est laborum.\n",
      "\n",
      "Python-Tutorial-Beginner-To-Advanced\n",
      "['Python', 'Tutorial', 'Beginner', 'To', 'Advanced']\n",
      "PythonTutorialBeginnerToAdvanced\n",
      "Python*Tutorial*Beginner*To*Advanced\n",
      "Python Tutorial Beginner To Advanced\n"
     ]
    }
   ],
   "source": [
    "# str.splitlines([keepends])\n",
    "# Splits the string into a list of lines, breaking at line boundaries (\\n, \\r, etc.). \n",
    "# If keepends is True, the line endings are included in the results.\n",
    "text25 = \"\"\"Lorem ipsum dolor sit amet, consectetur adipiscing elit, sed do eiusmod tempor incididunt ut labore et dolore magna aliqua. \n",
    "Ut enim ad minim veniam, quis nostrud exercitation ullamco laboris nisi ut aliquip ex ea commodo consequat. \n",
    "Duis aute irure dolor in reprehenderit in voluptate velit esse cillum dolore eu fugiat nulla pariatur. \n",
    "Excepteur sint occaecat cupidatat non proident, sunt in culpa qui officia deserunt mollit anim id est laborum.\"\"\"\n",
    "print(text25.splitlines(True)) # kept lien endings \"\\n\" \n",
    "\n",
    "for item in text25.splitlines():\n",
    "    print(item)\n",
    "\n",
    "print()\n",
    "# str.join(iterable)\n",
    "# Joins the elements of an iterable (e.g., a list or tuple) into a single string, with the string as the separator between elements.\n",
    "print(text23)\n",
    "textList = text23.split(\"-\")\n",
    "print(textList)\n",
    "\n",
    "print(\"\".join(textList))\n",
    "print(\"*\".join(textList))\n",
    "print(\" \".join(textList))"
   ]
  },
  {
   "cell_type": "markdown",
   "metadata": {},
   "source": [
    "### Encoding and Decoding\n",
    "- str.encode()\n",
    "- str.decode()\n",
    "- str.ord()\n",
    "- str.chr()"
   ]
  },
  {
   "cell_type": "markdown",
   "metadata": {},
   "source": [
    "### Miscellaneous\n",
    "- str.casefold\n",
    "- str.expandtabs"
   ]
  },
  {
   "cell_type": "markdown",
   "metadata": {},
   "source": [
    "## String Constant\n",
    "- str.ascii_letters\n",
    "- str.ascii_lowercase\n",
    "- str.ascii_uppercase\n",
    "- str.digits\n",
    "- str.punctuation\n",
    "- str.whitespace"
   ]
  },
  {
   "cell_type": "markdown",
   "metadata": {},
   "source": [
    "## dir(str)"
   ]
  },
  {
   "cell_type": "markdown",
   "metadata": {},
   "source": [
    "## Libraries\n",
    "- re\n",
    "- textwrap\n",
    "- unicodedata\n",
    "- base64\n",
    "- hashlib\n",
    "\n",
    "\n",
    "re.sub(pattern, repl, string[, count])\n",
    "\n",
    "Replaces occurrences of a pattern in the string with repl. If count is specified, only the first count occurrences are replaced."
   ]
  },
  {
   "cell_type": "code",
   "execution_count": null,
   "metadata": {},
   "outputs": [],
   "source": [
    "# ROT13 için bir çeviri tablosu oluştur\n",
    "import string\n",
    "\n",
    "alphabet = string.ascii_lowercase  # 'abcdefghijklmnopqrstuvwxyz'\n",
    "rotated = alphabet[13:] + alphabet[:13]  # 'nopqrstuvwxyzabcdefghijklm'\n",
    "\n",
    "# Büyük ve küçük harfler için tablo\n",
    "translation_table = str.maketrans(\n",
    "    alphabet + alphabet.upper(),  # Orijinal küçük ve büyük harfler\n",
    "    rotated + rotated.upper()     # ROT13'e dönüştürülmüş karşılıkları\n",
    ")\n",
    "\n",
    "# Metni dönüştür\n",
    "text = \"Hello, World!\"\n",
    "encrypted_text = text.translate(translation_table)\n",
    "print(\"Encrypted:\", encrypted_text)  # Çıktı: \"Uryyb, Jbeyq!\"\n",
    "\n",
    "# Şifre çözme (ROT13, aynı işlemle çözülür)\n",
    "decrypted_text = encrypted_text.translate(translation_table)\n",
    "print(\"Decrypted:\", decrypted_text)  # Çıktı: \"Hello, World!\"\n"
   ]
  },
  {
   "cell_type": "markdown",
   "metadata": {},
   "source": [
    "# ANSI Escape Codes"
   ]
  }
 ],
 "metadata": {
  "kernelspec": {
   "display_name": ".tutorialenv",
   "language": "python",
   "name": "python3"
  },
  "language_info": {
   "codemirror_mode": {
    "name": "ipython",
    "version": 3
   },
   "file_extension": ".py",
   "mimetype": "text/x-python",
   "name": "python",
   "nbconvert_exporter": "python",
   "pygments_lexer": "ipython3",
   "version": "3.12.7"
  }
 },
 "nbformat": 4,
 "nbformat_minor": 2
}
