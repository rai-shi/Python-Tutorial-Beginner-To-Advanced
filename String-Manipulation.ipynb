{
 "cells": [
  {
   "cell_type": "markdown",
   "metadata": {},
   "source": [
    "# String Data Type"
   ]
  },
  {
   "cell_type": "markdown",
   "metadata": {},
   "source": [
    "## String Declaration"
   ]
  },
  {
   "cell_type": "code",
   "execution_count": 2,
   "metadata": {},
   "outputs": [],
   "source": [
    "# String variable can defining many way. \n",
    "\n",
    "char = 'a'\n",
    "\n",
    "char2 = \"A\"\n",
    "\n",
    "stringVar = 'Hello'\n",
    "\n",
    "stringVar2 = \"Hello\"\n",
    "\n",
    "\n",
    "# If there is multiline then use \"\"\" \"\"\" ''' '''\n",
    "\n",
    "stringVar3 = \"\"\"Lorem ipsum odor amet, consectetuer adipiscing elit. Libero faucibus et sagittis tellus cursus sagittis at. \n",
    "In suspendisse sem egestas finibus eu risus nunc ultrices. Ante primis commodo congue lectus imperdiet duis lacus cursus. \n",
    "Diam dis aliquam accumsan nisi suscipit est quis. Vel proin cubilia vel finibus congue amet efficitur sem.\"\"\"\n",
    "\n",
    "stringVar4 = '''Lorem ipsum odor amet, consectetuer adipiscing elit. Libero faucibus et sagittis tellus cursus sagittis at. \n",
    "In suspendisse sem egestas finibus eu risus nunc ultrices. Ante primis commodo congue lectus imperdiet duis lacus cursus. \n",
    "Diam dis aliquam accumsan nisi suscipit est quis. Vel proin cubilia vel finibus congue amet efficitur sem.'''\n",
    "\n",
    "\n",
    "# also strings can be craeted with string constructor\n",
    "\n",
    "stringVar5 = str()      # creates empty string as default\n",
    "\n",
    "stringVar6 = str(\"Hello World!\")\n",
    "\n",
    "stringVar7 = str('''Lorem ipsum odor amet, consectetuer adipiscing elit. Libero faucibus et sagittis tellus cursus sagittis at. \n",
    "In suspendisse sem egestas finibus eu risus nunc ultrices. Ante primis commodo congue lectus imperdiet duis lacus cursus. \n",
    "Diam dis aliquam accumsan nisi suscipit est quis. Vel proin cubilia vel finibus congue amet efficitur sem.''')"
   ]
  },
  {
   "cell_type": "markdown",
   "metadata": {},
   "source": [
    "## Basic String Usage"
   ]
  },
  {
   "cell_type": "code",
   "execution_count": null,
   "metadata": {},
   "outputs": [
    {
     "name": "stdout",
     "output_type": "stream",
     "text": [
      "H\n",
      "r\n",
      "\n",
      "12\n",
      "\n",
      "llo Wor\n",
      "HloWrd\n",
      "HloWrd\n",
      "!dlroW olleH\n",
      "\n",
      "H\n",
      "e\n",
      "l\n",
      "l\n",
      "o\n",
      " \n",
      "W\n",
      "o\n",
      "r\n",
      "l\n",
      "d\n",
      "!\n"
     ]
    }
   ],
   "source": [
    "myString = \"Hello World!\"\n",
    "\n",
    "# Accessing Characters \n",
    "# string[index]\n",
    "print(myString[0])\n",
    "print(myString[8])\n",
    "\n",
    "print()\n",
    "\n",
    "# Getting length of the string \n",
    "# len(string)\n",
    "strLength = len(myString)\n",
    "print(strLength)            # 12\n",
    "\n",
    "print()\n",
    "\n",
    "# Slicing \n",
    "# string[start:stop:step]   \n",
    "subStr = myString[2:9]      # default step is 1\n",
    "print(subStr)\n",
    "\n",
    "subStr2 = myString[0:12:2]\n",
    "print(subStr2)\n",
    "\n",
    "subStr3 = myString[::2]     # same as above\n",
    "print(subStr3)\n",
    "\n",
    "subStr4 = myString[::-1]    # Reverses the string by slicing it with a step of -1\n",
    "print(subStr4)\n",
    "\n",
    "print()\n",
    "\n",
    "# Iteration\n",
    "for char in myString:\n",
    "    print(char)"
   ]
  },
  {
   "cell_type": "markdown",
   "metadata": {},
   "source": [
    "## All Attributes List"
   ]
  },
  {
   "cell_type": "code",
   "execution_count": null,
   "metadata": {},
   "outputs": [
    {
     "name": "stdout",
     "output_type": "stream",
     "text": [
      "['__add__', '__class__', '__contains__', '__delattr__', '__dir__', '__doc__', '__eq__', '__format__', '__ge__', '__getattribute__', '__getitem__', '__getnewargs__', '__getstate__', '__gt__', '__hash__', '__init__', '__init_subclass__', '__iter__', '__le__', '__len__', '__lt__', '__mod__', '__mul__', '__ne__', '__new__', '__reduce__', '__reduce_ex__', '__repr__', '__rmod__', '__rmul__', '__setattr__', '__sizeof__', '__str__', '__subclasshook__', 'capitalize', 'casefold', 'center', 'count', 'encode', 'endswith', 'expandtabs', 'find', 'format', 'format_map', 'index', 'isalnum', 'isalpha', 'isascii', 'isdecimal', 'isdigit', 'isidentifier', 'islower', 'isnumeric', 'isprintable', 'isspace', 'istitle', 'isupper', 'join', 'ljust', 'lower', 'lstrip', 'maketrans', 'partition', 'removeprefix', 'removesuffix', 'replace', 'rfind', 'rindex', 'rjust', 'rpartition', 'rsplit', 'rstrip', 'split', 'splitlines', 'startswith', 'strip', 'swapcase', 'title', 'translate', 'upper', 'zfill']\n"
     ]
    }
   ],
   "source": [
    "# We can list attributes of any class/module with print(dir(str))\n",
    "print(dir(str))"
   ]
  },
  {
   "cell_type": "code",
   "execution_count": null,
   "metadata": {},
   "outputs": [
    {
     "name": "stdout",
     "output_type": "stream",
     "text": [
      "capitalize\n",
      "casefold\n",
      "center\n",
      "count\n",
      "encode\n",
      "endswith\n",
      "expandtabs\n",
      "find\n",
      "format\n",
      "format_map\n",
      "index\n",
      "isalnum\n",
      "isalpha\n",
      "isascii\n",
      "isdecimal\n",
      "isdigit\n",
      "isidentifier\n",
      "islower\n",
      "isnumeric\n",
      "isprintable\n",
      "isspace\n",
      "istitle\n",
      "isupper\n",
      "join\n",
      "ljust\n",
      "lower\n",
      "lstrip\n",
      "maketrans\n",
      "partition\n",
      "removeprefix\n",
      "removesuffix\n",
      "replace\n",
      "rfind\n",
      "rindex\n",
      "rjust\n",
      "rpartition\n",
      "rsplit\n",
      "rstrip\n",
      "split\n",
      "splitlines\n",
      "startswith\n",
      "strip\n",
      "swapcase\n",
      "title\n",
      "translate\n",
      "upper\n",
      "zfill\n"
     ]
    }
   ],
   "source": [
    "# there function is showned at String Manipulation Function section.\n",
    "for attribute in dir(str):\n",
    "    if attribute.find(\"__\") == -1:\n",
    "        print(attribute)   "
   ]
  },
  {
   "cell_type": "code",
   "execution_count": 53,
   "metadata": {},
   "outputs": [
    {
     "name": "stdout",
     "output_type": "stream",
     "text": [
      "__add__\n",
      "__class__\n",
      "__contains__\n",
      "__delattr__\n",
      "__dir__\n",
      "__doc__\n",
      "__eq__\n",
      "__format__\n",
      "__ge__\n",
      "__getattribute__\n",
      "__getitem__\n",
      "__getnewargs__\n",
      "__getstate__\n",
      "__gt__\n",
      "__hash__\n",
      "__init__\n",
      "__init_subclass__\n",
      "__iter__\n",
      "__le__\n",
      "__len__\n",
      "__lt__\n",
      "__mod__\n",
      "__mul__\n",
      "__ne__\n",
      "__new__\n",
      "__reduce__\n",
      "__reduce_ex__\n",
      "__repr__\n",
      "__rmod__\n",
      "__rmul__\n",
      "__setattr__\n",
      "__sizeof__\n",
      "__str__\n",
      "__subclasshook__\n"
     ]
    }
   ],
   "source": [
    "# and also there is dunder methods that each built-in and user-defined Python classes can have all or most of them.\n",
    "for attribute in dir(str):\n",
    "    if attribute.find(\"__\") != -1:\n",
    "        print(attribute)   "
   ]
  },
  {
   "cell_type": "markdown",
   "metadata": {},
   "source": [
    "## String Manipulation Functions"
   ]
  },
  {
   "cell_type": "markdown",
   "metadata": {},
   "source": [
    "#### str()\n",
    " str() constructor function also work as a type converter "
   ]
  },
  {
   "cell_type": "code",
   "execution_count": null,
   "metadata": {},
   "outputs": [
    {
     "name": "stdout",
     "output_type": "stream",
     "text": [
      "1 <class 'str'>\n",
      "False <class 'str'>\n",
      "(2+3j) <class 'str'>\n",
      "b'\\x01\\x02\\x03' <class 'str'>\n",
      "\n",
      "False length: 5 \n",
      " alse\n",
      "\n",
      "(2+3j) length: 6 \n",
      " )j3+2(\n",
      "\n",
      "b'\\x01\\x02\\x03' length: 15 \n",
      " '0\\0\\0\\b\n"
     ]
    }
   ],
   "source": [
    "# str(object)\n",
    "\n",
    "exp1 = str(1)\n",
    "print(exp1, type(exp1))\n",
    "\n",
    "exp2 = str(False)\n",
    "print(exp2, type(exp2))\n",
    "\n",
    "exp3 = str(2+3j)\n",
    "print(exp3, type(exp3))\n",
    "\n",
    "exp4 = str(b'\\x01\\x02\\x03')\n",
    "print(exp4, type(exp4))\n",
    "\n",
    "print()\n",
    "\n",
    "print(exp2, \"length:\", len(exp2), \"\\n\", exp2[1:])\n",
    "\n",
    "print()\n",
    "\n",
    "print(exp3, \"length:\", len(exp3), \"\\n\", exp3[::-1])\n",
    "\n",
    "print()\n",
    "\n",
    "print(exp4, \"length:\", len(exp4), \"\\n\", exp4[::-2])"
   ]
  },
  {
   "cell_type": "markdown",
   "metadata": {},
   "source": [
    "### Formating\n",
    "\n",
    "- str.format()\n",
    "- str.f-string\n",
    "- % formating\n",
    "- str.format_map()"
   ]
  },
  {
   "cell_type": "code",
   "execution_count": null,
   "metadata": {},
   "outputs": [
    {
     "name": "stdout",
     "output_type": "stream",
     "text": [
      "Name: Rai, Surname: Shi, Age: 24\n",
      "Name: {}, Surname: {}, Age: {}\n",
      "\n",
      "Name: Rai, Surname: Shi, Age: 24\n",
      "\n",
      "Here is the shopping list with precedency: tender, brocoli, apple, milk\n",
      "\n",
      "Name: Rai, Surname: Shi, Age: 24, Debt: 56.800000\n",
      "Name: Rai, Surname: Shi, Age: 24, Debt: 56.800\n"
     ]
    }
   ],
   "source": [
    "# formating functions is used for inserting variables into a string.\n",
    "\n",
    "name    = \"Rai\"\n",
    "surname = \"Shi\"\n",
    "age     = 24\n",
    "\n",
    "# format()\n",
    "person = \"Name: {}, Surname: {}, Age: {}\".format(name, surname, age)\n",
    "print(person)\n",
    "\n",
    "person2 = \"Name: {}, Surname: {}, Age: {}\"\n",
    "person2.format(name, surname, age)\n",
    "print(person2)\n",
    "\n",
    "print()\n",
    "\n",
    "# f-strings (Python 3.6+).\n",
    "person3 = f\"Name: {name}, Surname: {surname}, Age: {age}\"\n",
    "print(person3)\n",
    "\n",
    "print()\n",
    "\n",
    "# format_map(mapping)\n",
    "shoppingList = {\"fruit\":\"apple\", \"vegetable\":\"brocoli\",\"dairy\":\"milk\",\"meat\":\"tender\"}\n",
    "print(\"Here is the shopping list with precedency: {meat}, {vegetable}, {fruit}, {dairy}\".format_map(shoppingList))\n",
    "\n",
    "print()\n",
    "\n",
    "# % formating, old one\n",
    "# \"%[converting type]\" % (variables)\n",
    "debt    = 56.8\n",
    "person4 = \"Name: %s, Surname: %s, Age: %d, Debt: %f\" % (name, surname, age, debt)\n",
    "print(person4)\n",
    "\n",
    "person5 = \"Name: %s, Surname: %s, Age: %d, Debt: %.3f\" % (name, surname, age, debt)\n",
    "print(person5)"
   ]
  },
  {
   "cell_type": "markdown",
   "metadata": {},
   "source": [
    "##### Old formating type "
   ]
  },
  {
   "cell_type": "markdown",
   "metadata": {},
   "source": [
    "| **Conversion Type** | **Description**                              | **Example Usage**          | **Result**           |\n",
    "|----------------------|----------------------------------------------|-----------------------------|-----------------------|\n",
    "| `%s`                | String. Represents any object as a string.   | `\"Name: %s\" % \"John\"`       | `Name: John`         |\n",
    "| `%d`                | Integer. Represents whole numbers.           | `\"Age: %d\" % 25`            | `Age: 25`            |\n",
    "| `%i`                | Integer. Same as `%d`.                       | `\"Value: %i\" % 42`          | `Value: 42`          |\n",
    "| `%f`                | Float. Displays decimal numbers (6 digits precision by default). | `\"Price: %f\" % 5.75` | `Price: 5.750000`    |\n",
    "| `%.nf`              | Float. Decimal numbers with `n` digits precision. | `\"%.2f\" % 3.14159`    | `3.14`               |\n",
    "| `%e`                | Float. Scientific notation (exponential).    | `\"Value: %e\" % 1234.56`     | `Value: 1.234560e+03`|\n",
    "| `%E`                | Float. Scientific notation with uppercase `E`. | `\"Value: %E\" % 1234.56`  | `Value: 1.234560E+03`|\n",
    "| `%o`                | Octal (base 8).                              | `\"Octal: %o\" % 8`           | `Octal: 10`          |\n",
    "| `%x`                | Hexadecimal (base 16, lowercase).            | `\"Hex: %x\" % 255`           | `Hex: ff`            |\n",
    "| `%X`                | Hexadecimal (base 16, uppercase).            | `\"Hex: %X\" % 255`           | `Hex: FF`            |\n",
    "| `%c`                | Character. Represents the ASCII character corresponding to an integer. | `\"Char: %c\" % 65`  | `Char: A`           |\n"
   ]
  },
  {
   "cell_type": "code",
   "execution_count": 56,
   "metadata": {},
   "outputs": [
    {
     "name": "stdout",
     "output_type": "stream",
     "text": [
      "       Rai\n",
      "Rai       \n",
      "\n",
      "10\n",
      "10\n",
      "\n",
      "Name       :        Rai\n",
      "Surname    :        Shi\n",
      "\n",
      "00042\n",
      "3.140\n",
      "\n",
      "Success Rate: 85%\n"
     ]
    }
   ],
   "source": [
    "print(\"%10s\" % \"Rai\")       # right allign (give 10 character space)\n",
    "print(\"%-10s\" % \"Rai\")      # left allign \n",
    "\n",
    "print()\n",
    "\n",
    "print(len(\"%-10s\" % \"Name\",))\n",
    "print(len(\"%-10s\" % \"\\nSurname\"))\n",
    "\n",
    "print()\n",
    "\n",
    "print(\"%-10s\" % \"Name\", \":\", \"%10s\" % \"Rai\")\n",
    "print(\"%-10s\" % \"Surname\", \":\", \"%10s\" % \"Shi\")\n",
    "\n",
    "print()\n",
    "\n",
    "print(\"%05d\" % 42)      # Writing 5 digits by padding with zeros.\n",
    "print(\"%.3f\" % 3.14)    # Printing a decimal number with 3 decimal places.\n",
    "\n",
    "print()\n",
    "\n",
    "print(\"Success Rate: %d%%\" % 85) # Using %% to print a percent sign."
   ]
  },
  {
   "cell_type": "markdown",
   "metadata": {},
   "source": [
    "### Allignment\n",
    "- str.center()\n",
    "- str.ljust()\n",
    "- str.rjust()"
   ]
  },
  {
   "cell_type": "code",
   "execution_count": null,
   "metadata": {},
   "outputs": [
    {
     "name": "stdout",
     "output_type": "stream",
     "text": [
      "             Rai              \n",
      "length of the text 30\n",
      "-        Python        -\n",
      "\n",
      "Lorem ipsum odor amet, consectetuer adipiscing elit.                                                \n",
      "Lorem ipsum odor amet, consectetuer adipiscing elit.************************************************\n",
      "\n",
      "                                                Lorem ipsum odor amet, consectetuer adipiscing elit.\n",
      "************************************************Lorem ipsum odor amet, consectetuer adipiscing elit.\n"
     ]
    }
   ],
   "source": [
    "# center(width, fillchar)\n",
    "# centers the string in given char length\n",
    "text = \"Rai\".center(30)\n",
    "print(text)\n",
    "print(\"length of the text\", len(text))\n",
    "\n",
    "text2 = \"Python\"\n",
    "print(\"-\", text2.center(20), \"-\")\n",
    "\n",
    "print()\n",
    "\n",
    "# ljust(width, fillchar)\n",
    "# align text to left \n",
    "print(\"Lorem ipsum odor amet, consectetuer adipiscing elit.\".ljust(100))\n",
    "print(\"Lorem ipsum odor amet, consectetuer adipiscing elit.\".ljust(100, \"*\"))\n",
    "\n",
    "print()\n",
    "\n",
    "# rjust(width, fillchar)\n",
    "# align text to right\n",
    "print(\"Lorem ipsum odor amet, consectetuer adipiscing elit.\".rjust(100))\n",
    "print(\"Lorem ipsum odor amet, consectetuer adipiscing elit.\".rjust(100, \"*\"))"
   ]
  },
  {
   "cell_type": "markdown",
   "metadata": {},
   "source": [
    "### Case Conversion\n",
    "- str.lower()\n",
    "- str.upper()\n",
    "- str.capitalize()\n",
    "- str.title()\n",
    "- str.swapcase()\n",
    "- str.casefold()"
   ]
  },
  {
   "cell_type": "code",
   "execution_count": 17,
   "metadata": {},
   "outputs": [
    {
     "name": "stdout",
     "output_type": "stream",
     "text": [
      "Hello : hello\n",
      "HeLLo : hello\n",
      "HELLO : hello\n",
      "\n",
      "HELLO : hello\n",
      "Straße : strasse\n",
      "STRASSE : strasse\n",
      "True\n",
      "\n",
      "Hello : HELLO\n",
      "HeLLo : HELLO\n",
      "hello : HELLO\n",
      "\n",
      "hello : Hello\n",
      "lorem ipsum odor amet, consectetuer adipiscing elit. : Lorem ipsum odor amet, consectetuer adipiscing elit.\n",
      "\n",
      "Lorem ipsum odor amet, consectetuer adipiscing elit. : Lorem Ipsum Odor Amet, Consectetuer Adipiscing Elit.\n",
      "lorem ipsum odor amet, consectetuer adipiscing elit. : Lorem Ipsum Odor Amet, Consectetuer Adipiscing Elit.\n",
      "\n",
      "Hello : hELLO\n",
      "HeLLo : hEllO\n",
      "hello : HELLO\n",
      "HELLO : hello\n"
     ]
    }
   ],
   "source": [
    "text3 = \"Hello\"\n",
    "text4 = \"HeLLo\"\n",
    "text5 = \"hello\"\n",
    "text6 = \"HELLO\"\n",
    "text7 = \"Lorem ipsum odor amet, consectetuer adipiscing elit.\"\n",
    "text8 = \"lorem ipsum odor amet, consectetuer adipiscing elit.\"\n",
    "\n",
    "# lower()\n",
    "# Converts all letters to lowercase.\n",
    "\n",
    "print(text3, \":\", text3.lower())\n",
    "print(text4, \":\", text4.lower())\n",
    "print(text6, \":\", text6.lower())\n",
    "\n",
    "print()\n",
    "# str.casefold()\n",
    "# Returns a case-insensitive, lowercase version of the string. \n",
    "# It is more aggressive than lower() and designed for caseless comparisons (e.g., in languages with special cases like German).\n",
    "print(text6, \":\", text6.casefold())\n",
    "\n",
    "germantext = \"Straße\"\n",
    "germantext2 = \"STRASSE\"\n",
    "print(germantext, \":\", germantext.casefold())\n",
    "print(germantext2, \":\", germantext2.casefold())\n",
    "print(germantext.casefold() == germantext2.casefold())  # Output: True\n",
    "\n",
    "\n",
    "print()\n",
    "# upper()\n",
    "# Converts all letters to uppercase.\n",
    "\n",
    "print(text3, \":\", text3.upper())\n",
    "print(text4, \":\", text4.upper())\n",
    "print(text5, \":\", text5.upper())\n",
    "\n",
    "print()\n",
    "# capitalize()\n",
    "# Capitalizes the first letter of the string.\n",
    "\n",
    "print(text5, \":\", text5.capitalize())\n",
    "print(text8, \":\", text8.capitalize())\n",
    "\n",
    "print()\n",
    "# title()\n",
    "# Capitalizes the first letter of each word.\n",
    "print(text7, \":\", text7.title())\n",
    "print(text8, \":\", text8.title())\n",
    "\n",
    "print()\n",
    "# swapcase()\n",
    "# Converts uppercase letters to lowercase and lowercase letters to uppercase.\n",
    "print(text3, \":\", text3.swapcase())\n",
    "print(text4, \":\", text4.swapcase())\n",
    "print(text5, \":\", text5.swapcase())\n",
    "print(text6, \":\", text6.swapcase())"
   ]
  },
  {
   "cell_type": "markdown",
   "metadata": {},
   "source": [
    "### Striping and Padding\n",
    "\n",
    "- str.strip()\n",
    "- str.lstrip()\n",
    "- str.rstrip()\n",
    "- str.zfill()"
   ]
  },
  {
   "cell_type": "code",
   "execution_count": null,
   "metadata": {},
   "outputs": [
    {
     "name": "stdout",
     "output_type": "stream",
     "text": [
      "          10           : 10\n",
      "***********Hello*********** : Hello\n",
      "\n",
      "          10           : 10          \n",
      "***********Hello*********** : Hello***********\n",
      "\n",
      "          10           :           10\n",
      "***********Hello*********** : ***********Hello\n",
      "\n",
      "length of 0000000000 : 10\n",
      "length of 000000000000000Hello : 20\n"
     ]
    }
   ],
   "source": [
    "text9 = \"***********Hello***********\"\n",
    "text10 = \"          10          \"\n",
    "\n",
    "# strip([chars])\n",
    "# Removes leading and trailing whitespace or specified characters.\n",
    "\n",
    "print(text10, \":\", text10.strip())\n",
    "print(text9, \":\", text9.strip('*'))\n",
    "\n",
    "print()\n",
    "# lstrip([chars])\n",
    "# Removes leading whitespace or specified characters.\n",
    "print(text10, \":\", text10.lstrip())\n",
    "print(text9, \":\", text9.lstrip('*'))\n",
    "\n",
    "print()\n",
    "# rstrip([chars])\n",
    "# Removes trailing whitespace or specified characters.\n",
    "\n",
    "print(text10, \":\", text10.rstrip())\n",
    "print(text9, \":\", text9.rstrip('*'))\n",
    "\n",
    "print()\n",
    "# zfill(width)\n",
    "# The zfill() function creates a string of the specified length and fills the remaining characters with zeros.\n",
    "\n",
    "exp5 = \"\".zfill(10)\n",
    "print(\"length of\", exp5, \":\", len(exp5))\n",
    "\n",
    "exp6 = \"Hello\".zfill(20)\n",
    "print(\"length of\", exp6, \":\", len(exp6))"
   ]
  },
  {
   "cell_type": "markdown",
   "metadata": {},
   "source": [
    "### Searching and Counting\n",
    "- str.find()\n",
    "- str.rfind()\n",
    "- str.index()\n",
    "- str.rindex()\n",
    "- str.count()"
   ]
  },
  {
   "cell_type": "code",
   "execution_count": 23,
   "metadata": {},
   "outputs": [
    {
     "name": "stdout",
     "output_type": "stream",
     "text": [
      "First to is at 9 in Python tutorial beginner to advanced\n",
      "First to is at 25 in Python tutorial beginner to advanced between the index 15 and 36\n",
      "JavaScript is found at -1\n",
      "\n",
      "Last to is at 25 in Python tutorial beginner to advanced\n",
      "Last to is at 9 in Python tutorial beginner to advanced between the index 0 and 15\n",
      "JavaScript is found at -1\n",
      "\n",
      "Last to is at 9 in Python tutorial beginner to advanced\n",
      "Last to is at 25 in Python tutorial beginner to advanced between the index 15 and 36\n",
      "\n",
      "Last to is at 25 in Python tutorial beginner to advanced\n",
      "Last to is at 9 in Python tutorial beginner to advanced between the index 0 and 15\n",
      "\n",
      "There are 3 o in the text: Python tutorial beginner to advanced\n",
      "There are 2 n between the index 21 and 36 in the text: Python tutorial beginner to advanced\n"
     ]
    }
   ],
   "source": [
    "# all function is case sensitive\n",
    "text11 = \"Python tutorial beginner to advanced\"\n",
    "searchingSub = \"to\"\n",
    "searchingSub2 = \"JavaScript\"\n",
    "\n",
    "# find(sub, start, end)\n",
    "# Returns the lowest index of the specified substring (sub) within the string. If not found, returns -1. Optional start and end parameters can specify a range to search.\n",
    "print(\"First\", searchingSub, \"is at\", text11.find(\"to\"), \"in\", text11)\n",
    "print(\"First\", searchingSub, \"is at\", text11.find(\"to\", 15,36), \"in\", text11, \"between the index 15 and 36\")\n",
    "print(searchingSub2, \"is found at\", text11.find(searchingSub2))\n",
    "\n",
    "\n",
    "print()\n",
    "# rfind(sub, start, end)\n",
    "# Returns the highest index of the specified substring (sub) within the string. If not found, returns -1. Optional start and end parameters can specify a range to search.\n",
    "# rfind() function is case sensitive\n",
    "print(\"Last\", searchingSub, \"is at\", text11.rfind(\"to\"), \"in\", text11)\n",
    "print(\"Last\", searchingSub, \"is at\", text11.rfind(\"to\", 0,15), \"in\", text11, \"between the index 0 and 15\")\n",
    "print(searchingSub2, \"is found at\", text11.rfind(searchingSub2))\n",
    "\n",
    "print()\n",
    "# index()\n",
    "# Returns the lowest index of the specified substring (sub) within the string. Raises a ValueError if the substring is not found. Optional start and end parameters can specify a search range.\n",
    "print(\"Last\", searchingSub, \"is at\", text11.index(\"to\"), \"in\", text11)\n",
    "print(\"Last\", searchingSub, \"is at\", text11.index(\"to\", 15,36), \"in\", text11, \"between the index 15 and 36\")\n",
    "# print(searchingSub2, \"is found at\", text11.index(searchingSub2))    # ValueError: substring not found\n",
    "\n",
    "print()\n",
    "# rindex()\n",
    "# Returns the highest index of the specified substring (sub) within the string. Raises a ValueError if the substring is not found. Optional start and end parameters can specify a search range.\n",
    "print(\"Last\", searchingSub, \"is at\", text11.rindex(\"to\"), \"in\", text11)\n",
    "print(\"Last\", searchingSub, \"is at\", text11.rindex(\"to\", 0,15), \"in\", text11, \"between the index 0 and 15\")\n",
    "# print(searchingSub2, \"is found at\", text11.index(searchingSub2))    # ValueError: substring not found\n",
    "\n",
    "print()\n",
    "# count()\n",
    "# Returns the number of non-overlapping occurrences of the specified substring (sub) in the string. Optional start and end parameters can define the range to search.\n",
    "print(\"There are\", text11.count(\"o\"), \"o in the text:\", text11)\n",
    "print(\"There are\", text11.count(\"n\", 21, 36), \"n between the index 21 and 36 in the text:\", text11)"
   ]
  },
  {
   "cell_type": "markdown",
   "metadata": {},
   "source": [
    "### String Inspection\n",
    "- str.startswith()\n",
    "- str.endswith()\n",
    "- str.isalpha()\n",
    "- str.isdigit()\n",
    "- str.isalnum()\n",
    "- str.isspace()\n",
    "- str.islower()\n",
    "- str.isupper()\n",
    "- str.istitle()\n",
    "- str.isascii()"
   ]
  },
  {
   "cell_type": "code",
   "execution_count": 81,
   "metadata": {},
   "outputs": [],
   "source": [
    "text12 = \"Lorem ipsum odor amet, consectetuer adipiscing elit. Libero faucibus et sagittis tellus cursus sagittis at.\"\n",
    "text13 = \"George Orwell 1984\"\n",
    "text14 = \"\"\n",
    "text15 = \"Hello\"\n",
    "text16 = \"2024\"\n",
    "text17 = \" \""
   ]
  },
  {
   "cell_type": "code",
   "execution_count": 71,
   "metadata": {},
   "outputs": [
    {
     "name": "stdout",
     "output_type": "stream",
     "text": [
      "str.startswith()\n",
      "'Lorem ipsum odor amet, consectetuer adipiscing elit. Libero faucibus et sagittis tellus cursus sagittis at.' starts with Lorem:   True\n",
      "'Lorem ipsum odor amet, consectetuer adipiscing elit. Libero faucibus et sagittis tellus cursus sagittis at.' starts with l:       False\n",
      "'ipsum odor amet, consectetuer adipiscing elit. Libero faucibus et sagittis tellus cursus sagittis at' starts with i:              True\n",
      "\n",
      "str.endswith()\n",
      "'Lorem ipsum odor amet, consectetuer adipiscing elit. Libero faucibus et sagittis tellus cursus sagittis at.' ends with at.:       True\n",
      "'Lorem ipsum odor amet, consectetuer adipiscing elit. Libero faucibus et sagittis tellus cursus sagittis at.' ends with Lorem:     False\n",
      "'Lorem ipsum odor amet, consectetuer adipiscing elit. Libero faucibus et' ends with et:                                            True\n"
     ]
    }
   ],
   "source": [
    "# startswith(prefix[, start[, end]])\n",
    "# Returns True if the string starts with the specified prefix. Optional start and end parameters can define a range to check.\n",
    "print(\"str.startswith()\")\n",
    "print(f\"'{text12}' starts with Lorem:\".ljust(130), text12.startswith(\"Lorem\"))      # True\n",
    "print(f\"'{text12}' starts with l:\".ljust(130), text12.startswith(\"l\"))              # False\n",
    "print(f\"'{text12[6:-1]}' starts with i:\".ljust(130),text12.startswith(\"i\", 6,-1))   # True\n",
    "\n",
    "print()\n",
    "# endswith(suffix[, start[, end]])\n",
    "# Returns True if the string ends with the specified suffix. Optional start and end parameters can define a range to check.\n",
    "print(\"str.endswith()\")\n",
    "print(f\"'{text12}' ends with at.:\".ljust(130), text12.endswith(\"at.\"))              # True\n",
    "print(f\"'{text12}' ends with Lorem:\".ljust(130), text12.endswith(\"Lorem\"))          # False\n",
    "print(f\"'{text12[0:71]}' ends with et:\".ljust(130), text12.endswith(\"et\", 0,71))    # True"
   ]
  },
  {
   "cell_type": "code",
   "execution_count": 79,
   "metadata": {},
   "outputs": [
    {
     "name": "stdout",
     "output_type": "stream",
     "text": [
      "str.isalpha()\n",
      "'Lorem ipsum odor amet, consectetuer adipiscing elit. Libero faucibus et sagittis tellus cursus sagittis at.' is all alpha:        False\n",
      "'George Orwell 1984' is all alpha:                                                                                                 False\n",
      "'' is all alpha:                                                                                                                   False\n",
      "'Hello' is all alpha:                                                                                                              True\n",
      "\n",
      "str.isdigit()\n",
      "'Hello' is all digit:     False\n",
      "'2024' is all digit:      True\n",
      "\n",
      "str.isalnum()\n",
      "'Lorem ipsum odor amet, consectetuer adipiscing elit. Libero faucibus et sagittis tellus cursus sagittis at.' is all alpha and/or numeric:   False\n",
      "'George Orwell 1984' is all alpha and/or numeric:                                                                                            False\n",
      "'' is all alpha and/or numeric:                                                                                                              False\n",
      "'Hello' is all alpha and/or numeric:                                                                                                         True\n",
      "'2024' is all alpha and/or numeric:                                                                                                          True\n",
      "\n",
      "str.isspace()\n",
      "'' is space:              False\n",
      "'Hello' is space:         False\n",
      "' ' is space:             True\n"
     ]
    }
   ],
   "source": [
    "# isalpha()\n",
    "# Returns True if the string contains only alphabetic characters and is not empty.\n",
    "print(\"str.isalpha()\")\n",
    "print(f\"'{text12}' is all alpha:\".ljust(130), text12.isalpha())                     # False\n",
    "print(f\"'{text13}' is all alpha:\".ljust(130), text13.isalpha())                     # False\n",
    "print(f\"'{text14}' is all alpha:\".ljust(130), text14.isalpha())                     # False\n",
    "print(f\"'{text15}' is all alpha:\".ljust(130), text15.isalpha())                     # True\n",
    "\n",
    "print()\n",
    "# isdigit()\n",
    "# Returns True if the string contains only digits and is not empty.\n",
    "print(\"str.isdigit()\")\n",
    "print(f\"'{text15}' is all digit:\".ljust(25), text15.isdigit())                      # False\n",
    "print(f\"'{text16}' is all digit:\".ljust(25), text16.isdigit())                      # True\n",
    "\n",
    "print()\n",
    "# isalnum()\n",
    "# Returns True if the string contains only alphabetic characters and/or digits and is not empty.\n",
    "print(\"str.isalnum()\")\n",
    "print(f\"'{text12}' is all alpha and/or numeric:\".ljust(140), text12.isalnum())      # False\n",
    "print(f\"'{text13}' is all alpha and/or numeric:\".ljust(140), text13.isalnum())      # False\n",
    "print(f\"'{text14}' is all alpha and/or numeric:\".ljust(140), text14.isalnum())      # False\n",
    "print(f\"'{text15}' is all alpha and/or numeric:\".ljust(140), text15.isalnum())      # True\n",
    "print(f\"'{text16}' is all alpha and/or numeric:\".ljust(140), text16.isalnum())      # True\n",
    "\n",
    "print()\n",
    "# isspace()\n",
    "# Returns True if the string contains only whitespace characters and is not empty.\n",
    "print(\"str.isspace()\")\n",
    "print(f\"'{text14}' is space:\".ljust(25), text14.isspace())                      # False\n",
    "print(f\"'{text15}' is space:\".ljust(25), text15.isspace())                      # False\n",
    "print(f\"'{text17}' is space:\".ljust(25), text17.isspace())                      # True"
   ]
  },
  {
   "cell_type": "code",
   "execution_count": null,
   "metadata": {},
   "outputs": [],
   "source": [
    "text18 =  \"HELLO\"\n",
    "text19 = \"hello\""
   ]
  },
  {
   "cell_type": "code",
   "execution_count": 97,
   "metadata": {},
   "outputs": [
    {
     "name": "stdout",
     "output_type": "stream",
     "text": [
      "str.islower()\n",
      "'HELLO' is lower:    False\n",
      "'hello' is lower:    True\n",
      "\n",
      "str.isupper()\n",
      "'HELLO' is upper:    True\n",
      "'hello' is upper:    False\n",
      "\n",
      "str.istitle()\n",
      "'Hello' is title:              True\n",
      "'George Orwell 1984' is title: True\n",
      "'HELLO' is title:              False\n",
      "'hello' is title:              False\n",
      "\n",
      "str.isascii()\n",
      "'Lorem ipsum odor amet, consectetuer adipiscing elit. Libero faucibus et sagittis tellus cursus sagittis at.' is ASCII: True\n",
      "'George Orwell 1984' is ASCII: True\n",
      "'' is ASCII:                   True\n",
      "'Hello' is ASCII:              True\n",
      "'2024' is ASCII:               True\n",
      "' ' is ASCII:                  True\n",
      "'HELLO' is ASCII:              True\n",
      "'hello' is ASCII:              True\n"
     ]
    }
   ],
   "source": [
    "# islower()\n",
    "# Returns True if all alphabetic characters in the string are lowercase.\n",
    "print(\"str.islower()\")\n",
    "print(f\"'{text18}' is lower:\".ljust(20), text18.islower())\n",
    "print(f\"'{text19}' is lower:\".ljust(20), text19.islower())\n",
    "\n",
    "print()\n",
    "# isupper()\n",
    "# Returns True if all alphabetic characters in the string are uppercase.\n",
    "print(\"str.isupper()\")\n",
    "print(f\"'{text18}' is upper:\".ljust(20), text18.isupper())\n",
    "print(f\"'{text19}' is upper:\".ljust(20), text19.isupper())\n",
    "\n",
    "print()\n",
    "# istitle()\n",
    "# Returns True if the string is in title case (each word starts with an uppercase letter followed by lowercase letters).\n",
    "print(\"str.istitle()\")\n",
    "print(f\"'{text15}' is title:\".ljust(30), text15.istitle())\n",
    "print(f\"'{text13}' is title:\".ljust(30), text13.istitle())\n",
    "print(f\"'{text18}' is title:\".ljust(30), text18.istitle())\n",
    "print(f\"'{text19}' is title:\".ljust(30), text19.istitle())\n",
    "\n",
    "print()\n",
    "# isascii()\n",
    "# Returns True if all characters in the string are ASCII characters.\n",
    "print(\"str.isascii()\")\n",
    "print(f\"'{text12}' is ASCII:\".ljust(30), text12.isascii())\n",
    "print(f\"'{text13}' is ASCII:\".ljust(30), text13.isascii())\n",
    "print(f\"'{text14}' is ASCII:\".ljust(30), text14.isascii())\n",
    "print(f\"'{text15}' is ASCII:\".ljust(30), text15.isascii())\n",
    "print(f\"'{text16}' is ASCII:\".ljust(30), text16.isascii())\n",
    "print(f\"'{text17}' is ASCII:\".ljust(30), text17.isascii())\n",
    "print(f\"'{text18}' is ASCII:\".ljust(30), text18.isascii())\n",
    "print(f\"'{text19}' is ASCII:\".ljust(30), text19.isascii())"
   ]
  },
  {
   "cell_type": "markdown",
   "metadata": {},
   "source": [
    "### Modifying and Replacing\n",
    "- str.replace()\n",
    "- str.expandtabs()\n",
    "- str.removeprefix()\n",
    "- str.removesuffix()\n",
    "- str.maketrans()\n",
    "- str.translate()"
   ]
  },
  {
   "cell_type": "code",
   "execution_count": 32,
   "metadata": {},
   "outputs": [
    {
     "name": "stdout",
     "output_type": "stream",
     "text": [
      "Lorem ipsum odor ameT, consecTeTuer adipiscing eliT. Libero faucibus eT sagiTTis Tellus cursus sagiTTis aT.\n",
      "Lorem ipsum odor ameT, consecTeTuer adipiscing elit. Libero faucibus et sagittis tellus cursus sagittis at.\n",
      "\n",
      "Column1 Column2 Column3\n",
      "Column1     Column2     Column3\n",
      "Column1           Column2           Column3\n",
      "Column1                             Column2                             Column3\n"
     ]
    }
   ],
   "source": [
    "text20 = \"Lorem ipsum odor amet, consectetuer adipiscing elit. Libero faucibus et sagittis tellus cursus sagittis at.\"\n",
    "\n",
    "# str.replace(old, new, count)\n",
    "# Returns a copy of the string where all occurrences of the substring old are replaced with new. If count is specified, only the first count occurrences are replaced.\n",
    "# Default count parameter is -1 which means replace all occurrences\n",
    "print(text20.replace(\"t\", \"T\"))\n",
    "print(text20.replace(\"t\", \"T\", 3))\n",
    "\n",
    "print()\n",
    "# str.expandtabs(tabsize=8)\n",
    "# Replaces all tab characters (\\t) in the string with spaces. The number of spaces is determined by the tabsize parameter (default is 8).\n",
    "tabbedText = \"Column1\\tColumn2\\tColumn3\"\n",
    "print(tabbedText.expandtabs())  \n",
    "print(tabbedText.expandtabs(12))  \n",
    "print(tabbedText.expandtabs(18))  \n",
    "print(tabbedText.expandtabs(36))  "
   ]
  },
  {
   "cell_type": "code",
   "execution_count": 48,
   "metadata": {},
   "outputs": [
    {
     "name": "stdout",
     "output_type": "stream",
     "text": [
      "happy\n",
      "certain\n",
      "usual\n",
      "clear\n",
      "reliable\n",
      "Despite the uncertain situation, the team's unreliable predictions led to an unusual outcome that left everyone unhappy.\n",
      "\n",
      "happi\n",
      "dark\n",
      "kind\n",
      "soft\n",
      "sick\n"
     ]
    }
   ],
   "source": [
    "# removeprefix(prefix)\n",
    "wordWithPrefix = [\"Unhappy\", \"Uncertain\", \"Unusual\", \"Unclear\", \"Unreliable\"]\n",
    "for word in wordWithPrefix:\n",
    "    print(word.removeprefix(\"Un\"))\n",
    "\n",
    "prefixText = \"Despite the uncertain situation, the team's unreliable predictions led to an unusual outcome that left everyone unhappy.\"\n",
    "print(prefixText.removeprefix(\"un\"))        # prefix need to be first substring in the string\n",
    "\n",
    "print()\n",
    "# removesuffix(suffix)\n",
    "wordWithSuffix = [\"happiness\", \"darkness\", \"kindness\", \"softness\", \"sickness\"]\n",
    "for word in wordWithSuffix:\n",
    "    print(word.removesuffix(\"ness\"))"
   ]
  },
  {
   "cell_type": "markdown",
   "metadata": {},
   "source": [
    "**str.maketrans(x, y, z)**\n",
    "\n",
    "Creates a translation table for use with str.translate().\n",
    "- If x is a dictionary, it specifies the mapping of characters.\n",
    "- If x and y are strings, **they must have the same length**, and each character in x is mapped to the character at the same position in y.\n",
    "- z is an optional string of characters to delete\n",
    "\n",
    "**str.translate(table)**\n",
    "\n",
    "Returns a copy of the string where characters are mapped according to the given translation table (created using str.maketrans()).\n",
    "\n",
    "\n",
    "So in summary,\n",
    "\n",
    "**str.maketrans(x, y, z):** \n",
    "- x → Characters to be transformed.  \n",
    "- y → Characters after transformation.  \n",
    "- z → Characters to be removed.  \n",
    "\n",
    "**translate(table):** Applies the translation table to the string.  \n"
   ]
  },
  {
   "cell_type": "code",
   "execution_count": null,
   "metadata": {},
   "outputs": [
    {
     "name": "stdout",
     "output_type": "stream",
     "text": [
      "translate table: {97: 49, 98: 50}\n",
      "'abcdefgabhijab' is translated into 12cdefg12hij12\n",
      "\n",
      "deletion table: {97: None, 98: None, 99: None, 105: None}\n",
      "'abcdefgabhijab' is translated into defghj\n",
      "\n",
      "mapping table: {97: 'A', 98: 'B'}\n",
      "'abcdefgabhijab' is translated into ABcdefgABhijAB\n",
      "\n",
      "table: {97: 105, 98: 118, 99: 121, 100: None, 103: None, 104: None}\n",
      "'abcdefgabhijab' is translated into ivyefivijiv\n"
     ]
    }
   ],
   "source": [
    "text21 = \"abcdefgabhijab\"\n",
    "\n",
    "# basic char translation\n",
    "table_translate = str.maketrans(\"ab\", \"12\")\n",
    "print(\"translate table:\", table_translate)\n",
    "\n",
    "newText = text21.translate(table_translate)\n",
    "print(f\"'{text21}' is translated into {newText}\")\n",
    "\n",
    "print()\n",
    "# char deletion\n",
    "table_delete = str.maketrans(\"\", \"\", \"abci\")\n",
    "print(\"deletion table:\", table_delete)\n",
    "newText2 = text21.translate(table_delete)\n",
    "print(f\"'{text21}' is translated into {newText2}\")\n",
    "\n",
    "\n",
    "print()\n",
    "# cretaing map\n",
    "table_map = str.maketrans({\"a\":\"A\", \"b\":\"B\"})\n",
    "print(\"mapping table:\", table_map)\n",
    "\n",
    "newText3 = text21.translate(table_map)\n",
    "print(f\"'{text21}' is translated into {newText3}\")\n",
    "\n",
    "print()\n",
    "# translation and deleting\n",
    "table = str.maketrans(\"abc\", \"ivy\", \"dgh\")\n",
    "print(\"table:\", table)\n",
    "\n",
    "newText4 = text21.translate(table)\n",
    "print(f\"'{text21}' is translated into {newText4}\")"
   ]
  },
  {
   "cell_type": "markdown",
   "metadata": {},
   "source": [
    "### Splitting and Joining\n",
    "- str.split()\n",
    "- str.rsplit()\n",
    "- str.partition()\n",
    "- str.rpartition()\n",
    "- str.splitlines()\n",
    "- str.join()"
   ]
  },
  {
   "cell_type": "code",
   "execution_count": 37,
   "metadata": {},
   "outputs": [
    {
     "name": "stdout",
     "output_type": "stream",
     "text": [
      "['Lorem', 'ipsum', 'odor', 'amet,', 'consectetuer', 'adipiscing', 'elit.', 'Libero', 'faucibus', 'et', 'sagittis', 'tellus', 'cursus', 'sagittis', 'at.']\n",
      "['Lorem', 'ipsum', 'odor', 'amet,', 'consectetuer', 'adipiscing elit. Libero faucibus et sagittis tellus cursus sagittis at.']\n",
      "['Python', 'Tutorial', 'Beginner', 'To', 'Advanced']\n",
      "Python\n",
      "Tutorial\n",
      "Beginner\n",
      "To\n",
      "Advanced\n",
      "\n",
      "['Lorem', 'ipsum', 'odor', 'amet,', 'consectetuer', 'adipiscing', 'elit.', 'Libero', 'faucibus', 'et', 'sagittis', 'tellus', 'cursus', 'sagittis', 'at.']\n",
      "['Lorem ipsum odor amet, consectetuer adipiscing elit. Libero faucibus et', 'sagittis', 'tellus', 'cursus', 'sagittis', 'at.']\n",
      "['Python', 'Tutorial', 'Beginner', 'To', 'Advanced']\n"
     ]
    }
   ],
   "source": [
    "text22 = \"Lorem ipsum odor amet, consectetuer adipiscing elit. Libero faucibus et sagittis tellus cursus sagittis at.\"\n",
    "text23= \"Python-Tutorial-Beginner-To-Advanced\"\n",
    "\n",
    "# str.split(sep, maxsplit)\n",
    "# Splits the string into a list of substrings using the specified separator (sep). \n",
    "# If no separator is provided, splits on whitespace. The optional maxsplit parameter limits the number of splits.\n",
    "print(text22.split())\n",
    "print(text22.split(maxsplit=5))\n",
    "print(text23.split(\"-\"))\n",
    "for item in text23.split(\"-\"):\n",
    "    print(item)\n",
    "\n",
    "print()\n",
    "# str.rsplit(sep, maxsplit)\n",
    "# Similar to split(), but splits from the right. \n",
    "# The optional maxsplit parameter limits the number of splits from the end of the string.\n",
    "print(text22.rsplit())\n",
    "print(text22.rsplit(maxsplit=5))\n",
    "print(text23.rsplit(\"-\"))"
   ]
  },
  {
   "cell_type": "code",
   "execution_count": 36,
   "metadata": {},
   "outputs": [
    {
     "name": "stdout",
     "output_type": "stream",
     "text": [
      "('Lorem', ' ', 'ipsum odor amet, consectetuer adipiscing elit. Libero faucibus et sagittis tellus cursus sagittis at.')\n",
      "('Python', '-', 'Tutorial-Beginner-To-Advanced')\n",
      "username of the email is \u001b[1mexp1\u001b[0m and the domain is \u001b[1mgmail.com\u001b[0m . Also of course email address contains the sign \u001b[1m@\u001b[0m \n",
      "\n",
      "('Python-Tutorial-Beginner-To', '-', 'Advanced')\n",
      "before: Python-Tutorial-Beginner-To\n",
      "partitionKey: -\n",
      "after: Advanced\n"
     ]
    }
   ],
   "source": [
    "# str.partition(sep)\n",
    "# Splits the string at the first occurrence of the specified separator (sep) and returns a tuple with three parts: \n",
    "# the part before the separator, \n",
    "# the separator itself, \n",
    "# and the part after the separator.\n",
    "print(text22.partition(\" \"))\n",
    "print(text23.partition(\"-\"))\n",
    "\n",
    "text24 = \"exp1@gmail.com\"\n",
    "username, atSign, domain = (text24.partition(\"@\"))\n",
    "print(f\"username of the email is \\033[1m{username}\\033[0m and the domain is \\033[1m{domain}\\033[0m . Also of course email address contains the sign \\033[1m{atSign}\\033[0m \")\n",
    "# ANSI escape codes, \n",
    "# '\\033[1m' for making bold \n",
    "# '\\033[0m' for ending styling \n",
    "\n",
    "print()\n",
    "# str.rpartition(sep)\n",
    "# Similar to partition(), but splits at the last occurrence of the specified separator (sep) and returns a tuple with three parts: \n",
    "# the part before the separator, \n",
    "# the separator itself, \n",
    "# and the part after the separator.\n",
    "print(text23.rpartition(\"-\"))\n",
    "before, partitionKey, after = text23.rpartition(\"-\")\n",
    "print(\"before:\", before)\n",
    "print(\"partitionKey:\", partitionKey)\n",
    "print(\"after:\", after)"
   ]
  },
  {
   "cell_type": "code",
   "execution_count": 42,
   "metadata": {},
   "outputs": [
    {
     "name": "stdout",
     "output_type": "stream",
     "text": [
      "['Lorem ipsum dolor sit amet, consectetur adipiscing elit, sed do eiusmod tempor incididunt ut labore et dolore magna aliqua. \\n', 'Ut enim ad minim veniam, quis nostrud exercitation ullamco laboris nisi ut aliquip ex ea commodo consequat. \\n', 'Duis aute irure dolor in reprehenderit in voluptate velit esse cillum dolore eu fugiat nulla pariatur. \\n', 'Excepteur sint occaecat cupidatat non proident, sunt in culpa qui officia deserunt mollit anim id est laborum.']\n",
      "Lorem ipsum dolor sit amet, consectetur adipiscing elit, sed do eiusmod tempor incididunt ut labore et dolore magna aliqua. \n",
      "Ut enim ad minim veniam, quis nostrud exercitation ullamco laboris nisi ut aliquip ex ea commodo consequat. \n",
      "Duis aute irure dolor in reprehenderit in voluptate velit esse cillum dolore eu fugiat nulla pariatur. \n",
      "Excepteur sint occaecat cupidatat non proident, sunt in culpa qui officia deserunt mollit anim id est laborum.\n",
      "\n",
      "Python-Tutorial-Beginner-To-Advanced\n",
      "['Python', 'Tutorial', 'Beginner', 'To', 'Advanced']\n",
      "PythonTutorialBeginnerToAdvanced\n",
      "Python*Tutorial*Beginner*To*Advanced\n",
      "Python Tutorial Beginner To Advanced\n"
     ]
    }
   ],
   "source": [
    "# str.splitlines([keepends])\n",
    "# Splits the string into a list of lines, breaking at line boundaries (\\n, \\r, etc.). \n",
    "# If keepends is True, the line endings are included in the results.\n",
    "text25 = \"\"\"Lorem ipsum dolor sit amet, consectetur adipiscing elit, sed do eiusmod tempor incididunt ut labore et dolore magna aliqua. \n",
    "Ut enim ad minim veniam, quis nostrud exercitation ullamco laboris nisi ut aliquip ex ea commodo consequat. \n",
    "Duis aute irure dolor in reprehenderit in voluptate velit esse cillum dolore eu fugiat nulla pariatur. \n",
    "Excepteur sint occaecat cupidatat non proident, sunt in culpa qui officia deserunt mollit anim id est laborum.\"\"\"\n",
    "print(text25.splitlines(True)) # kept lien endings \"\\n\" \n",
    "\n",
    "for item in text25.splitlines():\n",
    "    print(item)\n",
    "\n",
    "print()\n",
    "# str.join(iterable)\n",
    "# Joins the elements of an iterable (e.g., a list or tuple) into a single string, with the string as the separator between elements.\n",
    "print(text23)\n",
    "textList = text23.split(\"-\")\n",
    "print(textList)\n",
    "\n",
    "print(\"\".join(textList))\n",
    "print(\"*\".join(textList))\n",
    "print(\" \".join(textList))"
   ]
  },
  {
   "cell_type": "markdown",
   "metadata": {},
   "source": [
    "### Encoding and Decoding\n",
    "- str.encode()\n",
    "- str.decode()\n",
    "- str.ord()\n",
    "- str.chr()"
   ]
  },
  {
   "cell_type": "markdown",
   "metadata": {},
   "source": [
    "The data received from the serial is in byte format. For example, in order to process them as strings, it is necessary to decode them to UTF-8 format first. The decode() function is used here.\n"
   ]
  },
  {
   "cell_type": "code",
   "execution_count": 13,
   "metadata": {},
   "outputs": [
    {
     "name": "stdout",
     "output_type": "stream",
     "text": [
      "b'Hello'\n",
      "utf-8 encoded Hello: b'Hello'\n",
      "the type of encoded text is <class 'bytes'>\n",
      "\n",
      "Hello\n",
      "the type of decoded text is <class 'str'>\n",
      "\n",
      "72\n",
      "49\n",
      "220\n",
      "126\n",
      "\n",
      "H\n",
      "1\n",
      "Ü\n",
      "~\n"
     ]
    }
   ],
   "source": [
    "text26 = \"Hello\"\n",
    "byteArrayVersion = bytes(b\"Hello\") # it returns and immutable byte array of given byte string, don't mix these up.\n",
    "print(byteArrayVersion)\n",
    "\n",
    "# str.encode(encoding='utf-8', errors='strict')\n",
    "# Encodes a string into bytes using the specified encoding (default is UTF-8). \n",
    "# The errors parameter specifies how to handle encoding errors (e.g., 'ignore', 'replace', etc.).\n",
    "encodedText = text26.encode(\"utf-8\")\n",
    "print(f\"utf-8 encoded {text26}: {encodedText}\\nthe type of encoded text is {type(encodedText)}\")\n",
    "\n",
    "print()\n",
    "# bytes.decode(encoding='utf-8', errors='strict')\n",
    "# Decodes a bytes object into a string using the specified encoding (default is UTF-8). \n",
    "# The errors parameter specifies how to handle decoding errors.\n",
    "decodedText = encodedText.decode(\"utf-8\")\n",
    "print(decodedText)\n",
    "print(f\"the type of decoded text is {type(decodedText)}\")\n",
    "\n",
    "print()\n",
    "# ord(char)\n",
    "# Returns the Unicode code point (integer representation) of the given character char.\n",
    "print(ord(\"H\"))\n",
    "print(ord(\"1\"))\n",
    "print(ord(\"Ü\"))\n",
    "print(ord(\"~\"))\n",
    "\n",
    "print()\n",
    "# chr(i)\n",
    "# Returns the character corresponding to the Unicode code point i.\n",
    "print(chr(72))\n",
    "print(chr(49))\n",
    "print(chr(220))\n",
    "print(chr(126))"
   ]
  },
  {
   "cell_type": "markdown",
   "metadata": {},
   "source": [
    "## String Constant"
   ]
  },
  {
   "cell_type": "code",
   "execution_count": 35,
   "metadata": {},
   "outputs": [
    {
     "name": "stdout",
     "output_type": "stream",
     "text": [
      "Help on module string:\n",
      "\n",
      "NAME\n",
      "    string - A collection of string constants.\n",
      "\n",
      "MODULE REFERENCE\n",
      "    https://docs.python.org/3.12/library/string.html\n",
      "\n",
      "    The following documentation is automatically generated from the Python\n",
      "    source files.  It may be incomplete, incorrect or include features that\n",
      "    are considered implementation detail and may vary between Python\n",
      "    implementations.  When in doubt, consult the module reference at the\n",
      "    location listed above.\n",
      "\n",
      "DESCRIPTION\n",
      "    Public module variables:\n",
      "\n",
      "    whitespace -- a string containing all ASCII whitespace\n",
      "    ascii_lowercase -- a string containing all ASCII lowercase letters\n",
      "    ascii_uppercase -- a string containing all ASCII uppercase letters\n",
      "    ascii_letters -- a string containing all ASCII letters\n",
      "    digits -- a string containing all ASCII decimal digits\n",
      "    hexdigits -- a string containing all ASCII hexadecimal digits\n",
      "    octdigits -- a string containing all ASCII octal digits\n",
      "    punctuation -- a string containing all ASCII punctuation characters\n",
      "    printable -- a string containing all ASCII characters considered printable\n",
      "\n",
      "CLASSES\n",
      "    builtins.object\n",
      "        Formatter\n",
      "        Template\n",
      "\n",
      "    class Formatter(builtins.object)\n",
      "     |  Methods defined here:\n",
      "     |\n",
      "     |  check_unused_args(self, used_args, args, kwargs)\n",
      "     |\n",
      "     |  convert_field(self, value, conversion)\n",
      "     |\n",
      "     |  format(self, format_string, /, *args, **kwargs)\n",
      "     |\n",
      "     |  format_field(self, value, format_spec)\n",
      "     |\n",
      "     |  get_field(self, field_name, args, kwargs)\n",
      "     |      # given a field_name, find the object it references.\n",
      "     |      #  field_name:   the field being looked up, e.g. \"0.name\"\n",
      "     |      #                 or \"lookup[3]\"\n",
      "     |      #  used_args:    a set of which args have been used\n",
      "     |      #  args, kwargs: as passed in to vformat\n",
      "     |\n",
      "     |  get_value(self, key, args, kwargs)\n",
      "     |\n",
      "     |  parse(self, format_string)\n",
      "     |      # returns an iterable that contains tuples of the form:\n",
      "     |      # (literal_text, field_name, format_spec, conversion)\n",
      "     |      # literal_text can be zero length\n",
      "     |      # field_name can be None, in which case there's no\n",
      "     |      #  object to format and output\n",
      "     |      # if field_name is not None, it is looked up, formatted\n",
      "     |      #  with format_spec and conversion and then used\n",
      "     |\n",
      "     |  vformat(self, format_string, args, kwargs)\n",
      "     |\n",
      "     |  ----------------------------------------------------------------------\n",
      "     |  Data descriptors defined here:\n",
      "     |\n",
      "     |  __dict__\n",
      "     |      dictionary for instance variables\n",
      "     |\n",
      "     |  __weakref__\n",
      "     |      list of weak references to the object\n",
      "\n",
      "    class Template(builtins.object)\n",
      "     |  Template(template)\n",
      "     |\n",
      "     |  A string class for supporting $-substitutions.\n",
      "     |\n",
      "     |  Methods defined here:\n",
      "     |\n",
      "     |  __init__(self, template)\n",
      "     |      Initialize self.  See help(type(self)) for accurate signature.\n",
      "     |\n",
      "     |  get_identifiers(self)\n",
      "     |\n",
      "     |  is_valid(self)\n",
      "     |\n",
      "     |  safe_substitute(self, mapping={}, /, **kws)\n",
      "     |\n",
      "     |  substitute(self, mapping={}, /, **kws)\n",
      "     |\n",
      "     |  ----------------------------------------------------------------------\n",
      "     |  Class methods defined here:\n",
      "     |\n",
      "     |  __init_subclass__()\n",
      "     |      This method is called when a class is subclassed.\n",
      "     |\n",
      "     |      The default implementation does nothing. It may be\n",
      "     |      overridden to extend subclasses.\n",
      "     |\n",
      "     |  ----------------------------------------------------------------------\n",
      "     |  Data descriptors defined here:\n",
      "     |\n",
      "     |  __dict__\n",
      "     |      dictionary for instance variables\n",
      "     |\n",
      "     |  __weakref__\n",
      "     |      list of weak references to the object\n",
      "     |\n",
      "     |  ----------------------------------------------------------------------\n",
      "     |  Data and other attributes defined here:\n",
      "     |\n",
      "     |  braceidpattern = None\n",
      "     |\n",
      "     |  delimiter = '$'\n",
      "     |\n",
      "     |  flags = re.IGNORECASE\n",
      "     |\n",
      "     |  idpattern = '(?a:[_a-z][_a-z0-9]*)'\n",
      "     |\n",
      "     |  pattern = re.compile('\\n            \\\\$(?:\\n              ...identifie...\n",
      "\n",
      "FUNCTIONS\n",
      "    capwords(s, sep=None)\n",
      "        capwords(s [,sep]) -> string\n",
      "\n",
      "        Split the argument into words using split, capitalize each\n",
      "        word using capitalize, and join the capitalized words using\n",
      "        join.  If the optional second argument sep is absent or None,\n",
      "        runs of whitespace characters are replaced by a single space\n",
      "        and leading and trailing whitespace are removed, otherwise\n",
      "        sep is used to split and join the words.\n",
      "\n",
      "DATA\n",
      "    __all__ = ['ascii_letters', 'ascii_lowercase', 'ascii_uppercase', 'cap...\n",
      "    ascii_letters = 'abcdefghijklmnopqrstuvwxyzABCDEFGHIJKLMNOPQRSTUVWXYZ'\n",
      "    ascii_lowercase = 'abcdefghijklmnopqrstuvwxyz'\n",
      "    ascii_uppercase = 'ABCDEFGHIJKLMNOPQRSTUVWXYZ'\n",
      "    digits = '0123456789'\n",
      "    hexdigits = '0123456789abcdefABCDEF'\n",
      "    octdigits = '01234567'\n",
      "    printable = '0123456789abcdefghijklmnopqrstuvwxyzABCDEFGHIJKLMNOPQRSTU...\n",
      "    punctuation = '!\"#$%&\\'()*+,-./:;<=>?@[\\\\]^_`{|}~'\n",
      "    whitespace = ' \\t\\n\\r\\x0b\\x0c'\n",
      "\n",
      "FILE\n",
      "    /home/gokce/anaconda3/lib/python3.12/string.py\n",
      "\n",
      "\n"
     ]
    }
   ],
   "source": [
    "import string\n",
    "help(string)"
   ]
  },
  {
   "cell_type": "code",
   "execution_count": 39,
   "metadata": {},
   "outputs": [
    {
     "name": "stdout",
     "output_type": "stream",
     "text": [
      " \t\n",
      "\u000b\f\n",
      "\n",
      "abcdefghijklmnopqrstuvwxyz\n",
      "\n",
      "ABCDEFGHIJKLMNOPQRSTUVWXYZ\n",
      "\n",
      "abcdefghijklmnopqrstuvwxyzABCDEFGHIJKLMNOPQRSTUVWXYZ\n",
      "\n",
      "0123456789\n",
      "\n",
      "0123456789abcdefABCDEF\n",
      "\n",
      "01234567\n",
      "\n",
      "!\"#$%&'()*+,-./:;<=>?@[\\]^_`{|}~\n"
     ]
    }
   ],
   "source": [
    "print(string.whitespace)\n",
    "print()\n",
    "\n",
    "print(string.ascii_lowercase)\n",
    "print()\n",
    "\n",
    "print(string.ascii_uppercase)\n",
    "print()\n",
    "\n",
    "print(string.ascii_letters)\n",
    "print()\n",
    "\n",
    "print(string.digits)\n",
    "print()\n",
    "\n",
    "print(string.hexdigits)\n",
    "print()\n",
    "\n",
    "print(string.octdigits)\n",
    "print()\n",
    "\n",
    "print(string.punctuation)"
   ]
  },
  {
   "cell_type": "markdown",
   "metadata": {},
   "source": [
    "## ANSI Escape Codes"
   ]
  },
  {
   "cell_type": "markdown",
   "metadata": {},
   "source": [
    "This is a formatting system known as ANSI escape codes. It is used to format text in terminal outputs (for example, making text bold, italic, or adding color).\n",
    "\n",
    "The code you are using makes the text bold in the terminal.\n",
    "\n",
    "These codes typically work with Linux/MacOS terminals and ANSI-compatible tools. They may not be supported in some older terminals on Windows, but they work in modern versions (e.g., Windows Terminal).\n",
    "\n",
    "If you plan to use ANSI codes frequently in Python, a library (such as **colorama**) can make your job easier.\n",
    "\n",
    "You can see better results in the terminal."
   ]
  },
  {
   "cell_type": "markdown",
   "metadata": {},
   "source": [
    "### Text Style Codes "
   ]
  },
  {
   "cell_type": "code",
   "execution_count": 58,
   "metadata": {},
   "outputs": [
    {
     "name": "stdout",
     "output_type": "stream",
     "text": [
      "\u001b[1mHello\u001b[0m World\n",
      "\u001b[2mHello\u001b[0m World\n"
     ]
    }
   ],
   "source": [
    "# \\033[0m  # Reset all styles (normal text)\n",
    "\n",
    "# \\033[1m  # Bold text\n",
    "print(\"\\033[1mHello\\033[0m World\")\n",
    "\n",
    "# \\033[2m  # Dim (faint) text\n",
    "print(\"\\033[2m\"+ \"Hello\" + \"\\033[0m\" + \" World\")"
   ]
  },
  {
   "cell_type": "code",
   "execution_count": 67,
   "metadata": {},
   "outputs": [
    {
     "name": "stdout",
     "output_type": "stream",
     "text": [
      "\u001b[1mHello\u001b[0m World\n",
      "\u001b[2mHello\u001b[0m World\n",
      "\u001b[3mHello\u001b[0m World\n",
      "\u001b[4mHello\u001b[0m World\n",
      "\u001b[5mHello\u001b[0m World\n",
      "\u001b[6mHello\u001b[0m World\n",
      "\u001b[7mHello\u001b[0m World\n",
      "\u001b[8mHello\u001b[0m World\n",
      "\u001b[9mHello\u001b[0m World\n"
     ]
    }
   ],
   "source": [
    "# making them constant, directory object or class is better practice\n",
    "\n",
    "class TextStyle:\n",
    "    NOSTYLE         = \"\\033[0m\"\n",
    "    BOLD            = \"\\033[1m\"   # Bold text\n",
    "    FAINT           = \"\\033[2m\"   # Dim (faint) text\n",
    "    ITALIC          = \"\\033[3m\"   # Italic text\n",
    "    UNDERLINED      = \"\\033[4m\"   # Underlined text\n",
    "    SLOWBLINKING    = \"\\033[5m\"   # Blinking text (slow blink)\n",
    "    RAPIDBLINKING   = \"\\033[6m\"   # Blinking text (rapid blink)\n",
    "    SWAP_COLORS     = \"\\033[7m\"   # Inverted colors (swap foreground and background)\n",
    "    INVISIBLE       = \"\\033[8m\"   # Hidden text (invisible text)\n",
    "    STRIKETHROUGH   = \"\\033[9m\"   # Strikethrough text (crossed-out text)\n",
    "\n",
    "print(TextStyle.BOLD            + \"Hello\" + TextStyle.NOSTYLE + \" World\")\n",
    "print(TextStyle.FAINT           + \"Hello\" + TextStyle.NOSTYLE + \" World\")\n",
    "print(TextStyle.ITALIC          + \"Hello\" + TextStyle.NOSTYLE + \" World\")\n",
    "print(TextStyle.UNDERLINED      + \"Hello\" + TextStyle.NOSTYLE + \" World\")\n",
    "print(TextStyle.SLOWBLINKING    + \"Hello\" + TextStyle.NOSTYLE + \" World\")\n",
    "print(TextStyle.RAPIDBLINKING   + \"Hello\" + TextStyle.NOSTYLE + \" World\")\n",
    "print(TextStyle.SWAP_COLORS     + \"Hello\" + TextStyle.NOSTYLE + \" World\")\n",
    "print(TextStyle.INVISIBLE       + \"Hello\" + TextStyle.NOSTYLE + \" World\")\n",
    "print(TextStyle.STRIKETHROUGH   + \"Hello\" + TextStyle.NOSTYLE + \" World\")"
   ]
  },
  {
   "cell_type": "markdown",
   "metadata": {},
   "source": [
    "### Foreground Colors"
   ]
  },
  {
   "cell_type": "code",
   "execution_count": 69,
   "metadata": {},
   "outputs": [
    {
     "name": "stdout",
     "output_type": "stream",
     "text": [
      "\u001b[30mHello\u001b[0m World\n",
      "\u001b[31mHello\u001b[0m World\n",
      "\u001b[32mHello\u001b[0m World\n",
      "\u001b[33mHello\u001b[0m World\n",
      "\u001b[34mHello\u001b[0m World\n",
      "\u001b[35mHello\u001b[0m World\n",
      "\u001b[36mHello\u001b[0m World\n",
      "\u001b[37mHello\u001b[0m World\n",
      "\u001b[90mHello\u001b[0m World\n",
      "\u001b[91mHello\u001b[0m World\n",
      "\u001b[92mHello\u001b[0m World\n",
      "\u001b[93mHello\u001b[0m World\n",
      "\u001b[94mHello\u001b[0m World\n",
      "\u001b[95mHello\u001b[0m World\n",
      "\u001b[96mHello\u001b[0m World\n",
      "\u001b[97mHello\u001b[0m World\n"
     ]
    }
   ],
   "source": [
    "class ForegroundColor:\n",
    "    BLACK           = \"\\033[30m\"  # Black text\n",
    "    RED             = \"\\033[31m\"  # Red text\n",
    "    GREEN           = \"\\033[32m\"  # Green text\n",
    "    YELLOW          = \"\\033[33m\"  # Yellow text\n",
    "    BLUE            = \"\\033[34m\"  # Blue text\n",
    "    MAGENTA         = \"\\033[35m\"  # Magenta (purple) text\n",
    "    CYAN            = \"\\033[36m\"  # Cyan (aqua) text\n",
    "    WHITE           = \"\\033[37m\"  # White text\n",
    "    GRAY            = \"\\033[90m\"  # Bright black (gray) text\n",
    "    BRIGHT_RED      = \"\\033[91m\"  # Bright red text\n",
    "    BRIGHT_GREEN    = \"\\033[92m\"  # Bright green text\n",
    "    BRIGHT_YELLOW   = \"\\033[93m\"  # Bright yellow text\n",
    "    BRIGHT_BLUE     = \"\\033[94m\"  # Bright blue text\n",
    "    BRIGHT_MAGENTA  = \"\\033[95m\"  # Bright magenta text\n",
    "    BRIGHT_CYAN     = \"\\033[96m\"  # Bright cyan text\n",
    "    BRIGHT_WHITE    = \"\\033[97m\"  # Bright white text\n",
    "\n",
    "print(ForegroundColor.BLACK             + \"Hello\" + TextStyle.NOSTYLE + \" World\")\n",
    "print(ForegroundColor.RED               + \"Hello\" + TextStyle.NOSTYLE + \" World\")\n",
    "print(ForegroundColor.GREEN             + \"Hello\" + TextStyle.NOSTYLE + \" World\")\n",
    "print(ForegroundColor.YELLOW            + \"Hello\" + TextStyle.NOSTYLE + \" World\")\n",
    "print(ForegroundColor.BLUE              + \"Hello\" + TextStyle.NOSTYLE + \" World\")\n",
    "print(ForegroundColor.MAGENTA           + \"Hello\" + TextStyle.NOSTYLE + \" World\")\n",
    "print(ForegroundColor.CYAN              + \"Hello\" + TextStyle.NOSTYLE + \" World\")\n",
    "print(ForegroundColor.WHITE             + \"Hello\" + TextStyle.NOSTYLE + \" World\")\n",
    "print(ForegroundColor.GRAY              + \"Hello\" + TextStyle.NOSTYLE + \" World\")\n",
    "print(ForegroundColor.BRIGHT_RED        + \"Hello\" + TextStyle.NOSTYLE + \" World\")\n",
    "print(ForegroundColor.BRIGHT_GREEN      + \"Hello\" + TextStyle.NOSTYLE + \" World\")\n",
    "print(ForegroundColor.BRIGHT_YELLOW     + \"Hello\" + TextStyle.NOSTYLE + \" World\")\n",
    "print(ForegroundColor.BRIGHT_BLUE       + \"Hello\" + TextStyle.NOSTYLE + \" World\")\n",
    "print(ForegroundColor.BRIGHT_MAGENTA    + \"Hello\" + TextStyle.NOSTYLE + \" World\")\n",
    "print(ForegroundColor.BRIGHT_CYAN       + \"Hello\" + TextStyle.NOSTYLE + \" World\")\n",
    "print(ForegroundColor.BRIGHT_WHITE      + \"Hello\" + TextStyle.NOSTYLE + \" World\")\n"
   ]
  },
  {
   "cell_type": "markdown",
   "metadata": {},
   "source": [
    "### Background Colors"
   ]
  },
  {
   "cell_type": "code",
   "execution_count": 71,
   "metadata": {},
   "outputs": [
    {
     "name": "stdout",
     "output_type": "stream",
     "text": [
      "\u001b[40mHello\u001b[0m World\n",
      "\u001b[41mHello\u001b[0m World\n",
      "\u001b[42mHello\u001b[0m World\n",
      "\u001b[43mHello\u001b[0m World\n",
      "\u001b[44mHello\u001b[0m World\n",
      "\u001b[45mHello\u001b[0m World\n",
      "\u001b[46mHello\u001b[0m World\n",
      "\u001b[47mHello\u001b[0m World\n",
      "\u001b[100mHello\u001b[0m World\n",
      "\u001b[101mHello\u001b[0m World\n",
      "\u001b[102mHello\u001b[0m World\n",
      "\u001b[103mHello\u001b[0m World\n",
      "\u001b[104mHello\u001b[0m World\n",
      "\u001b[105mHello\u001b[0m World\n",
      "\u001b[106mHello\u001b[0m World\n",
      "\u001b[107mHello\u001b[0m World\n"
     ]
    }
   ],
   "source": [
    "class BackgroundColor:\n",
    "    BLACK=              \"\\033[40m\"     # Black background\n",
    "    RED =               \"\\033[41m\"     # Red background\n",
    "    GREEN =             \"\\033[42m\"     # Green background\n",
    "    YELLOW =            \"\\033[43m\"     # Yellow background\n",
    "    BLUE =              \"\\033[44m\"     # Blue background\n",
    "    MAGENTA=            \"\\033[45m\"     # Magenta (purple) background\n",
    "    CYAN =              \"\\033[46m\"     # Cyan (aqua) background\n",
    "    WHITE =             \"\\033[47m\"     # White background\n",
    "    GRAY=               \"\\033[100m\"    # Bright black (gray) background\n",
    "    BRIGHT_RED =        \"\\033[101m\"    # Bright red background\n",
    "    BRIGHT_GREEN =      \"\\033[102m\"    # Bright green background\n",
    "    BRIGHT_YELLOW =     \"\\033[103m\"    # Bright yellow background\n",
    "    BRIGHT_BLUE =       \"\\033[104m\"    # Bright blue background\n",
    "    BRIGHT_MAGENTA =    \"\\033[105m\"    # Bright magenta background\n",
    "    BRIGHT_CYAN =       \"\\033[106m\"    # Bright cyan background\n",
    "    BRIGHT_WHITE =      \"\\033[107m\"    # Bright white background\n",
    "\n",
    "print(BackgroundColor.BLACK             + \"Hello\" + TextStyle.NOSTYLE + \" World\")\n",
    "print(BackgroundColor.RED               + \"Hello\" + TextStyle.NOSTYLE + \" World\")\n",
    "print(BackgroundColor.GREEN             + \"Hello\" + TextStyle.NOSTYLE + \" World\")\n",
    "print(BackgroundColor.YELLOW            + \"Hello\" + TextStyle.NOSTYLE + \" World\")\n",
    "print(BackgroundColor.BLUE              + \"Hello\" + TextStyle.NOSTYLE + \" World\")\n",
    "print(BackgroundColor.MAGENTA           + \"Hello\" + TextStyle.NOSTYLE + \" World\")\n",
    "print(BackgroundColor.CYAN              + \"Hello\" + TextStyle.NOSTYLE + \" World\")\n",
    "print(BackgroundColor.WHITE             + \"Hello\" + TextStyle.NOSTYLE + \" World\")\n",
    "print(BackgroundColor.GRAY              + \"Hello\" + TextStyle.NOSTYLE + \" World\")\n",
    "print(BackgroundColor.BRIGHT_RED        + \"Hello\" + TextStyle.NOSTYLE + \" World\")\n",
    "print(BackgroundColor.BRIGHT_GREEN      + \"Hello\" + TextStyle.NOSTYLE + \" World\")\n",
    "print(BackgroundColor.BRIGHT_YELLOW     + \"Hello\" + TextStyle.NOSTYLE + \" World\")\n",
    "print(BackgroundColor.BRIGHT_BLUE       + \"Hello\" + TextStyle.NOSTYLE + \" World\")\n",
    "print(BackgroundColor.BRIGHT_MAGENTA    + \"Hello\" + TextStyle.NOSTYLE + \" World\")\n",
    "print(BackgroundColor.BRIGHT_CYAN       + \"Hello\" + TextStyle.NOSTYLE + \" World\")\n",
    "print(BackgroundColor.BRIGHT_WHITE      + \"Hello\" + TextStyle.NOSTYLE + \" World\")"
   ]
  },
  {
   "cell_type": "markdown",
   "metadata": {},
   "source": [
    "### Cursor Movement "
   ]
  },
  {
   "cell_type": "code",
   "execution_count": 78,
   "metadata": {},
   "outputs": [],
   "source": [
    "class CursorMovement:\n",
    "    UP              = \"\\033[A\"  # Move cursor up by 1 line\n",
    "    DOWN            = \"\\033[B\"  # Move cursor down by 1 line\n",
    "    RIGHT           = \"\\033[C\"  # Move cursor right by 1 character\n",
    "    LEFT            = \"\\033[D\"  # Move cursor left by 1 character\n",
    "    SAVE            = \"\\033[s\"  # Save current cursor position\n",
    "    RESTORE         = \"\\033[u\"  # Restore saved cursor position\n",
    "    CLEAR_SCREEN    = \"\\033[2J\" # Clear the entire screen\n",
    "    CLEAR_ENDLINE   = \"\\033[K\"  # Clear from cursor to the end of the line\n",
    "\n",
    "    def Move(n, m):\n",
    "        code = \"\\033[n;mH\"  # Move cursor to row n, column m\n",
    "        table = str.maketrans({\"n\": str(n), \"m\": str(m)})\n",
    "        moveANSI = code.translate(table)\n",
    "        return moveANSI\n",
    "    \n",
    "# result can't showned in notebook"
   ]
  },
  {
   "cell_type": "markdown",
   "metadata": {},
   "source": [
    "### Other Special Effects\n",
    "- \\033[?25l  # Hide cursor\n",
    "- \\033[?25h  # Show cursor\n",
    "- \\033[?1049h  # Switch to alternate screen buffer\n",
    "- \\033[?1049l  # Switch back to normal screen buffer"
   ]
  }
 ],
 "metadata": {
  "kernelspec": {
   "display_name": ".tutorialenv",
   "language": "python",
   "name": "python3"
  },
  "language_info": {
   "codemirror_mode": {
    "name": "ipython",
    "version": 3
   },
   "file_extension": ".py",
   "mimetype": "text/x-python",
   "name": "python",
   "nbconvert_exporter": "python",
   "pygments_lexer": "ipython3",
   "version": "3.12.7"
  }
 },
 "nbformat": 4,
 "nbformat_minor": 2
}
