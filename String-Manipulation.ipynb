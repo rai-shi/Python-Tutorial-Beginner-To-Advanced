{
 "cells": [
  {
   "cell_type": "markdown",
   "metadata": {},
   "source": [
    "# String Data Type"
   ]
  },
  {
   "cell_type": "markdown",
   "metadata": {},
   "source": [
    "## String Declaration"
   ]
  },
  {
   "cell_type": "code",
   "execution_count": 2,
   "metadata": {},
   "outputs": [],
   "source": [
    "# String variable can defining many way. \n",
    "\n",
    "char = 'a'\n",
    "\n",
    "char2 = \"A\"\n",
    "\n",
    "stringVar = 'Hello'\n",
    "\n",
    "stringVar2 = \"Hello\"\n",
    "\n",
    "\n",
    "# If there is multiline then use \"\"\" \"\"\" ''' '''\n",
    "\n",
    "stringVar3 = \"\"\"Lorem ipsum odor amet, consectetuer adipiscing elit. Libero faucibus et sagittis tellus cursus sagittis at. \n",
    "In suspendisse sem egestas finibus eu risus nunc ultrices. Ante primis commodo congue lectus imperdiet duis lacus cursus. \n",
    "Diam dis aliquam accumsan nisi suscipit est quis. Vel proin cubilia vel finibus congue amet efficitur sem.\"\"\"\n",
    "\n",
    "stringVar4 = '''Lorem ipsum odor amet, consectetuer adipiscing elit. Libero faucibus et sagittis tellus cursus sagittis at. \n",
    "In suspendisse sem egestas finibus eu risus nunc ultrices. Ante primis commodo congue lectus imperdiet duis lacus cursus. \n",
    "Diam dis aliquam accumsan nisi suscipit est quis. Vel proin cubilia vel finibus congue amet efficitur sem.'''\n",
    "\n",
    "\n",
    "# also strings can be craeted with string constructor\n",
    "\n",
    "stringVar5 = str()      # creates empty string as default\n",
    "\n",
    "stringVar6 = str(\"Hello World!\")\n",
    "\n",
    "stringVar7 = str('''Lorem ipsum odor amet, consectetuer adipiscing elit. Libero faucibus et sagittis tellus cursus sagittis at. \n",
    "In suspendisse sem egestas finibus eu risus nunc ultrices. Ante primis commodo congue lectus imperdiet duis lacus cursus. \n",
    "Diam dis aliquam accumsan nisi suscipit est quis. Vel proin cubilia vel finibus congue amet efficitur sem.''')"
   ]
  },
  {
   "cell_type": "markdown",
   "metadata": {},
   "source": [
    "## Basic String Usage"
   ]
  },
  {
   "cell_type": "code",
   "execution_count": null,
   "metadata": {},
   "outputs": [
    {
     "name": "stdout",
     "output_type": "stream",
     "text": [
      "H\n",
      "r\n",
      "\n",
      "12\n",
      "\n",
      "llo Wor\n",
      "HloWrd\n",
      "HloWrd\n",
      "!dlroW olleH\n",
      "\n",
      "H\n",
      "e\n",
      "l\n",
      "l\n",
      "o\n",
      " \n",
      "W\n",
      "o\n",
      "r\n",
      "l\n",
      "d\n",
      "!\n"
     ]
    }
   ],
   "source": [
    "myString = \"Hello World!\"\n",
    "\n",
    "# Accessing Characters \n",
    "# string[index]\n",
    "print(myString[0])\n",
    "print(myString[8])\n",
    "\n",
    "print()\n",
    "\n",
    "# Getting length of the string \n",
    "# len(string)\n",
    "strLength = len(myString)\n",
    "print(strLength)            # 12\n",
    "\n",
    "print()\n",
    "\n",
    "# Slicing \n",
    "# string[start:stop:step]   \n",
    "subStr = myString[2:9]      # default step is 1\n",
    "print(subStr)\n",
    "\n",
    "subStr2 = myString[0:12:2]\n",
    "print(subStr2)\n",
    "\n",
    "subStr3 = myString[::2]     # same as above\n",
    "print(subStr3)\n",
    "\n",
    "subStr4 = myString[::-1]    # Reverses the string by slicing it with a step of -1\n",
    "print(subStr4)\n",
    "\n",
    "print()\n",
    "\n",
    "# Iteration\n",
    "for char in myString:\n",
    "    print(char)"
   ]
  },
  {
   "cell_type": "markdown",
   "metadata": {},
   "source": [
    "## String Manipulation Functions"
   ]
  },
  {
   "cell_type": "markdown",
   "metadata": {},
   "source": [
    "### Converting and Formating"
   ]
  },
  {
   "cell_type": "markdown",
   "metadata": {},
   "source": [
    "#### str()"
   ]
  },
  {
   "cell_type": "code",
   "execution_count": 26,
   "metadata": {},
   "outputs": [
    {
     "name": "stdout",
     "output_type": "stream",
     "text": [
      "1 <class 'str'>\n",
      "False <class 'str'>\n",
      "(2+3j) <class 'str'>\n",
      "b'\\x01\\x02\\x03' <class 'str'>\n",
      "\n",
      "False length: 5 \n",
      " alse\n",
      "\n",
      "(2+3j) length: 6 \n",
      " )j3+2(\n",
      "\n",
      "b'\\x01\\x02\\x03' length: 15 \n",
      " '0\\0\\0\\b\n"
     ]
    }
   ],
   "source": [
    "# str()\n",
    "# str() constructor function also work as a type converter \n",
    "\n",
    "exp1 = str(1)\n",
    "print(exp1, type(exp1))\n",
    "\n",
    "exp2 = str(False)\n",
    "print(exp2, type(exp2))\n",
    "\n",
    "exp3 = str(2+3j)\n",
    "print(exp3, type(exp3))\n",
    "\n",
    "exp4 = str(b'\\x01\\x02\\x03')\n",
    "print(exp4, type(exp4))\n",
    "\n",
    "print()\n",
    "\n",
    "print(exp2, \"length:\", len(exp2), \"\\n\", exp2[1:])\n",
    "\n",
    "print()\n",
    "\n",
    "print(exp3, \"length:\", len(exp3), \"\\n\", exp3[::-1])\n",
    "\n",
    "print()\n",
    "\n",
    "print(exp4, \"length:\", len(exp4), \"\\n\", exp4[::-2])"
   ]
  },
  {
   "cell_type": "markdown",
   "metadata": {},
   "source": [
    "#### Formating Functions"
   ]
  },
  {
   "cell_type": "code",
   "execution_count": 35,
   "metadata": {},
   "outputs": [
    {
     "name": "stdout",
     "output_type": "stream",
     "text": [
      "Name: Rai, Surname: Shi, Age: 24\n",
      "Name: {}, Surname: {}, Age: {}\n",
      "\n",
      "Name: Rai, Surname: Shi, Age: 24\n",
      "\n",
      "Name: Rai, Surname: Shi, Age: 24, Debt: 56.800000\n",
      "Name: Rai, Surname: Shi, Age: 24, Debt: 56.800\n"
     ]
    }
   ],
   "source": [
    "# formating functions is used for inserting variables into a string.\n",
    "\n",
    "name    = \"Rai\"\n",
    "surname = \"Shi\"\n",
    "age     = 24\n",
    "\n",
    "# format()\n",
    "person = \"Name: {}, Surname: {}, Age: {}\".format(name, surname, age)\n",
    "print(person)\n",
    "\n",
    "person2 = \"Name: {}, Surname: {}, Age: {}\"\n",
    "person2.format(name, surname, age)\n",
    "print(person2)\n",
    "\n",
    "print()\n",
    "\n",
    "# f-strings (Python 3.6+).\n",
    "\n",
    "person3 = f\"Name: {name}, Surname: {surname}, Age: {age}\"\n",
    "print(person3)\n",
    "\n",
    "print()\n",
    "\n",
    "# % formating (old one)\n",
    "# \"%[converting type]\" % (variables)\n",
    "debt    = 56.8\n",
    "person4 = \"Name: %s, Surname: %s, Age: %d, Debt: %f\" % (name, surname, age, debt)\n",
    "print(person4)\n",
    "\n",
    "person5 = \"Name: %s, Surname: %s, Age: %d, Debt: %.3f\" % (name, surname, age, debt)\n",
    "print(person5)"
   ]
  },
  {
   "cell_type": "markdown",
   "metadata": {},
   "source": [
    "##### Old formating type "
   ]
  },
  {
   "cell_type": "markdown",
   "metadata": {},
   "source": [
    "| **Conversion Type** | **Description**                              | **Example Usage**          | **Result**           |\n",
    "|----------------------|----------------------------------------------|-----------------------------|-----------------------|\n",
    "| `%s`                | String. Represents any object as a string.   | `\"Name: %s\" % \"John\"`       | `Name: John`         |\n",
    "| `%d`                | Integer. Represents whole numbers.           | `\"Age: %d\" % 25`            | `Age: 25`            |\n",
    "| `%i`                | Integer. Same as `%d`.                       | `\"Value: %i\" % 42`          | `Value: 42`          |\n",
    "| `%f`                | Float. Displays decimal numbers (6 digits precision by default). | `\"Price: %f\" % 5.75` | `Price: 5.750000`    |\n",
    "| `%.nf`              | Float. Decimal numbers with `n` digits precision. | `\"%.2f\" % 3.14159`    | `3.14`               |\n",
    "| `%e`                | Float. Scientific notation (exponential).    | `\"Value: %e\" % 1234.56`     | `Value: 1.234560e+03`|\n",
    "| `%E`                | Float. Scientific notation with uppercase `E`. | `\"Value: %E\" % 1234.56`  | `Value: 1.234560E+03`|\n",
    "| `%o`                | Octal (base 8).                              | `\"Octal: %o\" % 8`           | `Octal: 10`          |\n",
    "| `%x`                | Hexadecimal (base 16, lowercase).            | `\"Hex: %x\" % 255`           | `Hex: ff`            |\n",
    "| `%X`                | Hexadecimal (base 16, uppercase).            | `\"Hex: %X\" % 255`           | `Hex: FF`            |\n",
    "| `%c`                | Character. Represents the ASCII character corresponding to an integer. | `\"Char: %c\" % 65`  | `Char: A`           |\n"
   ]
  },
  {
   "cell_type": "markdown",
   "metadata": {},
   "source": [
    "#### zfill(width): Stringi sıfırlarla doldurma."
   ]
  },
  {
   "cell_type": "markdown",
   "metadata": {},
   "source": [
    "### Upper-Lower Case Functions "
   ]
  },
  {
   "cell_type": "markdown",
   "metadata": {},
   "source": [
    "h4\n",
    "\n",
    "lower(): Tüm harfleri küçültür.\n",
    "upper(): Tüm harfleri büyütür.\n",
    "capitalize(): İlk harfi büyütür.\n",
    "title(): Her kelimenin ilk harfini büyütür.\n",
    "swapcase(): Büyük harfleri küçük, küçük harfleri büyük yapar."
   ]
  },
  {
   "cell_type": "markdown",
   "metadata": {},
   "source": []
  }
 ],
 "metadata": {
  "kernelspec": {
   "display_name": ".tutorialenv",
   "language": "python",
   "name": "python3"
  },
  "language_info": {
   "codemirror_mode": {
    "name": "ipython",
    "version": 3
   },
   "file_extension": ".py",
   "mimetype": "text/x-python",
   "name": "python",
   "nbconvert_exporter": "python",
   "pygments_lexer": "ipython3",
   "version": "3.12.7"
  }
 },
 "nbformat": 4,
 "nbformat_minor": 2
}
